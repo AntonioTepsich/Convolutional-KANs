{
 "cells": [
  {
   "cell_type": "code",
   "execution_count": 1,
   "metadata": {},
   "outputs": [],
   "source": [
    "%load_ext autoreload\n",
    "%autoreload 2\n",
    "from kan_convolutional.KANConv import KAN_Convolutional_Layer\n",
    "import torch\n",
    "\n",
    "import numpy as np"
   ]
  },
  {
   "cell_type": "code",
   "execution_count": 2,
   "metadata": {},
   "outputs": [],
   "source": [
    "conv1 = KAN_Convolutional_Layer(\n",
    "            n_convs = 2,\n",
    "            kernel_size= (2,2),\n",
    "            grid_size = 5\n",
    "        )\n",
    "\n",
    "im1 = [[[1,1],[1,1]],[[0,0],[1,0]],[[0,1],[1,0]]]\n",
    "im2 = [[[0,0],[0,0]],[[2,3],[1,4]],[[2,1],[1,0]]]\n",
    "inp = torch.tensor([im1,im2],dtype=torch.float32)"
   ]
  },
  {
   "cell_type": "code",
   "execution_count": 3,
   "metadata": {},
   "outputs": [
    {
     "data": {
      "text/plain": [
       "tensor([[[[-5.9477e-01]],\n",
       "\n",
       "         [[-2.9998e-01]],\n",
       "\n",
       "         [[-5.4484e-01]],\n",
       "\n",
       "         [[-5.3805e-02]],\n",
       "\n",
       "         [[-5.4545e-02]],\n",
       "\n",
       "         [[-6.2130e-02]]],\n",
       "\n",
       "\n",
       "        [[[ 6.4997e-04]],\n",
       "\n",
       "         [[-1.3454e+00]],\n",
       "\n",
       "         [[-6.9291e-01]],\n",
       "\n",
       "         [[ 1.2492e-03]],\n",
       "\n",
       "         [[ 4.1192e-01]],\n",
       "\n",
       "         [[-4.3015e-01]]]], grad_fn=<CopySlices>)"
      ]
     },
     "execution_count": 3,
     "metadata": {},
     "output_type": "execute_result"
    }
   ],
   "source": [
    "conv1.forward(inp)"
   ]
  },
  {
   "cell_type": "code",
   "execution_count": null,
   "metadata": {},
   "outputs": [],
   "source": []
  },
  {
   "cell_type": "code",
   "execution_count": null,
   "metadata": {},
   "outputs": [],
   "source": []
  }
 ],
 "metadata": {
  "kernelspec": {
   "display_name": "base",
   "language": "python",
   "name": "python3"
  },
  "language_info": {
   "codemirror_mode": {
    "name": "ipython",
    "version": 3
   },
   "file_extension": ".py",
   "mimetype": "text/x-python",
   "name": "python",
   "nbconvert_exporter": "python",
   "pygments_lexer": "ipython3",
   "version": "3.11.4"
  }
 },
 "nbformat": 4,
 "nbformat_minor": 2
}

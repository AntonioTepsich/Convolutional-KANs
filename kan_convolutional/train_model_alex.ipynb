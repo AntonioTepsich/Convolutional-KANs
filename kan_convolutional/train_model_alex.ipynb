{
 "cells": [
  {
   "cell_type": "code",
   "execution_count": 57,
   "metadata": {},
   "outputs": [],
   "source": [
    "import torch\n",
    "import torch.nn as nn\n",
    "import torch.optim as optim\n",
    "import torchvision.transforms as transforms\n",
    "from torchvision.datasets import MNIST\n",
    "from torch.utils.data import DataLoader\n",
    "from tqdm import tqdm\n",
    "from sklearn.metrics import precision_score, recall_score, f1_score\n",
    "\n",
    "import KAN_Network\n",
    "from torchvision.datasets import MNIST, FashionMNIST\n",
    "from KANConv import KAN_Convolutional_Layer, KANLinear\n"
   ]
  },
  {
   "cell_type": "code",
   "execution_count": 59,
   "metadata": {},
   "outputs": [
    {
     "ename": "ValueError",
     "evalue": "The original URL is broken so the StanfordCars dataset is not available for automatic download anymore. You can try to download it manually following https://github.com/pytorch/vision/issues/7545#issuecomment-1631441616, and set download=False to avoid this error.",
     "output_type": "error",
     "traceback": [
      "\u001b[1;31m---------------------------------------------------------------------------\u001b[0m",
      "\u001b[1;31mValueError\u001b[0m                                Traceback (most recent call last)",
      "Cell \u001b[1;32mIn[59], line 5\u001b[0m\n\u001b[0;32m      2\u001b[0m transform \u001b[38;5;241m=\u001b[39m transforms\u001b[38;5;241m.\u001b[39mCompose([transforms\u001b[38;5;241m.\u001b[39mToTensor(), transforms\u001b[38;5;241m.\u001b[39mNormalize((\u001b[38;5;241m0.5\u001b[39m,), (\u001b[38;5;241m0.5\u001b[39m,))])\n\u001b[0;32m      4\u001b[0m \u001b[38;5;66;03m# Cargar MNIST y filtrar por dos clases\u001b[39;00m\n\u001b[1;32m----> 5\u001b[0m mnist_train \u001b[38;5;241m=\u001b[39m \u001b[43mStanfordCars\u001b[49m\u001b[43m(\u001b[49m\u001b[43mroot\u001b[49m\u001b[38;5;241;43m=\u001b[39;49m\u001b[38;5;124;43m'\u001b[39;49m\u001b[38;5;124;43m./data\u001b[39;49m\u001b[38;5;124;43m'\u001b[39;49m\u001b[43m,\u001b[49m\u001b[43m \u001b[49m\u001b[43msplit\u001b[49m\u001b[38;5;241;43m=\u001b[39;49m\u001b[38;5;124;43m\"\u001b[39;49m\u001b[38;5;124;43mtrain\u001b[39;49m\u001b[38;5;124;43m\"\u001b[39;49m\u001b[43m,\u001b[49m\u001b[43m \u001b[49m\u001b[43mdownload\u001b[49m\u001b[38;5;241;43m=\u001b[39;49m\u001b[38;5;28;43;01mTrue\u001b[39;49;00m\u001b[43m,\u001b[49m\u001b[43m \u001b[49m\u001b[43mtransform\u001b[49m\u001b[38;5;241;43m=\u001b[39;49m\u001b[43mtransform\u001b[49m\u001b[43m)\u001b[49m\n\u001b[0;32m      7\u001b[0m mnist_test \u001b[38;5;241m=\u001b[39m StanfordCars(root\u001b[38;5;241m=\u001b[39m\u001b[38;5;124m'\u001b[39m\u001b[38;5;124m./data\u001b[39m\u001b[38;5;124m'\u001b[39m, split\u001b[38;5;241m=\u001b[39m\u001b[38;5;124m\"\u001b[39m\u001b[38;5;124mtest\u001b[39m\u001b[38;5;124m\"\u001b[39m, download\u001b[38;5;241m=\u001b[39m\u001b[38;5;28;01mTrue\u001b[39;00m, transform\u001b[38;5;241m=\u001b[39mtransform)\n\u001b[0;32m      9\u001b[0m \u001b[38;5;66;03m# DataLoader\u001b[39;00m\n",
      "File \u001b[1;32mc:\\Users\\alex_\\miniconda3\\Lib\\site-packages\\torchvision\\datasets\\stanford_cars.py:64\u001b[0m, in \u001b[0;36mStanfordCars.__init__\u001b[1;34m(self, root, split, transform, target_transform, download)\u001b[0m\n\u001b[0;32m     61\u001b[0m     \u001b[38;5;28mself\u001b[39m\u001b[38;5;241m.\u001b[39m_images_base_path \u001b[38;5;241m=\u001b[39m \u001b[38;5;28mself\u001b[39m\u001b[38;5;241m.\u001b[39m_base_folder \u001b[38;5;241m/\u001b[39m \u001b[38;5;124m\"\u001b[39m\u001b[38;5;124mcars_test\u001b[39m\u001b[38;5;124m\"\u001b[39m\n\u001b[0;32m     63\u001b[0m \u001b[38;5;28;01mif\u001b[39;00m download:\n\u001b[1;32m---> 64\u001b[0m     \u001b[38;5;28;43mself\u001b[39;49m\u001b[38;5;241;43m.\u001b[39;49m\u001b[43mdownload\u001b[49m\u001b[43m(\u001b[49m\u001b[43m)\u001b[49m\n\u001b[0;32m     66\u001b[0m \u001b[38;5;28;01mif\u001b[39;00m \u001b[38;5;129;01mnot\u001b[39;00m \u001b[38;5;28mself\u001b[39m\u001b[38;5;241m.\u001b[39m_check_exists():\n\u001b[0;32m     67\u001b[0m     \u001b[38;5;28;01mraise\u001b[39;00m \u001b[38;5;167;01mRuntimeError\u001b[39;00m(\n\u001b[0;32m     68\u001b[0m         \u001b[38;5;124m\"\u001b[39m\u001b[38;5;124mDataset not found. Try to manually download following the instructions in \u001b[39m\u001b[38;5;124m\"\u001b[39m\n\u001b[0;32m     69\u001b[0m         \u001b[38;5;124m\"\u001b[39m\u001b[38;5;124mhttps://github.com/pytorch/vision/issues/7545#issuecomment-1631441616.\u001b[39m\u001b[38;5;124m\"\u001b[39m\n\u001b[0;32m     70\u001b[0m     )\n",
      "File \u001b[1;32mc:\\Users\\alex_\\miniconda3\\Lib\\site-packages\\torchvision\\datasets\\stanford_cars.py:104\u001b[0m, in \u001b[0;36mStanfordCars.download\u001b[1;34m(self)\u001b[0m\n\u001b[0;32m    103\u001b[0m \u001b[38;5;28;01mdef\u001b[39;00m \u001b[38;5;21mdownload\u001b[39m(\u001b[38;5;28mself\u001b[39m):\n\u001b[1;32m--> 104\u001b[0m     \u001b[38;5;28;01mraise\u001b[39;00m \u001b[38;5;167;01mValueError\u001b[39;00m(\n\u001b[0;32m    105\u001b[0m         \u001b[38;5;124m\"\u001b[39m\u001b[38;5;124mThe original URL is broken so the StanfordCars dataset is not available for automatic \u001b[39m\u001b[38;5;124m\"\u001b[39m\n\u001b[0;32m    106\u001b[0m         \u001b[38;5;124m\"\u001b[39m\u001b[38;5;124mdownload anymore. You can try to download it manually following \u001b[39m\u001b[38;5;124m\"\u001b[39m\n\u001b[0;32m    107\u001b[0m         \u001b[38;5;124m\"\u001b[39m\u001b[38;5;124mhttps://github.com/pytorch/vision/issues/7545#issuecomment-1631441616, \u001b[39m\u001b[38;5;124m\"\u001b[39m\n\u001b[0;32m    108\u001b[0m         \u001b[38;5;124m\"\u001b[39m\u001b[38;5;124mand set download=False to avoid this error.\u001b[39m\u001b[38;5;124m\"\u001b[39m\n\u001b[0;32m    109\u001b[0m     )\n",
      "\u001b[1;31mValueError\u001b[0m: The original URL is broken so the StanfordCars dataset is not available for automatic download anymore. You can try to download it manually following https://github.com/pytorch/vision/issues/7545#issuecomment-1631441616, and set download=False to avoid this error."
     ]
    }
   ],
   "source": [
    "# Transformaciones\n",
    "transform = transforms.Compose([transforms.ToTensor(), transforms.Normalize((0.5,), (0.5,))])\n",
    "\n",
    "# Cargar MNIST y filtrar por dos clases\n",
    "mnist_train = FashionMNIST(root='./data', train=True, download=True, transform=transform)\n",
    "\n",
    "mnist_test = FashionMNIST(root='./data', train=False, download=True, transform=transform)\n",
    "\n",
    "# DataLoader\n",
    "train_loader = DataLoader(mnist_train, batch_size=64, shuffle=True)\n",
    "test_loader = DataLoader(mnist_test, batch_size=64, shuffle=False)"
   ]
  },
  {
   "cell_type": "code",
   "execution_count": 4,
   "metadata": {},
   "outputs": [],
   "source": [
    "def train(model, device, train_loader, optimizer, epoch, criterion):\n",
    "    # Set the model to training mode\n",
    "    model.to(device)\n",
    "    model.train()\n",
    "    train_loss = 0\n",
    "    print(\"Epoch:\", epoch)\n",
    "    # Process the images in batches\n",
    "    for batch_idx, (data, target) in enumerate(tqdm(train_loader)):\n",
    "        # Use the CPU or GPU as appropriate\n",
    "        # Recall that GPU is optimized for the operations we are dealing with\n",
    "        data, target = data.to(device), target.to(device)\n",
    "        \n",
    "        # Reset the optimizer\n",
    "        optimizer.zero_grad()\n",
    "        \n",
    "        # Push the data forward through the model layers\n",
    "        output = model(data)\n",
    "        \n",
    "        # Get the loss\n",
    "        loss = criterion(output, target)\n",
    "\n",
    "        # Keep a running total\n",
    "        train_loss += loss.item()\n",
    "        \n",
    "        # Backpropagate\n",
    "        loss.backward()\n",
    "        optimizer.step()\n",
    "        \n",
    "    # return average loss for the epoch\n",
    "    avg_loss = train_loss / (batch_idx+1)\n",
    "    print('Training set: Average loss: {:.6f}'.format(avg_loss))\n",
    "    return avg_loss\n",
    "\n",
    "def test(model, device, test_loader, criterion):\n",
    "    # Switch the model to evaluation mode\n",
    "    model.eval()\n",
    "    test_loss = 0\n",
    "    correct = 0\n",
    "    all_targets = []\n",
    "    all_predictions = []\n",
    "    \n",
    "    with torch.no_grad():\n",
    "        for data, target in test_loader:\n",
    "            data, target = data.to(device), target.to(device)\n",
    "            \n",
    "            # Get the predicted classes for this batch\n",
    "            output = model(data)\n",
    "            \n",
    "            # Calculate the loss for this batch\n",
    "            test_loss += criterion(output, target).item()\n",
    "            \n",
    "            # Calculate the accuracy for this batch\n",
    "            _, predicted = torch.max(output.data, 1)\n",
    "            correct += (target == predicted).sum().item()\n",
    "\n",
    "            # Collect all targets and predictions for metric calculations\n",
    "            all_targets.extend(target.view_as(predicted).cpu().numpy())\n",
    "            all_predictions.extend(predicted.cpu().numpy())\n",
    "\n",
    "    # Calculate overall metrics\n",
    "    precision = precision_score(all_targets, all_predictions, average='macro')\n",
    "    recall = recall_score(all_targets, all_predictions, average='macro')\n",
    "    f1 = f1_score(all_targets, all_predictions, average='macro')\n",
    "\n",
    "    # Normalize test loss\n",
    "    test_loss /= len(test_loader.dataset)\n",
    "    accuracy = 100. * correct / len(test_loader.dataset)\n",
    "\n",
    "    print('\\nTest set: Average loss: {:.4f}, Accuracy: {}/{} ({:.0f}%), Precision: {:.2f}, Recall: {:.2f}, F1 Score: {:.2f}\\n'.format(\n",
    "        test_loss, correct, len(test_loader.dataset), accuracy, precision, recall, f1))\n",
    "\n",
    "    return test_loss, accuracy, precision, recall, f1"
   ]
  },
  {
   "cell_type": "markdown",
   "metadata": {},
   "source": [
    "## Modelos Comunes"
   ]
  },
  {
   "cell_type": "code",
   "execution_count": 51,
   "metadata": {},
   "outputs": [],
   "source": [
    "import torch.nn.functional as F\n",
    "\n",
    "class SimpleCNN(nn.Module):\n",
    "    def __init__(self):\n",
    "        super(SimpleCNN, self).__init__()\n",
    "        # Capa convolucional, asumiendo una entrada con 1 canal (imagen en escala de grises)\n",
    "        # y produciendo 16 canales de salida, con un kernel de tamaño 3x3\n",
    "        self.conv1 = nn.Conv2d(1, 16, kernel_size=2, padding=1)\n",
    "        \n",
    "        # Capa de MaxPooling, utilizando un kernel de tamaño 2x2\n",
    "        self.maxpool = nn.MaxPool2d(kernel_size=2)\n",
    "        \n",
    "        # Capa lineal (Fully Connected)\n",
    "        # Suponiendo una entrada de imagen de tamaño 28x28, después de conv y maxpool, será 14x14\n",
    "        self.flatten = nn.Flatten()\n",
    "        self.fc = nn.Linear(16 * 14 * 14, 10)\n",
    "\n",
    "    def forward(self, x):\n",
    "        # Aplicar la capa convolucional seguida de activación ReLU\n",
    "        x = F.relu(self.conv1(x))\n",
    "        # Aplicar max pooling\n",
    "        x = self.maxpool(x)\n",
    "        # Aplanar los datos\n",
    "        x = self.flatten(x)\n",
    "        # Capa lineal con 10 salidas\n",
    "        x = self.fc(x)\n",
    "        return x\n",
    "\n",
    "class SimpleLinear(nn.Module):\n",
    "    def __init__(self):\n",
    "        super(SimpleLinear, self).__init__()\n",
    "        # Definir una sola capa lineal con 'input_features' entradas y 10 salidas\n",
    "        self.linear = nn.Linear(28*28, 10)\n",
    "        self.flatten = nn.Flatten()\n",
    "\n",
    "\n",
    "    def forward(self, x):\n",
    "        # Pasar los datos a través de la capa lineal\n",
    "        x = self.flatten(x)\n",
    "        x = self.linear(x)\n",
    "        return x\n",
    "\n",
    "class ConvNet(nn.Module):\n",
    "    def __init__(self):\n",
    "        super(ConvNet, self).__init__()\n",
    "        # Primera capa convolucional y segunda con el mismo padding y tamaño de kernel\n",
    "        self.conv1 = nn.Conv2d(1, 32, kernel_size=5, padding='same')\n",
    "        self.conv2 = nn.Conv2d(32, 32, kernel_size=5, padding='same')\n",
    "\n",
    "        # Segunda serie de capas convolucionales\n",
    "        self.conv3 = nn.Conv2d(32, 64, kernel_size=3, padding='same')\n",
    "        self.conv4 = nn.Conv2d(64, 64, kernel_size=3, padding='same')\n",
    "\n",
    "        # Capas de MaxPooling\n",
    "        self.maxpool = nn.MaxPool2d(kernel_size=2, stride=2)\n",
    "\n",
    "        # Capas de Dropout\n",
    "        self.dropout1 = nn.Dropout(0.25)\n",
    "        self.dropout2 = nn.Dropout(0.25)\n",
    "        self.dropout3 = nn.Dropout(0.5)\n",
    "\n",
    "        # Capa completamente conectada\n",
    "        self.fc1 = nn.Linear(64 * 7 * 7, 256)  # 64 canales, tamaño de imagen reducido a 7x7\n",
    "        self.fc2 = nn.Linear(256, 10)\n",
    "\n",
    "    def forward(self, x):\n",
    "        # Aplicar las primeras capas convolucionales y pooling\n",
    "        x = F.relu(self.conv1(x))\n",
    "        x = F.relu(self.conv2(x))\n",
    "        x = self.maxpool(x)\n",
    "        x = self.dropout1(x)\n",
    "\n",
    "        # Aplicar las segundas capas convolucionales y pooling\n",
    "        x = F.relu(self.conv3(x))\n",
    "        x = F.relu(self.conv4(x))\n",
    "        x = self.maxpool(x)\n",
    "        x = self.dropout2(x)\n",
    "\n",
    "        # Aplanar los datos para la entrada a las capas densas\n",
    "        x = torch.flatten(x, 1)  # Aplanar todo excepto el batch\n",
    "        x = F.relu(self.fc1(x))\n",
    "        x = self.dropout3(x)\n",
    "        x = self.fc2(x)\n",
    "\n",
    "        # Aplicar softmax para obtener las probabilidades de las clases\n",
    "        x = F.log_softmax(x, dim=1)\n",
    "        return x\n"
   ]
  },
  {
   "cell_type": "markdown",
   "metadata": {},
   "source": [
    "## Modelos Propios"
   ]
  },
  {
   "cell_type": "code",
   "execution_count": 52,
   "metadata": {},
   "outputs": [],
   "source": [
    "\n",
    "class KAN_CONVS_2Kan_linears(nn.Module):\n",
    "    def __init__(self,device  = \"cuda\"):\n",
    "        super().__init__()\n",
    "        self.conv1 = KAN_Convolutional_Layer(\n",
    "            n_convs = 2,\n",
    "            kernel_size= (2,2),\n",
    "            stride =  (1,1),\n",
    "            padding=(0,0),\n",
    "            grid_size=5,\n",
    "            spline_order=3,\n",
    "            scale_noise=0.1,\n",
    "            scale_base=1.0,\n",
    "            scale_spline=1.0,\n",
    "            base_activation=torch.nn.SiLU,\n",
    "            grid_eps=0.02,\n",
    "            grid_range=[-1, 1],\n",
    "            device = device\n",
    "        )\n",
    "\n",
    "        self.conv2 = KAN_Convolutional_Layer(\n",
    "            n_convs = 2,\n",
    "            kernel_size= (2,2),\n",
    "            stride =  (1,1),\n",
    "            padding=(0,0),\n",
    "            grid_size=7,\n",
    "            spline_order=3,\n",
    "            scale_noise=0.1,\n",
    "            scale_base=1.0,\n",
    "            scale_spline=1.0,\n",
    "            base_activation=torch.nn.SiLU,\n",
    "            grid_eps=0.02,\n",
    "            grid_range=[-1, 1],\n",
    "            device = device\n",
    "        )\n",
    "\n",
    "        self.pool1 = nn.MaxPool2d(kernel_size=(2, 2))\n",
    "        \n",
    "        self.flat = nn.Flatten() \n",
    "        \n",
    "        self.kan1 = KANLinear(\n",
    "            144,\n",
    "            20,\n",
    "            grid_size=10,\n",
    "            spline_order=3,\n",
    "            scale_noise=0.01,\n",
    "            scale_base=1,\n",
    "            scale_spline=1,\n",
    "            base_activation=nn.SiLU,\n",
    "            grid_eps=0.02,\n",
    "            grid_range=[0,1],\n",
    "        )\n",
    "        self.kan2 = KANLinear(\n",
    "            20,\n",
    "            10,\n",
    "            grid_size=10,\n",
    "            spline_order=3,\n",
    "            scale_noise=0.01,\n",
    "            scale_base=1,\n",
    "            scale_spline=1,\n",
    "            base_activation=nn.SiLU,\n",
    "            grid_eps=0.02,\n",
    "            grid_range=[0,1],\n",
    "        )\n",
    "\n",
    "\n",
    "    def forward(self, x):\n",
    "        x = self.conv1(x)\n",
    "\n",
    "        x = self.pool1(x)\n",
    "\n",
    "        x = self.conv2(x)\n",
    "        x = self.pool1(x)\n",
    "        x = self.flat(x)\n",
    "    \n",
    "        x = self.kan1(x) \n",
    "        x = self.kan2(x)\n",
    "        return x\n",
    "    "
   ]
  },
  {
   "cell_type": "code",
   "execution_count": 54,
   "metadata": {},
   "outputs": [
    {
     "name": "stdout",
     "output_type": "stream",
     "text": [
      "Training on cuda\n",
      "Epoch: 1\n"
     ]
    },
    {
     "name": "stderr",
     "output_type": "stream",
     "text": [
      "  0%|          | 0/938 [00:00<?, ?it/s]"
     ]
    },
    {
     "name": "stderr",
     "output_type": "stream",
     "text": [
      "100%|██████████| 938/938 [00:58<00:00, 16.08it/s]\n"
     ]
    },
    {
     "name": "stdout",
     "output_type": "stream",
     "text": [
      "Training set: Average loss: 0.504604\n",
      "\n",
      "Test set: Average loss: 0.0053, Accuracy: 8752/10000 (88%), Precision: 0.88, Recall: 0.88, F1 Score: 0.87\n",
      "\n",
      "\n",
      "lr:  0.0008\n",
      "test loss:  0.0053211491607129575\n",
      "accuracy:  87.52\n",
      "precision:  0.8754871891401542\n",
      "recall:  0.8752000000000001\n",
      "f1:  0.8723446064370746\n",
      "\n",
      "Epoch: 2\n"
     ]
    },
    {
     "name": "stderr",
     "output_type": "stream",
     "text": [
      "100%|██████████| 938/938 [01:00<00:00, 15.53it/s]\n"
     ]
    },
    {
     "name": "stdout",
     "output_type": "stream",
     "text": [
      "Training set: Average loss: 0.324908\n",
      "\n",
      "Test set: Average loss: 0.0043, Accuracy: 8997/10000 (90%), Precision: 0.90, Recall: 0.90, F1 Score: 0.90\n",
      "\n",
      "\n",
      "lr:  0.00064\n",
      "test loss:  0.004317204716801643\n",
      "accuracy:  89.97\n",
      "precision:  0.8986521331388625\n",
      "recall:  0.8996999999999999\n",
      "f1:  0.8984938169031658\n",
      "\n",
      "Epoch: 3\n"
     ]
    },
    {
     "name": "stderr",
     "output_type": "stream",
     "text": [
      "100%|██████████| 938/938 [01:11<00:00, 13.13it/s]\n"
     ]
    },
    {
     "name": "stdout",
     "output_type": "stream",
     "text": [
      "Training set: Average loss: 0.275246\n",
      "\n",
      "Test set: Average loss: 0.0040, Accuracy: 9031/10000 (90%), Precision: 0.90, Recall: 0.90, F1 Score: 0.90\n",
      "\n",
      "\n",
      "lr:  0.0005120000000000001\n",
      "test loss:  0.004016432368755341\n",
      "accuracy:  90.31\n",
      "precision:  0.9043670406566836\n",
      "recall:  0.9030999999999999\n",
      "f1:  0.902981079739299\n",
      "\n",
      "Epoch: 4\n"
     ]
    },
    {
     "name": "stderr",
     "output_type": "stream",
     "text": [
      "100%|██████████| 938/938 [01:09<00:00, 13.57it/s]\n"
     ]
    },
    {
     "name": "stdout",
     "output_type": "stream",
     "text": [
      "Training set: Average loss: 0.242810\n",
      "\n",
      "Test set: Average loss: 0.0039, Accuracy: 9098/10000 (91%), Precision: 0.91, Recall: 0.91, F1 Score: 0.91\n",
      "\n",
      "\n",
      "lr:  0.0004096000000000001\n",
      "test loss:  0.003898207199573517\n",
      "accuracy:  90.98\n",
      "precision:  0.9108697354421811\n",
      "recall:  0.9098\n",
      "f1:  0.9098424322172407\n",
      "\n",
      "Epoch: 5\n"
     ]
    },
    {
     "name": "stderr",
     "output_type": "stream",
     "text": [
      "100%|██████████| 938/938 [00:54<00:00, 17.22it/s]\n"
     ]
    },
    {
     "name": "stdout",
     "output_type": "stream",
     "text": [
      "Training set: Average loss: 0.220217\n",
      "\n",
      "Test set: Average loss: 0.0035, Accuracy: 9164/10000 (92%), Precision: 0.92, Recall: 0.92, F1 Score: 0.92\n",
      "\n",
      "\n",
      "lr:  0.0003276800000000001\n",
      "test loss:  0.0035449701078236104\n",
      "accuracy:  91.64\n",
      "precision:  0.9165703804591965\n",
      "recall:  0.9164\n",
      "f1:  0.9156831699738295\n",
      "\n",
      "Epoch: 6\n"
     ]
    },
    {
     "name": "stderr",
     "output_type": "stream",
     "text": [
      "100%|██████████| 938/938 [00:55<00:00, 16.81it/s]\n"
     ]
    },
    {
     "name": "stdout",
     "output_type": "stream",
     "text": [
      "Training set: Average loss: 0.204739\n",
      "\n",
      "Test set: Average loss: 0.0035, Accuracy: 9215/10000 (92%), Precision: 0.92, Recall: 0.92, F1 Score: 0.92\n",
      "\n",
      "\n",
      "lr:  0.0002621440000000001\n",
      "test loss:  0.0034502703465521334\n",
      "accuracy:  92.15\n",
      "precision:  0.9222441693751721\n",
      "recall:  0.9215\n",
      "f1:  0.9217593451584044\n",
      "\n",
      "Epoch: 7\n"
     ]
    },
    {
     "name": "stderr",
     "output_type": "stream",
     "text": [
      "100%|██████████| 938/938 [01:04<00:00, 14.51it/s]\n"
     ]
    },
    {
     "name": "stdout",
     "output_type": "stream",
     "text": [
      "Training set: Average loss: 0.190065\n",
      "\n",
      "Test set: Average loss: 0.0034, Accuracy: 9229/10000 (92%), Precision: 0.92, Recall: 0.92, F1 Score: 0.92\n",
      "\n",
      "\n",
      "lr:  0.00020971520000000012\n",
      "test loss:  0.0033743953745812177\n",
      "accuracy:  92.29\n",
      "precision:  0.9224148973836179\n",
      "recall:  0.9228999999999999\n",
      "f1:  0.9221716642934584\n",
      "\n",
      "Epoch: 8\n"
     ]
    },
    {
     "name": "stderr",
     "output_type": "stream",
     "text": [
      "100%|██████████| 938/938 [01:07<00:00, 13.92it/s]\n"
     ]
    },
    {
     "name": "stdout",
     "output_type": "stream",
     "text": [
      "Training set: Average loss: 0.179364\n",
      "\n",
      "Test set: Average loss: 0.0033, Accuracy: 9250/10000 (92%), Precision: 0.92, Recall: 0.93, F1 Score: 0.92\n",
      "\n",
      "\n",
      "lr:  0.0001677721600000001\n",
      "test loss:  0.003332032078504562\n",
      "accuracy:  92.5\n",
      "precision:  0.9248475781887173\n",
      "recall:  0.925\n",
      "f1:  0.9247972164466773\n",
      "\n",
      "Epoch: 9\n"
     ]
    },
    {
     "name": "stderr",
     "output_type": "stream",
     "text": [
      "100%|██████████| 938/938 [01:27<00:00, 10.73it/s]\n"
     ]
    },
    {
     "name": "stdout",
     "output_type": "stream",
     "text": [
      "Training set: Average loss: 0.168342\n",
      "\n",
      "Test set: Average loss: 0.0033, Accuracy: 9265/10000 (93%), Precision: 0.93, Recall: 0.93, F1 Score: 0.93\n",
      "\n",
      "\n",
      "lr:  0.00013421772800000008\n",
      "test loss:  0.0033001160338521005\n",
      "accuracy:  92.65\n",
      "precision:  0.9261934948659789\n",
      "recall:  0.9264999999999999\n",
      "f1:  0.9262449149783241\n",
      "\n",
      "Epoch: 10\n"
     ]
    },
    {
     "name": "stderr",
     "output_type": "stream",
     "text": [
      "100%|██████████| 938/938 [01:11<00:00, 13.20it/s]\n"
     ]
    },
    {
     "name": "stdout",
     "output_type": "stream",
     "text": [
      "Training set: Average loss: 0.162181\n",
      "\n",
      "Test set: Average loss: 0.0033, Accuracy: 9276/10000 (93%), Precision: 0.93, Recall: 0.93, F1 Score: 0.93\n",
      "\n",
      "\n",
      "lr:  0.00010737418240000007\n",
      "test loss:  0.003293988785892725\n",
      "accuracy:  92.76\n",
      "precision:  0.9274075102165371\n",
      "recall:  0.9276\n",
      "f1:  0.9273381868267977\n",
      "\n"
     ]
    }
   ],
   "source": [
    "# Instanciar el modelo\n",
    "# model = SimpleCNN()\n",
    "# model = SimpleLinear()\n",
    "model = ConvNet()\n",
    "device = torch.device(\"cuda\" if torch.cuda.is_available() else \"cpu\")\n",
    "model.to(device)\n",
    "# Define optimizer\n",
    "optimizer = optim.AdamW(model.parameters(), lr=1e-3, weight_decay=1e-4)\n",
    "# Define learning rate scheduler\n",
    "scheduler = optim.lr_scheduler.ExponentialLR(optimizer, gamma=0.8)\n",
    "\n",
    "\n",
    "# Define loss\n",
    "criterion = nn.CrossEntropyLoss()\n",
    "\n",
    "# Track metrics in these arrays\n",
    "epoch_nums = []\n",
    "training_loss = []\n",
    "validation_loss = []\n",
    "\n",
    "# Train over 10 epochs (We restrict to 10 for time issues)\n",
    "epochs = 10\n",
    "print('Training on', device)\n",
    "for epoch in range(1, epochs + 1):\n",
    "        train_loss = train(model, device, train_loader, optimizer, epoch, criterion)\n",
    "        test_loss, accuracy, precision, recall, f1 = test(model, device, test_loader, criterion)\n",
    "        epoch_nums.append(epoch)\n",
    "        training_loss.append(train_loss)\n",
    "        validation_loss.append(test_loss)\n",
    "        scheduler.step()\n",
    "        print('')\n",
    "        print(\"lr: \", optimizer.param_groups[0]['lr'])\n",
    "        print(\"test loss: \", test_loss)\n",
    "        print(\"accuracy: \", accuracy)\n",
    "        print(\"precision: \", precision)\n",
    "        print(\"recall: \", recall)\n",
    "        print(\"f1: \", f1)\n",
    "        print('')\n"
   ]
  },
  {
   "cell_type": "code",
   "execution_count": 55,
   "metadata": {},
   "outputs": [
    {
     "name": "stdout",
     "output_type": "stream",
     "text": [
      "CKAN:  46376\n",
      "ConvNet:  887530\n"
     ]
    }
   ],
   "source": [
    "def count_parameters(model):\n",
    "    return sum(p.numel() for p in model.parameters() if p.requires_grad)\n",
    "\n",
    "model = KAN_Network.KAN_Convolutional_Network()#KAN_CONVS_2Kan_linears()\n",
    "print(\"CKAN: \",count_parameters(model))\n",
    "\n",
    "model2 = ConvNet()\n",
    "print(\"ConvNet: \",count_parameters(model2))\n"
   ]
  },
  {
   "cell_type": "code",
   "execution_count": 56,
   "metadata": {},
   "outputs": [
    {
     "name": "stdout",
     "output_type": "stream",
     "text": [
      "Training on cuda\n",
      "Epoch: 1\n"
     ]
    },
    {
     "name": "stderr",
     "output_type": "stream",
     "text": [
      "100%|██████████| 938/938 [03:39<00:00,  4.28it/s]\n"
     ]
    },
    {
     "name": "stdout",
     "output_type": "stream",
     "text": [
      "Training set: Average loss: 0.768507\n",
      "\n",
      "Test set: Average loss: 0.0071, Accuracy: 8355/10000 (84%), Precision: 0.83, Recall: 0.84, F1 Score: 0.83\n",
      "\n",
      "\n",
      "lr:  0.0008\n",
      "test loss:  0.007102931821346283\n",
      "accuracy:  83.55\n",
      "precision:  0.8345363890305734\n",
      "recall:  0.8355\n",
      "f1:  0.8336549479633554\n",
      "\n",
      "Epoch: 2\n"
     ]
    },
    {
     "name": "stderr",
     "output_type": "stream",
     "text": [
      "100%|██████████| 938/938 [03:31<00:00,  4.44it/s]\n"
     ]
    },
    {
     "name": "stdout",
     "output_type": "stream",
     "text": [
      "Training set: Average loss: 0.403833\n",
      "\n",
      "Test set: Average loss: 0.0063, Accuracy: 8521/10000 (85%), Precision: 0.85, Recall: 0.85, F1 Score: 0.85\n",
      "\n",
      "\n",
      "lr:  0.00064\n",
      "test loss:  0.006344194158911705\n",
      "accuracy:  85.21\n",
      "precision:  0.8509275426914487\n",
      "recall:  0.8520999999999999\n",
      "f1:  0.8480195950085265\n",
      "\n",
      "Epoch: 3\n"
     ]
    },
    {
     "name": "stderr",
     "output_type": "stream",
     "text": [
      "100%|██████████| 938/938 [03:11<00:00,  4.89it/s]\n"
     ]
    },
    {
     "name": "stdout",
     "output_type": "stream",
     "text": [
      "Training set: Average loss: 0.365783\n",
      "\n",
      "Test set: Average loss: 0.0060, Accuracy: 8588/10000 (86%), Precision: 0.86, Recall: 0.86, F1 Score: 0.86\n",
      "\n",
      "\n",
      "lr:  0.0005120000000000001\n",
      "test loss:  0.005970777127146721\n",
      "accuracy:  85.88\n",
      "precision:  0.8586002211335808\n",
      "recall:  0.8587999999999999\n",
      "f1:  0.8583068455150873\n",
      "\n",
      "Epoch: 4\n"
     ]
    },
    {
     "name": "stderr",
     "output_type": "stream",
     "text": [
      "100%|██████████| 938/938 [03:11<00:00,  4.90it/s]\n"
     ]
    },
    {
     "name": "stdout",
     "output_type": "stream",
     "text": [
      "Training set: Average loss: 0.345159\n",
      "\n",
      "Test set: Average loss: 0.0059, Accuracy: 8634/10000 (86%), Precision: 0.86, Recall: 0.86, F1 Score: 0.86\n",
      "\n",
      "\n",
      "lr:  0.0004096000000000001\n",
      "test loss:  0.005893851698935032\n",
      "accuracy:  86.34\n",
      "precision:  0.8620321248391278\n",
      "recall:  0.8633999999999998\n",
      "f1:  0.8611936527423572\n",
      "\n",
      "Epoch: 5\n"
     ]
    },
    {
     "name": "stderr",
     "output_type": "stream",
     "text": [
      "100%|██████████| 938/938 [03:11<00:00,  4.89it/s]\n"
     ]
    },
    {
     "name": "stdout",
     "output_type": "stream",
     "text": [
      "Training set: Average loss: 0.332470\n",
      "\n",
      "Test set: Average loss: 0.0058, Accuracy: 8639/10000 (86%), Precision: 0.86, Recall: 0.86, F1 Score: 0.86\n",
      "\n",
      "\n",
      "lr:  0.0003276800000000001\n",
      "test loss:  0.005767080396413803\n",
      "accuracy:  86.39\n",
      "precision:  0.8622436754270227\n",
      "recall:  0.8639000000000001\n",
      "f1:  0.862311417053664\n",
      "\n",
      "Epoch: 6\n"
     ]
    },
    {
     "name": "stderr",
     "output_type": "stream",
     "text": [
      "100%|██████████| 938/938 [03:10<00:00,  4.92it/s]\n"
     ]
    },
    {
     "name": "stdout",
     "output_type": "stream",
     "text": [
      "Training set: Average loss: 0.323055\n",
      "\n",
      "Test set: Average loss: 0.0057, Accuracy: 8644/10000 (86%), Precision: 0.86, Recall: 0.86, F1 Score: 0.86\n",
      "\n",
      "\n",
      "lr:  0.0002621440000000001\n",
      "test loss:  0.005730170094966888\n",
      "accuracy:  86.44\n",
      "precision:  0.8623922627936563\n",
      "recall:  0.8644000000000001\n",
      "f1:  0.8619214977822331\n",
      "\n"
     ]
    }
   ],
   "source": [
    "device = torch.device(\"cuda\" if torch.cuda.is_available() else \"cpu\")\n",
    "model = KAN_Network.KAN_Convolutional_Network(device = device)\n",
    "model.to(device)\n",
    "# Define optimizer\n",
    "optimizer = optim.AdamW(model.parameters(), lr=1e-3, weight_decay=1e-4)\n",
    "# Define learning rate scheduler\n",
    "scheduler = optim.lr_scheduler.ExponentialLR(optimizer, gamma=0.8)\n",
    "\n",
    "\n",
    "# Define loss\n",
    "criterion = nn.CrossEntropyLoss()\n",
    "\n",
    "# Track metrics in these arrays\n",
    "epoch_nums = []\n",
    "training_loss = []\n",
    "validation_loss = []\n",
    "\n",
    "# Train over 10 epochs (We restrict to 10 for time issues)\n",
    "epochs = 6\n",
    "print('Training on', device)\n",
    "for epoch in range(1, epochs + 1):\n",
    "        train_loss = train(model, device, train_loader, optimizer, epoch, criterion)\n",
    "        test_loss, accuracy, precision, recall, f1 = test(model, device, test_loader, criterion)\n",
    "        epoch_nums.append(epoch)\n",
    "        training_loss.append(train_loss)\n",
    "        validation_loss.append(test_loss)\n",
    "        scheduler.step()\n",
    "        print('')\n",
    "        print(\"lr: \", optimizer.param_groups[0]['lr'])\n",
    "        print(\"test loss: \", test_loss)\n",
    "        print(\"accuracy: \", accuracy)\n",
    "        print(\"precision: \", precision)\n",
    "        print(\"recall: \", recall)\n",
    "        print(\"f1: \", f1)\n",
    "        print('')\n"
   ]
  },
  {
   "cell_type": "code",
   "execution_count": 50,
   "metadata": {},
   "outputs": [
    {
     "data": {
      "image/png": "[encoded data removed]",
      "text/plain": [
       "<Figure size 1400x900 with 28 Axes>"
      ]
     },
     "metadata": {},
     "output_type": "display_data"
    }
   ],
   "source": [
    "import matplotlib.pyplot as plt\n",
    "rows =4\n",
    "pool = nn.MaxPool2d(kernel_size=(2, 2))\n",
    "ncols = 7   \n",
    "fig, ax  = plt.subplots(nrows = rows ,ncols = ncols,figsize =(14,9))\n",
    "with torch.no_grad():\n",
    "    #figure.add_subplot(rows, cols, i)\n",
    "    #  ax.title([label])\n",
    "    for row in range(rows):\n",
    "        for i in range(ncols):\n",
    "            ax[row][i].axis(\"off\")\n",
    "        sample_idx = torch.randint(len(mnist_test), size=(1,)).item()\n",
    "        img, label = mnist_test[sample_idx]\n",
    "\n",
    "        post_conv = model.conv1.forward(img.unsqueeze(0).to(device))\n",
    "        post_conv2 = model.conv2.forward(pool(post_conv)) \n",
    "        \n",
    "        #print(post_conv[0,0].shape)\n",
    "        ax[row][0].imshow(img.squeeze(), cmap=\"gray\")\n",
    "        ax[row][0].set_title(\"Input\")\n",
    "        ax[row][1].imshow(post_conv[0,0].cpu(), cmap=\"gray\")\n",
    "        ax[row][1].set_title(\"Layer 1 Conv 1\")\n",
    "        ax[row][2].imshow(post_conv[0,1].cpu(), cmap=\"gray\")\n",
    "        ax[row][2].set_title(\"Layer 1 Conv 2\")\n",
    "        for i in range(post_conv2.shape[1]):\n",
    "            ax[row][3+i].imshow(post_conv2[0,i].cpu(), cmap=\"gray\")\n",
    "            ax[row][3+i].set_title(f\"L2 Conv{i+1}\")\n"
   ]
  },
  {
   "cell_type": "code",
   "execution_count": null,
   "metadata": {},
   "outputs": [],
   "source": []
  }
 ],
 "metadata": {
  "kernelspec": {
   "display_name": "ckan",
   "language": "python",
   "name": "python3"
  },
  "language_info": {
   "codemirror_mode": {
    "name": "ipython",
    "version": 3
   },
   "file_extension": ".py",
   "mimetype": "text/x-python",
   "name": "python",
   "nbconvert_exporter": "python",
   "pygments_lexer": "ipython3",
   "version": "3.11.4"
  }
 },
 "nbformat": 4,
 "nbformat_minor": 2
}

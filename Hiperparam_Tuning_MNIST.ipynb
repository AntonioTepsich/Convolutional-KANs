{
  "cells": [
    {
      "cell_type": "code",
      "execution_count": 1,
      "metadata": {
        "colab": {
          "base_uri": "https://localhost:8080/"
        },
        "id": "kzn6EtWTYqf8",
        "outputId": "d0550a83-7cb5-4ee4-bba7-f305648285b0"
      },
      "outputs": [
        {
          "name": "stdout",
          "output_type": "stream",
          "text": [
            "Collecting fairseq\n",
            "  Downloading fairseq-0.12.2.tar.gz (9.6 MB)\n",
            "     ---------------------------------------- 0.0/9.6 MB ? eta -:--:--\n",
            "     - -------------------------------------- 0.4/9.6 MB 8.1 MB/s eta 0:00:02\n",
            "     ---- ----------------------------------- 1.0/9.6 MB 10.4 MB/s eta 0:00:01\n",
            "     ------ --------------------------------- 1.5/9.6 MB 8.5 MB/s eta 0:00:01\n",
            "     ---------- ----------------------------- 2.4/9.6 MB 9.6 MB/s eta 0:00:01\n",
            "     ------------ --------------------------- 3.0/9.6 MB 9.6 MB/s eta 0:00:01\n",
            "     ----------------- ---------------------- 4.2/9.6 MB 11.1 MB/s eta 0:00:01\n",
            "     ---------------------- ----------------- 5.3/9.6 MB 12.1 MB/s eta 0:00:01\n",
            "     ------------------------- -------------- 6.2/9.6 MB 12.8 MB/s eta 0:00:01\n",
            "     ------------------------------ --------- 7.4/9.6 MB 13.9 MB/s eta 0:00:01\n",
            "     ------------------------------------- -- 9.0/9.6 MB 15.2 MB/s eta 0:00:01\n",
            "     ---------------------------------------  9.6/9.6 MB 15.3 MB/s eta 0:00:01\n",
            "     ---------------------------------------- 9.6/9.6 MB 13.6 MB/s eta 0:00:00\n",
            "  Installing build dependencies: started\n",
            "  Installing build dependencies: finished with status 'done'\n",
            "  Getting requirements to build wheel: started\n",
            "  Getting requirements to build wheel: finished with status 'done'\n",
            "  Installing backend dependencies: started\n",
            "  Installing backend dependencies: finished with status 'done'\n",
            "  Preparing metadata (pyproject.toml): started\n",
            "  Preparing metadata (pyproject.toml): finished with status 'done'\n",
            "Requirement already satisfied: cffi in c:\\users\\alex_\\miniconda3\\lib\\site-packages (from fairseq) (1.15.1)\n",
            "Collecting cython (from fairseq)\n",
            "  Using cached Cython-3.0.11-cp311-cp311-win_amd64.whl.metadata (3.2 kB)\n",
            "Collecting hydra-core<1.1,>=1.0.7 (from fairseq)\n",
            "  Downloading hydra_core-1.0.7-py3-none-any.whl.metadata (3.7 kB)\n",
            "Collecting omegaconf<2.1 (from fairseq)\n",
            "  Downloading omegaconf-2.0.6-py3-none-any.whl.metadata (3.0 kB)\n",
            "Requirement already satisfied: regex in c:\\users\\alex_\\miniconda3\\lib\\site-packages (from fairseq) (2023.12.25)\n",
            "Collecting sacrebleu>=1.4.12 (from fairseq)\n",
            "  Downloading sacrebleu-2.4.3-py3-none-any.whl.metadata (51 kB)\n",
            "     ---------------------------------------- 0.0/51.8 kB ? eta -:--:--\n",
            "     ---------------------------------------- 51.8/51.8 kB 2.6 MB/s eta 0:00:00\n",
            "Requirement already satisfied: torch in c:\\users\\alex_\\miniconda3\\lib\\site-packages (from fairseq) (2.3.0+cu121)\n",
            "Requirement already satisfied: tqdm in c:\\users\\alex_\\miniconda3\\lib\\site-packages (from fairseq) (4.66.4)\n",
            "Collecting bitarray (from fairseq)\n",
            "  Downloading bitarray-2.9.2-cp311-cp311-win_amd64.whl.metadata (35 kB)\n",
            "Requirement already satisfied: torchaudio>=0.8.0 in c:\\users\\alex_\\miniconda3\\lib\\site-packages (from fairseq) (2.3.0+cu121)\n",
            "Requirement already satisfied: numpy in c:\\users\\alex_\\miniconda3\\lib\\site-packages (from fairseq) (1.26.3)\n",
            "Collecting antlr4-python3-runtime==4.8 (from hydra-core<1.1,>=1.0.7->fairseq)\n",
            "  Downloading antlr4-python3-runtime-4.8.tar.gz (112 kB)\n",
            "     ---------------------------------------- 0.0/112.4 kB ? eta -:--:--\n",
            "     -------------------------------------- 112.4/112.4 kB 6.8 MB/s eta 0:00:00\n",
            "  Preparing metadata (setup.py): started\n",
            "  Preparing metadata (setup.py): finished with status 'done'\n",
            "Requirement already satisfied: PyYAML>=5.1.* in c:\\users\\alex_\\miniconda3\\lib\\site-packages (from omegaconf<2.1->fairseq) (6.0.1)\n",
            "Requirement already satisfied: typing-extensions in c:\\users\\alex_\\miniconda3\\lib\\site-packages (from omegaconf<2.1->fairseq) (4.8.0)\n",
            "Collecting portalocker (from sacrebleu>=1.4.12->fairseq)\n",
            "  Downloading portalocker-2.10.1-py3-none-any.whl.metadata (8.5 kB)\n",
            "Collecting tabulate>=0.8.9 (from sacrebleu>=1.4.12->fairseq)\n",
            "  Downloading tabulate-0.9.0-py3-none-any.whl.metadata (34 kB)\n",
            "Requirement already satisfied: colorama in c:\\users\\alex_\\miniconda3\\lib\\site-packages (from sacrebleu>=1.4.12->fairseq) (0.4.6)\n",
            "Requirement already satisfied: lxml in c:\\users\\alex_\\miniconda3\\lib\\site-packages (from sacrebleu>=1.4.12->fairseq) (5.1.0)\n",
            "Requirement already satisfied: filelock in c:\\users\\alex_\\miniconda3\\lib\\site-packages (from torch->fairseq) (3.13.1)\n",
            "Requirement already satisfied: sympy in c:\\users\\alex_\\miniconda3\\lib\\site-packages (from torch->fairseq) (1.12)\n",
            "Requirement already satisfied: networkx in c:\\users\\alex_\\miniconda3\\lib\\site-packages (from torch->fairseq) (3.2)\n",
            "Requirement already satisfied: jinja2 in c:\\users\\alex_\\miniconda3\\lib\\site-packages (from torch->fairseq) (3.1.2)\n",
            "Requirement already satisfied: fsspec in c:\\users\\alex_\\miniconda3\\lib\\site-packages (from torch->fairseq) (2023.10.0)\n",
            "Requirement already satisfied: mkl<=2021.4.0,>=2021.1.1 in c:\\users\\alex_\\miniconda3\\lib\\site-packages (from torch->fairseq) (2021.4.0)\n",
            "Requirement already satisfied: pycparser in c:\\users\\alex_\\miniconda3\\lib\\site-packages (from cffi->fairseq) (2.21)\n",
            "Requirement already satisfied: intel-openmp==2021.* in c:\\users\\alex_\\miniconda3\\lib\\site-packages (from mkl<=2021.4.0,>=2021.1.1->torch->fairseq) (2021.4.0)\n",
            "Requirement already satisfied: tbb==2021.* in c:\\users\\alex_\\miniconda3\\lib\\site-packages (from mkl<=2021.4.0,>=2021.1.1->torch->fairseq) (2021.12.0)\n",
            "Requirement already satisfied: MarkupSafe>=2.0 in c:\\users\\alex_\\miniconda3\\lib\\site-packages (from jinja2->torch->fairseq) (2.1.3)\n",
            "Requirement already satisfied: pywin32>=226 in c:\\users\\alex_\\miniconda3\\lib\\site-packages (from portalocker->sacrebleu>=1.4.12->fairseq) (305.1)\n",
            "Requirement already satisfied: mpmath>=0.19 in c:\\users\\alex_\\miniconda3\\lib\\site-packages (from sympy->torch->fairseq) (1.3.0)\n",
            "Downloading hydra_core-1.0.7-py3-none-any.whl (123 kB)\n",
            "   ---------------------------------------- 0.0/123.8 kB ? eta -:--:--\n",
            "   ---------------------------------------- 123.8/123.8 kB 7.1 MB/s eta 0:00:00\n",
            "Downloading omegaconf-2.0.6-py3-none-any.whl (36 kB)\n",
            "Downloading sacrebleu-2.4.3-py3-none-any.whl (103 kB)\n",
            "   ---------------------------------------- 0.0/104.0 kB ? eta -:--:--\n",
            "   ---------------------------------------- 104.0/104.0 kB 5.9 MB/s eta 0:00:00\n",
            "Downloading bitarray-2.9.2-cp311-cp311-win_amd64.whl (126 kB)\n",
            "   ---------------------------------------- 0.0/126.0 kB ? eta -:--:--\n",
            "   ---------------------------------------- 126.0/126.0 kB 7.7 MB/s eta 0:00:00\n",
            "Using cached Cython-3.0.11-cp311-cp311-win_amd64.whl (2.8 MB)\n",
            "Downloading tabulate-0.9.0-py3-none-any.whl (35 kB)\n",
            "Downloading portalocker-2.10.1-py3-none-any.whl (18 kB)\n",
            "Building wheels for collected packages: fairseq, antlr4-python3-runtime\n",
            "  Building wheel for fairseq (pyproject.toml): started\n",
            "  Building wheel for fairseq (pyproject.toml): still running...\n",
            "  Building wheel for fairseq (pyproject.toml): finished with status 'done'\n",
            "  Created wheel for fairseq: filename=fairseq-0.12.2-cp311-cp311-win_amd64.whl size=10349123 sha256=21aeaaeb2917d1779bb2a655d97e9fc6a04c927512545babf5a473093b591deb\n",
            "  Stored in directory: c:\\users\\alex_\\appdata\\local\\pip\\cache\\wheels\\f1\\0d\\ed\\f4ca5b65eef7dda06cb421355a049648c032c6322c455a396e\n",
            "  Building wheel for antlr4-python3-runtime (setup.py): started\n",
            "  Building wheel for antlr4-python3-runtime (setup.py): finished with status 'done'\n",
            "  Created wheel for antlr4-python3-runtime: filename=antlr4_python3_runtime-4.8-py3-none-any.whl size=141217 sha256=0637d9c9055b8bbfdf743edefe89cf19564b2fa8232bef98c837e00fe2f3a297\n",
            "  Stored in directory: c:\\users\\alex_\\appdata\\local\\pip\\cache\\wheels\\21\\10\\be\\9a70640a3a60ed4a7e1a45e49bb9f58b04692d5d7b517bd39e\n",
            "Successfully built fairseq antlr4-python3-runtime\n",
            "Installing collected packages: bitarray, antlr4-python3-runtime, tabulate, portalocker, omegaconf, cython, sacrebleu, hydra-core, fairseq\n",
            "Successfully installed antlr4-python3-runtime-4.8 bitarray-2.9.2 cython-3.0.11 fairseq-0.12.2 hydra-core-1.0.7 omegaconf-2.0.6 portalocker-2.10.1 sacrebleu-2.4.3 tabulate-0.9.0\n"
          ]
        },
        {
          "name": "stderr",
          "output_type": "stream",
          "text": [
            "DEPRECATION: omegaconf 2.0.6 has a non-standard dependency specifier PyYAML>=5.1.*. pip 24.0 will enforce this behaviour change. A possible replacement is to upgrade to a newer version of omegaconf or contact the author to suggest that they release a version with a conforming dependency specifiers. Discussion can be found at https://github.com/pypa/pip/issues/12063\n"
          ]
        },
        {
          "name": "stdout",
          "output_type": "stream",
          "text": [
            "Requirement already satisfied: ray[tune] in c:\\users\\alex_\\miniconda3\\lib\\site-packages (2.31.0)\n",
            "Requirement already satisfied: click>=7.0 in c:\\users\\alex_\\miniconda3\\lib\\site-packages (from ray[tune]) (8.1.7)\n",
            "Requirement already satisfied: filelock in c:\\users\\alex_\\miniconda3\\lib\\site-packages (from ray[tune]) (3.13.1)\n",
            "Requirement already satisfied: jsonschema in c:\\users\\alex_\\miniconda3\\lib\\site-packages (from ray[tune]) (4.21.1)\n",
            "Requirement already satisfied: msgpack<2.0.0,>=1.0.0 in c:\\users\\alex_\\miniconda3\\lib\\site-packages (from ray[tune]) (1.0.8)\n",
            "Requirement already satisfied: packaging in c:\\users\\alex_\\miniconda3\\lib\\site-packages (from ray[tune]) (23.2)\n",
            "Requirement already satisfied: protobuf!=3.19.5,>=3.15.3 in c:\\users\\alex_\\miniconda3\\lib\\site-packages (from ray[tune]) (4.24.4)\n",
            "Requirement already satisfied: pyyaml in c:\\users\\alex_\\miniconda3\\lib\\site-packages (from ray[tune]) (6.0.1)\n",
            "Requirement already satisfied: aiosignal in c:\\users\\alex_\\miniconda3\\lib\\site-packages (from ray[tune]) (1.3.1)\n",
            "Requirement already satisfied: frozenlist in c:\\users\\alex_\\miniconda3\\lib\\site-packages (from ray[tune]) (1.4.1)\n",
            "Requirement already satisfied: requests in c:\\users\\alex_\\miniconda3\\lib\\site-packages (from ray[tune]) (2.31.0)\n",
            "Requirement already satisfied: pandas in c:\\users\\alex_\\miniconda3\\lib\\site-packages (from ray[tune]) (2.1.1)\n",
            "Requirement already satisfied: tensorboardX>=1.9 in c:\\users\\alex_\\miniconda3\\lib\\site-packages (from ray[tune]) (2.6.2.2)\n",
            "Requirement already satisfied: pyarrow>=6.0.1 in c:\\users\\alex_\\miniconda3\\lib\\site-packages (from ray[tune]) (15.0.0)\n",
            "Requirement already satisfied: fsspec in c:\\users\\alex_\\miniconda3\\lib\\site-packages (from ray[tune]) (2023.10.0)\n",
            "Requirement already satisfied: colorama in c:\\users\\alex_\\miniconda3\\lib\\site-packages (from click>=7.0->ray[tune]) (0.4.6)\n",
            "Requirement already satisfied: numpy<2,>=1.16.6 in c:\\users\\alex_\\miniconda3\\lib\\site-packages (from pyarrow>=6.0.1->ray[tune]) (1.26.3)\n",
            "Requirement already satisfied: attrs>=22.2.0 in c:\\users\\alex_\\miniconda3\\lib\\site-packages (from jsonschema->ray[tune]) (23.1.0)\n",
            "Requirement already satisfied: jsonschema-specifications>=2023.03.6 in c:\\users\\alex_\\miniconda3\\lib\\site-packages (from jsonschema->ray[tune]) (2023.12.1)\n",
            "Requirement already satisfied: referencing>=0.28.4 in c:\\users\\alex_\\miniconda3\\lib\\site-packages (from jsonschema->ray[tune]) (0.32.1)\n",
            "Requirement already satisfied: rpds-py>=0.7.1 in c:\\users\\alex_\\miniconda3\\lib\\site-packages (from jsonschema->ray[tune]) (0.17.1)\n",
            "Requirement already satisfied: python-dateutil>=2.8.2 in c:\\users\\alex_\\miniconda3\\lib\\site-packages (from pandas->ray[tune]) (2.8.2)\n",
            "Requirement already satisfied: pytz>=2020.1 in c:\\users\\alex_\\miniconda3\\lib\\site-packages (from pandas->ray[tune]) (2023.3.post1)\n",
            "Requirement already satisfied: tzdata>=2022.1 in c:\\users\\alex_\\miniconda3\\lib\\site-packages (from pandas->ray[tune]) (2023.3)\n",
            "Requirement already satisfied: charset-normalizer<4,>=2 in c:\\users\\alex_\\miniconda3\\lib\\site-packages (from requests->ray[tune]) (2.0.4)\n",
            "Requirement already satisfied: idna<4,>=2.5 in c:\\users\\alex_\\miniconda3\\lib\\site-packages (from requests->ray[tune]) (3.4)\n",
            "Requirement already satisfied: urllib3<3,>=1.21.1 in c:\\users\\alex_\\miniconda3\\lib\\site-packages (from requests->ray[tune]) (1.26.16)\n",
            "Requirement already satisfied: certifi>=2017.4.17 in c:\\users\\alex_\\miniconda3\\lib\\site-packages (from requests->ray[tune]) (2024.2.2)\n",
            "Requirement already satisfied: six>=1.5 in c:\\users\\alex_\\miniconda3\\lib\\site-packages (from python-dateutil>=2.8.2->pandas->ray[tune]) (1.16.0)\n"
          ]
        },
        {
          "name": "stderr",
          "output_type": "stream",
          "text": [
            "DEPRECATION: omegaconf 2.0.6 has a non-standard dependency specifier PyYAML>=5.1.*. pip 24.0 will enforce this behaviour change. A possible replacement is to upgrade to a newer version of omegaconf or contact the author to suggest that they release a version with a conforming dependency specifiers. Discussion can be found at https://github.com/pypa/pip/issues/12063\n"
          ]
        }
      ],
      "source": [
        "!pip install fairseq --user\n",
        "!pip install ray[tune]\n"
      ]
    },
    {
      "cell_type": "code",
      "execution_count": 2,
      "metadata": {
        "colab": {
          "base_uri": "https://localhost:8080/"
        },
        "id": "vFCniTxBYNtU",
        "outputId": "65e07174-c1b7-4cae-d772-5927e2cd3646"
      },
      "outputs": [
        {
          "name": "stderr",
          "output_type": "stream",
          "text": [
            "c:\\Users\\alex_\\miniconda3\\Lib\\site-packages\\transformers\\utils\\generic.py:441: UserWarning: torch.utils._pytree._register_pytree_node is deprecated. Please use torch.utils._pytree.register_pytree_node instead.\n",
            "  _torch_pytree._register_pytree_node(\n"
          ]
        }
      ],
      "source": [
        "%load_ext autoreload\n",
        "%autoreload 2\n",
        "import matplotlib.pyplot as plt\n",
        "from tqdm import tqdm\n",
        "import numpy as np\n",
        "import pandas as pd\n",
        "from sklearn.metrics import precision_score, recall_score, f1_score\n",
        "import os\n",
        "import torch\n",
        "import torch.nn as nn\n",
        "import torch.optim as optim\n",
        "import torchvision.transforms as transforms\n",
        "from torchvision.datasets import MNIST\n",
        "from torch.utils.data import DataLoader\n",
        "from architectures_28x28.KKAN import KKAN_Convolutional_Network\n",
        "from architectures_28x28.conv_and_kan import NormalConvsKAN\n",
        "from architectures_28x28.CKAN_BN import CKAN_BN\n",
        "from architectures_28x28.KANConvs_MLP import KANC_MLP,KANC_MLP_sin_grid\n",
        "from architectures_28x28.KANConvs_MLP_2 import KANC_MLP_2,KANC_MLP_sin_grid_2\n",
        "from architectures_28x28.SimpleModels import *\n",
        "from architectures_28x28.ConvNet import ConvNet\n",
        "from evaluations import *\n",
        "from hiperparam_tuning import *\n",
        "torch.manual_seed(42) #Lets set a seed for the weights initialization\n",
        "torch.use_deterministic_algorithms(True) #Set that torch uses always the same algorithm"
      ]
    },
    {
      "cell_type": "code",
      "execution_count": 3,
      "metadata": {
        "colab": {
          "base_uri": "https://localhost:8080/"
        },
        "id": "-8-FaHKnYzqt",
        "outputId": "a915aa89-08b4-4b74-e6e6-e495c2a072d4"
      },
      "outputs": [],
      "source": [
        "device = torch.device(\"cuda\" if torch.cuda.is_available() else \"cpu\")\n",
        "# Transformaciones\n",
        "transform = transforms.Compose([transforms.ToTensor(), transforms.Normalize((0.5,), (0.5,))])\n",
        "\n",
        "# Cargar MNIST y filtrar por dos clases\n",
        "mnist_train = MNIST(root='./data', train=True, download=True, transform=transform)\n",
        "\n",
        "mnist_test = MNIST(root='./data', train=False, download=True, transform=transform)\n",
        "\n",
        "# DataLoader\n",
        "train_loader = DataLoader(mnist_train, batch_size=64, shuffle=True)\n",
        "test_loader = DataLoader(mnist_test, batch_size=64, shuffle=False)"
      ]
    },
    {
      "cell_type": "code",
      "execution_count": 4,
      "metadata": {
        "id": "JMThp5SVcmbI"
      },
      "outputs": [],
      "source": [
        "from torch.utils.data import Subset\n",
        "from collections import Counter\n",
        "def train_val_split_balanced(train_dataset,proportion = 0.8):\n",
        "    unique_classes = np.unique(train_dataset.targets.numpy())\n",
        "    class_counts = Counter(train_dataset.targets.numpy())\n",
        "    min_class_size = min(class_counts.values())\n",
        "\n",
        "    balanced_indices = []\n",
        "    for cls in unique_classes:\n",
        "        indices_cls = np.where(train_dataset.targets.numpy() == cls)[0]\n",
        "        np.random.shuffle(indices_cls)\n",
        "        balanced_indices.extend(indices_cls[:min_class_size])\n",
        "    np.random.shuffle(balanced_indices)\n",
        "    train_size = int(proportion* len(balanced_indices))\n",
        "    train_indices = balanced_indices[:train_size]\n",
        "    val_indices = balanced_indices[train_size:]\n",
        "    train_subset = Subset(train_dataset, train_indices)\n",
        "    val_subset = Subset(train_dataset, val_indices)\n",
        "    return train_subset,val_subset\n",
        "\n",
        "train_obj ,val_obj = train_val_split_balanced(mnist_train)"
      ]
    },
    {
      "cell_type": "code",
      "execution_count": 5,
      "metadata": {
        "id": "EZffErM19NIt"
      },
      "outputs": [],
      "source": [
        "def count_parameters(model):\n",
        "    return sum(p.numel() for p in model.parameters() if p.requires_grad)\n"
      ]
    },
    {
      "cell_type": "markdown",
      "metadata": {
        "id": "AKuF2NDk9m4n"
      },
      "source": [
        "# Train"
      ]
    },
    {
      "cell_type": "code",
      "execution_count": 6,
      "metadata": {
        "colab": {
          "base_uri": "https://localhost:8080/",
          "height": 1000
        },
        "id": "j0u4dGWa9l6S",
        "outputId": "aa1497f5-85b2-4ed4-ba2e-78b8f56758d2"
      },
      "outputs": [
        {
          "name": "stderr",
          "output_type": "stream",
          "text": [
            "2024-08-24 19:40:09,979\tINFO worker.py:1771 -- Started a local Ray instance.\n",
            "2024-08-24 19:40:33,354\tINFO tune.py:253 -- Initializing Ray automatically. For cluster usage or custom Ray initialization, call `ray.init(...)` before `tune.run(...)`.\n",
            "2024-08-24 19:40:33,367\tINFO tune.py:616 -- [output] This uses the legacy output and progress reporter, as Jupyter notebooks are not supported by the new engine, yet. For more information, please see https://github.com/ray-project/ray/issues/36949\n"
          ]
        },
        {
          "name": "stdout",
          "output_type": "stream",
          "text": [
            "== Status ==\n",
            "Current time: 2024-08-24 19:40:34 (running for 00:00:00.61)\n",
            "Using AsyncHyperBand: num_stopped=0\n",
            "Bracket: Iter 16.000: None | Iter 8.000: None | Iter 4.000: None | Iter 2.000: None | Iter 1.000: None\n",
            "Logical resource usage: 2.0/12 CPUs, 1.0/1 GPUs (0.0/1.0 accelerator_type:G)\n",
            "Result logdir: C:/Users/alex_/AppData/Local/Temp/ray/session_2024-08-24_19-40-00_112576_39512/artifacts/2024-08-24_19-40-33/train_tune_2024-08-24_19-40-33/driver_artifacts\n",
            "Number of trials: 10/10 (10 PENDING)\n",
            "+------------------------+----------+-------+--------------+--------+----------------+\n",
            "| Trial name             | status   | loc   |   batch_size |     lr |   weight_decay |\n",
            "|------------------------+----------+-------+--------------+--------+----------------|\n",
            "| train_tune_df997_00000 | PENDING  |       |           64 | 0.001  |         0.0001 |\n",
            "| train_tune_df997_00001 | PENDING  |       |           64 | 1e-05  |         0.0001 |\n",
            "| train_tune_df997_00002 | PENDING  |       |           64 | 0.0001 |         0.0001 |\n",
            "| train_tune_df997_00003 | PENDING  |       |           64 | 0.0001 |         0.0001 |\n",
            "| train_tune_df997_00004 | PENDING  |       |           64 | 0.001  |         0      |\n",
            "| train_tune_df997_00005 | PENDING  |       |          128 | 0.001  |         0      |\n",
            "| train_tune_df997_00006 | PENDING  |       |          128 | 0.0001 |         0      |\n",
            "| train_tune_df997_00007 | PENDING  |       |          128 | 0.001  |         0      |\n",
            "| train_tune_df997_00008 | PENDING  |       |          128 | 0.0001 |         1e-05  |\n",
            "| train_tune_df997_00009 | PENDING  |       |           64 | 0.0005 |         1e-05  |\n",
            "+------------------------+----------+-------+--------------+--------+----------------+\n",
            "\n",
            "\n",
            "== Status ==\n",
            "Current time: 2024-08-24 19:40:39 (running for 00:00:05.71)\n",
            "Using AsyncHyperBand: num_stopped=0\n",
            "Bracket: Iter 16.000: None | Iter 8.000: None | Iter 4.000: None | Iter 2.000: None | Iter 1.000: None\n",
            "Logical resource usage: 2.0/12 CPUs, 1.0/1 GPUs (0.0/1.0 accelerator_type:G)\n",
            "Result logdir: C:/Users/alex_/AppData/Local/Temp/ray/session_2024-08-24_19-40-00_112576_39512/artifacts/2024-08-24_19-40-33/train_tune_2024-08-24_19-40-33/driver_artifacts\n",
            "Number of trials: 10/10 (10 PENDING)\n",
            "+------------------------+----------+-------+--------------+--------+----------------+\n",
            "| Trial name             | status   | loc   |   batch_size |     lr |   weight_decay |\n",
            "|------------------------+----------+-------+--------------+--------+----------------|\n",
            "| train_tune_df997_00000 | PENDING  |       |           64 | 0.001  |         0.0001 |\n",
            "| train_tune_df997_00001 | PENDING  |       |           64 | 1e-05  |         0.0001 |\n",
            "| train_tune_df997_00002 | PENDING  |       |           64 | 0.0001 |         0.0001 |\n",
            "| train_tune_df997_00003 | PENDING  |       |           64 | 0.0001 |         0.0001 |\n",
            "| train_tune_df997_00004 | PENDING  |       |           64 | 0.001  |         0      |\n",
            "| train_tune_df997_00005 | PENDING  |       |          128 | 0.001  |         0      |\n",
            "| train_tune_df997_00006 | PENDING  |       |          128 | 0.0001 |         0      |\n",
            "| train_tune_df997_00007 | PENDING  |       |          128 | 0.001  |         0      |\n",
            "| train_tune_df997_00008 | PENDING  |       |          128 | 0.0001 |         1e-05  |\n",
            "| train_tune_df997_00009 | PENDING  |       |           64 | 0.0005 |         1e-05  |\n",
            "+------------------------+----------+-------+--------------+--------+----------------+\n",
            "\n",
            "\n",
            "== Status ==\n",
            "Current time: 2024-08-24 19:40:44 (running for 00:00:10.81)\n",
            "Using AsyncHyperBand: num_stopped=0\n",
            "Bracket: Iter 16.000: None | Iter 8.000: None | Iter 4.000: None | Iter 2.000: None | Iter 1.000: None\n",
            "Logical resource usage: 2.0/12 CPUs, 1.0/1 GPUs (0.0/1.0 accelerator_type:G)\n",
            "Result logdir: C:/Users/alex_/AppData/Local/Temp/ray/session_2024-08-24_19-40-00_112576_39512/artifacts/2024-08-24_19-40-33/train_tune_2024-08-24_19-40-33/driver_artifacts\n",
            "Number of trials: 10/10 (10 PENDING)\n",
            "+------------------------+----------+-------+--------------+--------+----------------+\n",
            "| Trial name             | status   | loc   |   batch_size |     lr |   weight_decay |\n",
            "|------------------------+----------+-------+--------------+--------+----------------|\n",
            "| train_tune_df997_00000 | PENDING  |       |           64 | 0.001  |         0.0001 |\n",
            "| train_tune_df997_00001 | PENDING  |       |           64 | 1e-05  |         0.0001 |\n",
            "| train_tune_df997_00002 | PENDING  |       |           64 | 0.0001 |         0.0001 |\n",
            "| train_tune_df997_00003 | PENDING  |       |           64 | 0.0001 |         0.0001 |\n",
            "| train_tune_df997_00004 | PENDING  |       |           64 | 0.001  |         0      |\n",
            "| train_tune_df997_00005 | PENDING  |       |          128 | 0.001  |         0      |\n",
            "| train_tune_df997_00006 | PENDING  |       |          128 | 0.0001 |         0      |\n",
            "| train_tune_df997_00007 | PENDING  |       |          128 | 0.001  |         0      |\n",
            "| train_tune_df997_00008 | PENDING  |       |          128 | 0.0001 |         1e-05  |\n",
            "| train_tune_df997_00009 | PENDING  |       |           64 | 0.0005 |         1e-05  |\n",
            "+------------------------+----------+-------+--------------+--------+----------------+\n",
            "\n",
            "\n",
            "== Status ==\n",
            "Current time: 2024-08-24 19:40:49 (running for 00:00:15.84)\n",
            "Using AsyncHyperBand: num_stopped=0\n",
            "Bracket: Iter 16.000: None | Iter 8.000: None | Iter 4.000: None | Iter 2.000: None | Iter 1.000: None\n",
            "Logical resource usage: 2.0/12 CPUs, 1.0/1 GPUs (0.0/1.0 accelerator_type:G)\n",
            "Result logdir: C:/Users/alex_/AppData/Local/Temp/ray/session_2024-08-24_19-40-00_112576_39512/artifacts/2024-08-24_19-40-33/train_tune_2024-08-24_19-40-33/driver_artifacts\n",
            "Number of trials: 10/10 (10 PENDING)\n",
            "+------------------------+----------+-------+--------------+--------+----------------+\n",
            "| Trial name             | status   | loc   |   batch_size |     lr |   weight_decay |\n",
            "|------------------------+----------+-------+--------------+--------+----------------|\n",
            "| train_tune_df997_00000 | PENDING  |       |           64 | 0.001  |         0.0001 |\n",
            "| train_tune_df997_00001 | PENDING  |       |           64 | 1e-05  |         0.0001 |\n",
            "| train_tune_df997_00002 | PENDING  |       |           64 | 0.0001 |         0.0001 |\n",
            "| train_tune_df997_00003 | PENDING  |       |           64 | 0.0001 |         0.0001 |\n",
            "| train_tune_df997_00004 | PENDING  |       |           64 | 0.001  |         0      |\n",
            "| train_tune_df997_00005 | PENDING  |       |          128 | 0.001  |         0      |\n",
            "| train_tune_df997_00006 | PENDING  |       |          128 | 0.0001 |         0      |\n",
            "| train_tune_df997_00007 | PENDING  |       |          128 | 0.001  |         0      |\n",
            "| train_tune_df997_00008 | PENDING  |       |          128 | 0.0001 |         1e-05  |\n",
            "| train_tune_df997_00009 | PENDING  |       |           64 | 0.0005 |         1e-05  |\n",
            "+------------------------+----------+-------+--------------+--------+----------------+\n",
            "\n",
            "\n",
            "== Status ==\n",
            "Current time: 2024-08-24 19:40:54 (running for 00:00:20.85)\n",
            "Using AsyncHyperBand: num_stopped=0\n",
            "Bracket: Iter 16.000: None | Iter 8.000: None | Iter 4.000: None | Iter 2.000: None | Iter 1.000: None\n",
            "Logical resource usage: 2.0/12 CPUs, 1.0/1 GPUs (0.0/1.0 accelerator_type:G)\n",
            "Result logdir: C:/Users/alex_/AppData/Local/Temp/ray/session_2024-08-24_19-40-00_112576_39512/artifacts/2024-08-24_19-40-33/train_tune_2024-08-24_19-40-33/driver_artifacts\n",
            "Number of trials: 10/10 (10 PENDING)\n",
            "+------------------------+----------+-------+--------------+--------+----------------+\n",
            "| Trial name             | status   | loc   |   batch_size |     lr |   weight_decay |\n",
            "|------------------------+----------+-------+--------------+--------+----------------|\n",
            "| train_tune_df997_00000 | PENDING  |       |           64 | 0.001  |         0.0001 |\n",
            "| train_tune_df997_00001 | PENDING  |       |           64 | 1e-05  |         0.0001 |\n",
            "| train_tune_df997_00002 | PENDING  |       |           64 | 0.0001 |         0.0001 |\n",
            "| train_tune_df997_00003 | PENDING  |       |           64 | 0.0001 |         0.0001 |\n",
            "| train_tune_df997_00004 | PENDING  |       |           64 | 0.001  |         0      |\n",
            "| train_tune_df997_00005 | PENDING  |       |          128 | 0.001  |         0      |\n",
            "| train_tune_df997_00006 | PENDING  |       |          128 | 0.0001 |         0      |\n",
            "| train_tune_df997_00007 | PENDING  |       |          128 | 0.001  |         0      |\n",
            "| train_tune_df997_00008 | PENDING  |       |          128 | 0.0001 |         1e-05  |\n",
            "| train_tune_df997_00009 | PENDING  |       |           64 | 0.0005 |         1e-05  |\n",
            "+------------------------+----------+-------+--------------+--------+----------------+\n",
            "\n",
            "\n",
            "== Status ==\n",
            "Current time: 2024-08-24 19:40:59 (running for 00:00:25.90)\n",
            "Using AsyncHyperBand: num_stopped=0\n",
            "Bracket: Iter 16.000: None | Iter 8.000: None | Iter 4.000: None | Iter 2.000: None | Iter 1.000: None\n",
            "Logical resource usage: 2.0/12 CPUs, 1.0/1 GPUs (0.0/1.0 accelerator_type:G)\n",
            "Result logdir: C:/Users/alex_/AppData/Local/Temp/ray/session_2024-08-24_19-40-00_112576_39512/artifacts/2024-08-24_19-40-33/train_tune_2024-08-24_19-40-33/driver_artifacts\n",
            "Number of trials: 10/10 (10 PENDING)\n",
            "+------------------------+----------+-------+--------------+--------+----------------+\n",
            "| Trial name             | status   | loc   |   batch_size |     lr |   weight_decay |\n",
            "|------------------------+----------+-------+--------------+--------+----------------|\n",
            "| train_tune_df997_00000 | PENDING  |       |           64 | 0.001  |         0.0001 |\n",
            "| train_tune_df997_00001 | PENDING  |       |           64 | 1e-05  |         0.0001 |\n",
            "| train_tune_df997_00002 | PENDING  |       |           64 | 0.0001 |         0.0001 |\n",
            "| train_tune_df997_00003 | PENDING  |       |           64 | 0.0001 |         0.0001 |\n",
            "| train_tune_df997_00004 | PENDING  |       |           64 | 0.001  |         0      |\n",
            "| train_tune_df997_00005 | PENDING  |       |          128 | 0.001  |         0      |\n",
            "| train_tune_df997_00006 | PENDING  |       |          128 | 0.0001 |         0      |\n",
            "| train_tune_df997_00007 | PENDING  |       |          128 | 0.001  |         0      |\n",
            "| train_tune_df997_00008 | PENDING  |       |          128 | 0.0001 |         1e-05  |\n",
            "| train_tune_df997_00009 | PENDING  |       |           64 | 0.0005 |         1e-05  |\n",
            "+------------------------+----------+-------+--------------+--------+----------------+\n",
            "\n",
            "\n"
          ]
        },
        {
          "name": "stderr",
          "output_type": "stream",
          "text": [
            "\u001b[36m(train_tune pid=44584)\u001b[0m No module named 'KANLinear'\n",
            "\u001b[36m(train_tune pid=44584)\u001b[0m Traceback (most recent call last):\n",
            "\u001b[36m(train_tune pid=44584)\u001b[0m   File \"c:\\Users\\alex_\\miniconda3\\Lib\\site-packages\\ray\\_private\\serialization.py\", line 423, in deserialize_objects\n",
            "\u001b[36m(train_tune pid=44584)\u001b[0m     obj = self._deserialize_object(data, metadata, object_ref)\n",
            "\u001b[36m(train_tune pid=44584)\u001b[0m           ^^^^^^^^^^^^^^^^^^^^^^^^^^^^^^^^^^^^^^^^^^^^^^^^^^^^\n",
            "\u001b[36m(train_tune pid=44584)\u001b[0m   File \"c:\\Users\\alex_\\miniconda3\\Lib\\site-packages\\ray\\_private\\serialization.py\", line 280, in _deserialize_object\n",
            "\u001b[36m(train_tune pid=44584)\u001b[0m     return self._deserialize_msgpack_data(data, metadata_fields)\n",
            "\u001b[36m(train_tune pid=44584)\u001b[0m            ^^^^^^^^^^^^^^^^^^^^^^^^^^^^^^^^^^^^^^^^^^^^^^^^^^^^^\n",
            "\u001b[36m(train_tune pid=44584)\u001b[0m   File \"c:\\Users\\alex_\\miniconda3\\Lib\\site-packages\\ray\\_private\\serialization.py\", line 235, in _deserialize_msgpack_data\n",
            "\u001b[36m(train_tune pid=44584)\u001b[0m     python_objects = self._deserialize_pickle5_data(pickle5_data)\n",
            "\u001b[36m(train_tune pid=44584)\u001b[0m                      ^^^^^^^^^^^^^^^^^^^^^^^^^^^^^^^^^^^^^^^^^^^^\n",
            "\u001b[36m(train_tune pid=44584)\u001b[0m   File \"c:\\Users\\alex_\\miniconda3\\Lib\\site-packages\\ray\\_private\\serialization.py\", line 225, in _deserialize_pickle5_data\n",
            "\u001b[36m(train_tune pid=44584)\u001b[0m     obj = pickle.loads(in_band)\n",
            "\u001b[36m(train_tune pid=44584)\u001b[0m           ^^^^^^^^^^^^^^^^^^^^^\n",
            "\u001b[36m(train_tune pid=44584)\u001b[0m   File \"c:\\Users\\alex_\\Documents\\Udesa\\Research\\ckan\\architectures_28x28\\KANConvs_MLP.py\", line 6, in <module>\n",
            "\u001b[36m(train_tune pid=44584)\u001b[0m     from kan_convolutional.KANConv import KAN_Convolutional_Layer\n",
            "\u001b[36m(train_tune pid=44584)\u001b[0m   File \"c:\\Users\\alex_\\Documents\\Udesa\\Research\\ckan\\kan_convolutional\\KANConv.py\", line 7, in <module>\n",
            "\u001b[36m(train_tune pid=44584)\u001b[0m     from KANLinear import KANLinear\n",
            "\u001b[36m(train_tune pid=44584)\u001b[0m ModuleNotFoundError: No module named 'KANLinear'\n",
            "2024-08-24 19:41:04,607\tERROR tune_controller.py:1331 -- Trial task failed for trial train_tune_df997_00000\n",
            "Traceback (most recent call last):\n",
            "  File \"c:\\Users\\alex_\\miniconda3\\Lib\\site-packages\\ray\\air\\execution\\_internal\\event_manager.py\", line 110, in resolve_future\n",
            "    result = ray.get(future)\n",
            "             ^^^^^^^^^^^^^^^\n",
            "  File \"c:\\Users\\alex_\\miniconda3\\Lib\\site-packages\\ray\\_private\\auto_init_hook.py\", line 21, in auto_init_wrapper\n",
            "    return fn(*args, **kwargs)\n",
            "           ^^^^^^^^^^^^^^^^^^^\n",
            "  File \"c:\\Users\\alex_\\miniconda3\\Lib\\site-packages\\ray\\_private\\client_mode_hook.py\", line 103, in wrapper\n",
            "    return func(*args, **kwargs)\n",
            "           ^^^^^^^^^^^^^^^^^^^^^\n",
            "  File \"c:\\Users\\alex_\\miniconda3\\Lib\\site-packages\\ray\\_private\\worker.py\", line 2639, in get\n",
            "    values, debugger_breakpoint = worker.get_objects(object_refs, timeout=timeout)\n",
            "                                  ^^^^^^^^^^^^^^^^^^^^^^^^^^^^^^^^^^^^^^^^^^^^^^^^\n",
            "  File \"c:\\Users\\alex_\\miniconda3\\Lib\\site-packages\\ray\\_private\\worker.py\", line 864, in get_objects\n",
            "    raise value.as_instanceof_cause()\n",
            "ray.exceptions.RayTaskError(RaySystemError): \u001b[36mray::ImplicitFunc.train()\u001b[39m (pid=44584, ip=127.0.0.1, actor_id=7e3dab79ebaa0983db86b65601000000, repr=train_tune)\n",
            "  File \"python\\ray\\_raylet.pyx\", line 1896, in ray._raylet.execute_task\n",
            "  File \"python\\ray\\_raylet.pyx\", line 1837, in ray._raylet.execute_task.function_executor\n",
            "  File \"c:\\Users\\alex_\\miniconda3\\Lib\\site-packages\\ray\\_private\\function_manager.py\", line 691, in actor_method_executor\n",
            "    return method(__ray_actor, *args, **kwargs)\n",
            "           ^^^^^^^^^^^^^^^^^^^^^^^^^^^^^^^^^^^^\n",
            "  File \"c:\\Users\\alex_\\miniconda3\\Lib\\site-packages\\ray\\util\\tracing\\tracing_helper.py\", line 467, in _resume_span\n",
            "    return method(self, *_args, **_kwargs)\n",
            "           ^^^^^^^^^^^^^^^^^^^^^^^^^^^^^^^\n",
            "  File \"c:\\Users\\alex_\\miniconda3\\Lib\\site-packages\\ray\\tune\\trainable\\trainable.py\", line 331, in train\n",
            "    raise skipped from exception_cause(skipped)\n",
            "  File \"c:\\Users\\alex_\\miniconda3\\Lib\\site-packages\\ray\\air\\_internal\\util.py\", line 98, in run\n",
            "    self._ret = self._target(*self._args, **self._kwargs)\n",
            "                ^^^^^^^^^^^^^^^^^^^^^^^^^^^^^^^^^^^^^^^^^\n",
            "  File \"c:\\Users\\alex_\\miniconda3\\Lib\\site-packages\\ray\\tune\\trainable\\function_trainable.py\", line 45, in <lambda>\n",
            "    training_func=lambda: self._trainable_func(self.config),\n",
            "                          ^^^^^^^^^^^^^^^^^^^^^^^^^^^^^^^^^\n",
            "  File \"c:\\Users\\alex_\\miniconda3\\Lib\\site-packages\\ray\\util\\tracing\\tracing_helper.py\", line 467, in _resume_span\n",
            "    return method(self, *_args, **_kwargs)\n",
            "           ^^^^^^^^^^^^^^^^^^^^^^^^^^^^^^^\n",
            "  File \"c:\\Users\\alex_\\miniconda3\\Lib\\site-packages\\ray\\tune\\trainable\\function_trainable.py\", line 248, in _trainable_func\n",
            "    output = fn()\n",
            "             ^^^^\n",
            "  File \"c:\\Users\\alex_\\miniconda3\\Lib\\site-packages\\ray\\tune\\trainable\\util.py\", line 129, in inner\n",
            "    fn_kwargs[k] = parameter_registry.get(prefix + k)\n",
            "                   ^^^^^^^^^^^^^^^^^^^^^^^^^^^^^^^^^^\n",
            "  File \"c:\\Users\\alex_\\miniconda3\\Lib\\site-packages\\ray\\tune\\registry.py\", line 300, in get\n",
            "    return ray.get(self.references[k])\n",
            "           ^^^^^^^^^^^^^^^^^^^^^^^^^^^\n",
            "  File \"c:\\Users\\alex_\\miniconda3\\Lib\\site-packages\\ray\\_private\\auto_init_hook.py\", line 21, in auto_init_wrapper\n",
            "    return fn(*args, **kwargs)\n",
            "           ^^^^^^^^^^^^^^^^^^^\n",
            "  File \"c:\\Users\\alex_\\miniconda3\\Lib\\site-packages\\ray\\_private\\client_mode_hook.py\", line 103, in wrapper\n",
            "    return func(*args, **kwargs)\n",
            "           ^^^^^^^^^^^^^^^^^^^^^\n",
            "  File \"c:\\Users\\alex_\\miniconda3\\Lib\\site-packages\\ray\\_private\\worker.py\", line 2639, in get\n",
            "    values, debugger_breakpoint = worker.get_objects(object_refs, timeout=timeout)\n",
            "                                  ^^^^^^^^^^^^^^^^^^^^^^^^^^^^^^^^^^^^^^^^^^^^^^^^\n",
            "  File \"c:\\Users\\alex_\\miniconda3\\Lib\\site-packages\\ray\\_private\\worker.py\", line 866, in get_objects\n",
            "    raise value\n",
            "ray.exceptions.RaySystemError: System error: No module named 'KANLinear'\n",
            "traceback: Traceback (most recent call last):\n",
            "  File \"c:\\Users\\alex_\\miniconda3\\Lib\\site-packages\\ray\\_private\\serialization.py\", line 423, in deserialize_objects\n",
            "    obj = self._deserialize_object(data, metadata, object_ref)\n",
            "          ^^^^^^^^^^^^^^^^^^^^^^^^^^^^^^^^^^^^^^^^^^^^^^^^^^^^\n",
            "  File \"c:\\Users\\alex_\\miniconda3\\Lib\\site-packages\\ray\\_private\\serialization.py\", line 280, in _deserialize_object\n",
            "    return self._deserialize_msgpack_data(data, metadata_fields)\n",
            "           ^^^^^^^^^^^^^^^^^^^^^^^^^^^^^^^^^^^^^^^^^^^^^^^^^^^^^\n",
            "  File \"c:\\Users\\alex_\\miniconda3\\Lib\\site-packages\\ray\\_private\\serialization.py\", line 235, in _deserialize_msgpack_data\n",
            "    python_objects = self._deserialize_pickle5_data(pickle5_data)\n",
            "                     ^^^^^^^^^^^^^^^^^^^^^^^^^^^^^^^^^^^^^^^^^^^^\n",
            "  File \"c:\\Users\\alex_\\miniconda3\\Lib\\site-packages\\ray\\_private\\serialization.py\", line 225, in _deserialize_pickle5_data\n",
            "    obj = pickle.loads(in_band)\n",
            "          ^^^^^^^^^^^^^^^^^^^^^\n",
            "  File \"c:\\Users\\alex_\\Documents\\Udesa\\Research\\ckan\\architectures_28x28\\KANConvs_MLP.py\", line 6, in <module>\n",
            "    from kan_convolutional.KANConv import KAN_Convolutional_Layer\n",
            "  File \"c:\\Users\\alex_\\Documents\\Udesa\\Research\\ckan\\kan_convolutional\\KANConv.py\", line 7, in <module>\n",
            "    from KANLinear import KANLinear\n",
            "ModuleNotFoundError: No module named 'KANLinear'\n"
          ]
        },
        {
          "data": {
            "text/html": [
              "<div class=\"trialProgress\">\n",
              "  <h3>Trial Progress</h3>\n",
              "  <table>\n",
              "<thead>\n",
              "<tr><th>Trial name            </th></tr>\n",
              "</thead>\n",
              "<tbody>\n",
              "<tr><td>train_tune_df997_00000</td></tr>\n",
              "<tr><td>train_tune_df997_00001</td></tr>\n",
              "</tbody>\n",
              "</table>\n",
              "</div>\n",
              "<style>\n",
              ".trialProgress {\n",
              "  display: flex;\n",
              "  flex-direction: column;\n",
              "  color: var(--jp-ui-font-color1);\n",
              "}\n",
              ".trialProgress h3 {\n",
              "  font-weight: bold;\n",
              "}\n",
              ".trialProgress td {\n",
              "  white-space: nowrap;\n",
              "}\n",
              "</style>\n"
            ],
            "text/plain": [
              "<IPython.core.display.HTML object>"
            ]
          },
          "metadata": {},
          "output_type": "display_data"
        },
        {
          "name": "stdout",
          "output_type": "stream",
          "text": [
            "== Status ==\n",
            "Current time: 2024-08-24 19:41:04 (running for 00:00:30.91)\n",
            "Using AsyncHyperBand: num_stopped=0\n",
            "Bracket: Iter 16.000: None | Iter 8.000: None | Iter 4.000: None | Iter 2.000: None | Iter 1.000: None\n",
            "Logical resource usage: 2.0/12 CPUs, 1.0/1 GPUs (0.0/1.0 accelerator_type:G)\n",
            "Result logdir: C:/Users/alex_/AppData/Local/Temp/ray/session_2024-08-24_19-40-00_112576_39512/artifacts/2024-08-24_19-40-33/train_tune_2024-08-24_19-40-33/driver_artifacts\n",
            "Number of trials: 10/10 (1 ERROR, 9 PENDING)\n",
            "+------------------------+----------+-----------------+--------------+--------+----------------+\n",
            "| Trial name             | status   | loc             |   batch_size |     lr |   weight_decay |\n",
            "|------------------------+----------+-----------------+--------------+--------+----------------|\n",
            "| train_tune_df997_00001 | PENDING  |                 |           64 | 1e-05  |         0.0001 |\n",
            "| train_tune_df997_00002 | PENDING  |                 |           64 | 0.0001 |         0.0001 |\n",
            "| train_tune_df997_00003 | PENDING  |                 |           64 | 0.0001 |         0.0001 |\n",
            "| train_tune_df997_00004 | PENDING  |                 |           64 | 0.001  |         0      |\n",
            "| train_tune_df997_00005 | PENDING  |                 |          128 | 0.001  |         0      |\n",
            "| train_tune_df997_00006 | PENDING  |                 |          128 | 0.0001 |         0      |\n",
            "| train_tune_df997_00007 | PENDING  |                 |          128 | 0.001  |         0      |\n",
            "| train_tune_df997_00008 | PENDING  |                 |          128 | 0.0001 |         1e-05  |\n",
            "| train_tune_df997_00009 | PENDING  |                 |           64 | 0.0005 |         1e-05  |\n",
            "| train_tune_df997_00000 | ERROR    | 127.0.0.1:44584 |           64 | 0.001  |         0.0001 |\n",
            "+------------------------+----------+-----------------+--------------+--------+----------------+\n",
            "Number of errored trials: 1\n",
            "+------------------------+--------------+-----------------------------------------------------------------------------------------------------------------------------------------------------------------------------------------------------------------------------------------------------------------+\n",
            "| Trial name             |   # failures | error file                                                                                                                                                                                                                                                      |\n",
            "|------------------------+--------------+-----------------------------------------------------------------------------------------------------------------------------------------------------------------------------------------------------------------------------------------------------------------|\n",
            "| train_tune_df997_00000 |            1 | C:/Users/alex_/AppData/Local/Temp/ray/session_2024-08-24_19-40-00_112576_39512/artifacts/2024-08-24_19-40-33/train_tune_2024-08-24_19-40-33/driver_artifacts/train_tune_df997_00000_0_batch_size=64,lr=0.0010,weight_decay=0.0001_2024-08-24_19-40-33/error.txt |\n",
            "+------------------------+--------------+-----------------------------------------------------------------------------------------------------------------------------------------------------------------------------------------------------------------------------------------------------------------+\n",
            "\n",
            "== Status ==\n",
            "Current time: 2024-08-24 19:41:09 (running for 00:00:35.99)\n",
            "Using AsyncHyperBand: num_stopped=0\n",
            "Bracket: Iter 16.000: None | Iter 8.000: None | Iter 4.000: None | Iter 2.000: None | Iter 1.000: None\n",
            "Logical resource usage: 2.0/12 CPUs, 1.0/1 GPUs (0.0/1.0 accelerator_type:G)\n",
            "Result logdir: C:/Users/alex_/AppData/Local/Temp/ray/session_2024-08-24_19-40-00_112576_39512/artifacts/2024-08-24_19-40-33/train_tune_2024-08-24_19-40-33/driver_artifacts\n",
            "Number of trials: 10/10 (1 ERROR, 9 PENDING)\n",
            "+------------------------+----------+-----------------+--------------+--------+----------------+\n",
            "| Trial name             | status   | loc             |   batch_size |     lr |   weight_decay |\n",
            "|------------------------+----------+-----------------+--------------+--------+----------------|\n",
            "| train_tune_df997_00001 | PENDING  |                 |           64 | 1e-05  |         0.0001 |\n",
            "| train_tune_df997_00002 | PENDING  |                 |           64 | 0.0001 |         0.0001 |\n",
            "| train_tune_df997_00003 | PENDING  |                 |           64 | 0.0001 |         0.0001 |\n",
            "| train_tune_df997_00004 | PENDING  |                 |           64 | 0.001  |         0      |\n",
            "| train_tune_df997_00005 | PENDING  |                 |          128 | 0.001  |         0      |\n",
            "| train_tune_df997_00006 | PENDING  |                 |          128 | 0.0001 |         0      |\n",
            "| train_tune_df997_00007 | PENDING  |                 |          128 | 0.001  |         0      |\n",
            "| train_tune_df997_00008 | PENDING  |                 |          128 | 0.0001 |         1e-05  |\n",
            "| train_tune_df997_00009 | PENDING  |                 |           64 | 0.0005 |         1e-05  |\n",
            "| train_tune_df997_00000 | ERROR    | 127.0.0.1:44584 |           64 | 0.001  |         0.0001 |\n",
            "+------------------------+----------+-----------------+--------------+--------+----------------+\n",
            "Number of errored trials: 1\n",
            "+------------------------+--------------+-----------------------------------------------------------------------------------------------------------------------------------------------------------------------------------------------------------------------------------------------------------------+\n",
            "| Trial name             |   # failures | error file                                                                                                                                                                                                                                                      |\n",
            "|------------------------+--------------+-----------------------------------------------------------------------------------------------------------------------------------------------------------------------------------------------------------------------------------------------------------------|\n",
            "| train_tune_df997_00000 |            1 | C:/Users/alex_/AppData/Local/Temp/ray/session_2024-08-24_19-40-00_112576_39512/artifacts/2024-08-24_19-40-33/train_tune_2024-08-24_19-40-33/driver_artifacts/train_tune_df997_00000_0_batch_size=64,lr=0.0010,weight_decay=0.0001_2024-08-24_19-40-33/error.txt |\n",
            "+------------------------+--------------+-----------------------------------------------------------------------------------------------------------------------------------------------------------------------------------------------------------------------------------------------------------------+\n",
            "\n",
            "== Status ==\n",
            "Current time: 2024-08-24 19:41:14 (running for 00:00:41.11)\n",
            "Using AsyncHyperBand: num_stopped=0\n",
            "Bracket: Iter 16.000: None | Iter 8.000: None | Iter 4.000: None | Iter 2.000: None | Iter 1.000: None\n",
            "Logical resource usage: 2.0/12 CPUs, 1.0/1 GPUs (0.0/1.0 accelerator_type:G)\n",
            "Result logdir: C:/Users/alex_/AppData/Local/Temp/ray/session_2024-08-24_19-40-00_112576_39512/artifacts/2024-08-24_19-40-33/train_tune_2024-08-24_19-40-33/driver_artifacts\n",
            "Number of trials: 10/10 (1 ERROR, 9 PENDING)\n",
            "+------------------------+----------+-----------------+--------------+--------+----------------+\n",
            "| Trial name             | status   | loc             |   batch_size |     lr |   weight_decay |\n",
            "|------------------------+----------+-----------------+--------------+--------+----------------|\n",
            "| train_tune_df997_00001 | PENDING  |                 |           64 | 1e-05  |         0.0001 |\n",
            "| train_tune_df997_00002 | PENDING  |                 |           64 | 0.0001 |         0.0001 |\n",
            "| train_tune_df997_00003 | PENDING  |                 |           64 | 0.0001 |         0.0001 |\n",
            "| train_tune_df997_00004 | PENDING  |                 |           64 | 0.001  |         0      |\n",
            "| train_tune_df997_00005 | PENDING  |                 |          128 | 0.001  |         0      |\n",
            "| train_tune_df997_00006 | PENDING  |                 |          128 | 0.0001 |         0      |\n",
            "| train_tune_df997_00007 | PENDING  |                 |          128 | 0.001  |         0      |\n",
            "| train_tune_df997_00008 | PENDING  |                 |          128 | 0.0001 |         1e-05  |\n",
            "| train_tune_df997_00009 | PENDING  |                 |           64 | 0.0005 |         1e-05  |\n",
            "| train_tune_df997_00000 | ERROR    | 127.0.0.1:44584 |           64 | 0.001  |         0.0001 |\n",
            "+------------------------+----------+-----------------+--------------+--------+----------------+\n",
            "Number of errored trials: 1\n",
            "+------------------------+--------------+-----------------------------------------------------------------------------------------------------------------------------------------------------------------------------------------------------------------------------------------------------------------+\n",
            "| Trial name             |   # failures | error file                                                                                                                                                                                                                                                      |\n",
            "|------------------------+--------------+-----------------------------------------------------------------------------------------------------------------------------------------------------------------------------------------------------------------------------------------------------------------|\n",
            "| train_tune_df997_00000 |            1 | C:/Users/alex_/AppData/Local/Temp/ray/session_2024-08-24_19-40-00_112576_39512/artifacts/2024-08-24_19-40-33/train_tune_2024-08-24_19-40-33/driver_artifacts/train_tune_df997_00000_0_batch_size=64,lr=0.0010,weight_decay=0.0001_2024-08-24_19-40-33/error.txt |\n",
            "+------------------------+--------------+-----------------------------------------------------------------------------------------------------------------------------------------------------------------------------------------------------------------------------------------------------------------+\n",
            "\n",
            "== Status ==\n",
            "Current time: 2024-08-24 19:41:19 (running for 00:00:46.19)\n",
            "Using AsyncHyperBand: num_stopped=0\n",
            "Bracket: Iter 16.000: None | Iter 8.000: None | Iter 4.000: None | Iter 2.000: None | Iter 1.000: None\n",
            "Logical resource usage: 2.0/12 CPUs, 1.0/1 GPUs (0.0/1.0 accelerator_type:G)\n",
            "Result logdir: C:/Users/alex_/AppData/Local/Temp/ray/session_2024-08-24_19-40-00_112576_39512/artifacts/2024-08-24_19-40-33/train_tune_2024-08-24_19-40-33/driver_artifacts\n",
            "Number of trials: 10/10 (1 ERROR, 9 PENDING)\n",
            "+------------------------+----------+-----------------+--------------+--------+----------------+\n",
            "| Trial name             | status   | loc             |   batch_size |     lr |   weight_decay |\n",
            "|------------------------+----------+-----------------+--------------+--------+----------------|\n",
            "| train_tune_df997_00001 | PENDING  |                 |           64 | 1e-05  |         0.0001 |\n",
            "| train_tune_df997_00002 | PENDING  |                 |           64 | 0.0001 |         0.0001 |\n",
            "| train_tune_df997_00003 | PENDING  |                 |           64 | 0.0001 |         0.0001 |\n",
            "| train_tune_df997_00004 | PENDING  |                 |           64 | 0.001  |         0      |\n",
            "| train_tune_df997_00005 | PENDING  |                 |          128 | 0.001  |         0      |\n",
            "| train_tune_df997_00006 | PENDING  |                 |          128 | 0.0001 |         0      |\n",
            "| train_tune_df997_00007 | PENDING  |                 |          128 | 0.001  |         0      |\n",
            "| train_tune_df997_00008 | PENDING  |                 |          128 | 0.0001 |         1e-05  |\n",
            "| train_tune_df997_00009 | PENDING  |                 |           64 | 0.0005 |         1e-05  |\n",
            "| train_tune_df997_00000 | ERROR    | 127.0.0.1:44584 |           64 | 0.001  |         0.0001 |\n",
            "+------------------------+----------+-----------------+--------------+--------+----------------+\n",
            "Number of errored trials: 1\n",
            "+------------------------+--------------+-----------------------------------------------------------------------------------------------------------------------------------------------------------------------------------------------------------------------------------------------------------------+\n",
            "| Trial name             |   # failures | error file                                                                                                                                                                                                                                                      |\n",
            "|------------------------+--------------+-----------------------------------------------------------------------------------------------------------------------------------------------------------------------------------------------------------------------------------------------------------------|\n",
            "| train_tune_df997_00000 |            1 | C:/Users/alex_/AppData/Local/Temp/ray/session_2024-08-24_19-40-00_112576_39512/artifacts/2024-08-24_19-40-33/train_tune_2024-08-24_19-40-33/driver_artifacts/train_tune_df997_00000_0_batch_size=64,lr=0.0010,weight_decay=0.0001_2024-08-24_19-40-33/error.txt |\n",
            "+------------------------+--------------+-----------------------------------------------------------------------------------------------------------------------------------------------------------------------------------------------------------------------------------------------------------------+\n",
            "\n",
            "== Status ==\n",
            "Current time: 2024-08-24 19:41:25 (running for 00:00:51.27)\n",
            "Using AsyncHyperBand: num_stopped=0\n",
            "Bracket: Iter 16.000: None | Iter 8.000: None | Iter 4.000: None | Iter 2.000: None | Iter 1.000: None\n",
            "Logical resource usage: 2.0/12 CPUs, 1.0/1 GPUs (0.0/1.0 accelerator_type:G)\n",
            "Result logdir: C:/Users/alex_/AppData/Local/Temp/ray/session_2024-08-24_19-40-00_112576_39512/artifacts/2024-08-24_19-40-33/train_tune_2024-08-24_19-40-33/driver_artifacts\n",
            "Number of trials: 10/10 (1 ERROR, 9 PENDING)\n",
            "+------------------------+----------+-----------------+--------------+--------+----------------+\n",
            "| Trial name             | status   | loc             |   batch_size |     lr |   weight_decay |\n",
            "|------------------------+----------+-----------------+--------------+--------+----------------|\n",
            "| train_tune_df997_00001 | PENDING  |                 |           64 | 1e-05  |         0.0001 |\n",
            "| train_tune_df997_00002 | PENDING  |                 |           64 | 0.0001 |         0.0001 |\n",
            "| train_tune_df997_00003 | PENDING  |                 |           64 | 0.0001 |         0.0001 |\n",
            "| train_tune_df997_00004 | PENDING  |                 |           64 | 0.001  |         0      |\n",
            "| train_tune_df997_00005 | PENDING  |                 |          128 | 0.001  |         0      |\n",
            "| train_tune_df997_00006 | PENDING  |                 |          128 | 0.0001 |         0      |\n",
            "| train_tune_df997_00007 | PENDING  |                 |          128 | 0.001  |         0      |\n",
            "| train_tune_df997_00008 | PENDING  |                 |          128 | 0.0001 |         1e-05  |\n",
            "| train_tune_df997_00009 | PENDING  |                 |           64 | 0.0005 |         1e-05  |\n",
            "| train_tune_df997_00000 | ERROR    | 127.0.0.1:44584 |           64 | 0.001  |         0.0001 |\n",
            "+------------------------+----------+-----------------+--------------+--------+----------------+\n",
            "Number of errored trials: 1\n",
            "+------------------------+--------------+-----------------------------------------------------------------------------------------------------------------------------------------------------------------------------------------------------------------------------------------------------------------+\n",
            "| Trial name             |   # failures | error file                                                                                                                                                                                                                                                      |\n",
            "|------------------------+--------------+-----------------------------------------------------------------------------------------------------------------------------------------------------------------------------------------------------------------------------------------------------------------|\n",
            "| train_tune_df997_00000 |            1 | C:/Users/alex_/AppData/Local/Temp/ray/session_2024-08-24_19-40-00_112576_39512/artifacts/2024-08-24_19-40-33/train_tune_2024-08-24_19-40-33/driver_artifacts/train_tune_df997_00000_0_batch_size=64,lr=0.0010,weight_decay=0.0001_2024-08-24_19-40-33/error.txt |\n",
            "+------------------------+--------------+-----------------------------------------------------------------------------------------------------------------------------------------------------------------------------------------------------------------------------------------------------------------+\n",
            "\n",
            "== Status ==\n",
            "Current time: 2024-08-24 19:41:30 (running for 00:00:56.28)\n",
            "Using AsyncHyperBand: num_stopped=0\n",
            "Bracket: Iter 16.000: None | Iter 8.000: None | Iter 4.000: None | Iter 2.000: None | Iter 1.000: None\n",
            "Logical resource usage: 2.0/12 CPUs, 1.0/1 GPUs (0.0/1.0 accelerator_type:G)\n",
            "Result logdir: C:/Users/alex_/AppData/Local/Temp/ray/session_2024-08-24_19-40-00_112576_39512/artifacts/2024-08-24_19-40-33/train_tune_2024-08-24_19-40-33/driver_artifacts\n",
            "Number of trials: 10/10 (1 ERROR, 9 PENDING)\n",
            "+------------------------+----------+-----------------+--------------+--------+----------------+\n",
            "| Trial name             | status   | loc             |   batch_size |     lr |   weight_decay |\n",
            "|------------------------+----------+-----------------+--------------+--------+----------------|\n",
            "| train_tune_df997_00001 | PENDING  |                 |           64 | 1e-05  |         0.0001 |\n",
            "| train_tune_df997_00002 | PENDING  |                 |           64 | 0.0001 |         0.0001 |\n",
            "| train_tune_df997_00003 | PENDING  |                 |           64 | 0.0001 |         0.0001 |\n",
            "| train_tune_df997_00004 | PENDING  |                 |           64 | 0.001  |         0      |\n",
            "| train_tune_df997_00005 | PENDING  |                 |          128 | 0.001  |         0      |\n",
            "| train_tune_df997_00006 | PENDING  |                 |          128 | 0.0001 |         0      |\n",
            "| train_tune_df997_00007 | PENDING  |                 |          128 | 0.001  |         0      |\n",
            "| train_tune_df997_00008 | PENDING  |                 |          128 | 0.0001 |         1e-05  |\n",
            "| train_tune_df997_00009 | PENDING  |                 |           64 | 0.0005 |         1e-05  |\n",
            "| train_tune_df997_00000 | ERROR    | 127.0.0.1:44584 |           64 | 0.001  |         0.0001 |\n",
            "+------------------------+----------+-----------------+--------------+--------+----------------+\n",
            "Number of errored trials: 1\n",
            "+------------------------+--------------+-----------------------------------------------------------------------------------------------------------------------------------------------------------------------------------------------------------------------------------------------------------------+\n",
            "| Trial name             |   # failures | error file                                                                                                                                                                                                                                                      |\n",
            "|------------------------+--------------+-----------------------------------------------------------------------------------------------------------------------------------------------------------------------------------------------------------------------------------------------------------------|\n",
            "| train_tune_df997_00000 |            1 | C:/Users/alex_/AppData/Local/Temp/ray/session_2024-08-24_19-40-00_112576_39512/artifacts/2024-08-24_19-40-33/train_tune_2024-08-24_19-40-33/driver_artifacts/train_tune_df997_00000_0_batch_size=64,lr=0.0010,weight_decay=0.0001_2024-08-24_19-40-33/error.txt |\n",
            "+------------------------+--------------+-----------------------------------------------------------------------------------------------------------------------------------------------------------------------------------------------------------------------------------------------------------------+\n",
            "\n",
            "== Status ==\n",
            "Current time: 2024-08-24 19:41:35 (running for 00:01:01.28)\n",
            "Using AsyncHyperBand: num_stopped=0\n",
            "Bracket: Iter 16.000: None | Iter 8.000: None | Iter 4.000: None | Iter 2.000: None | Iter 1.000: None\n",
            "Logical resource usage: 2.0/12 CPUs, 1.0/1 GPUs (0.0/1.0 accelerator_type:G)\n",
            "Result logdir: C:/Users/alex_/AppData/Local/Temp/ray/session_2024-08-24_19-40-00_112576_39512/artifacts/2024-08-24_19-40-33/train_tune_2024-08-24_19-40-33/driver_artifacts\n",
            "Number of trials: 10/10 (1 ERROR, 9 PENDING)\n",
            "+------------------------+----------+-----------------+--------------+--------+----------------+\n",
            "| Trial name             | status   | loc             |   batch_size |     lr |   weight_decay |\n",
            "|------------------------+----------+-----------------+--------------+--------+----------------|\n",
            "| train_tune_df997_00001 | PENDING  |                 |           64 | 1e-05  |         0.0001 |\n",
            "| train_tune_df997_00002 | PENDING  |                 |           64 | 0.0001 |         0.0001 |\n",
            "| train_tune_df997_00003 | PENDING  |                 |           64 | 0.0001 |         0.0001 |\n",
            "| train_tune_df997_00004 | PENDING  |                 |           64 | 0.001  |         0      |\n",
            "| train_tune_df997_00005 | PENDING  |                 |          128 | 0.001  |         0      |\n",
            "| train_tune_df997_00006 | PENDING  |                 |          128 | 0.0001 |         0      |\n",
            "| train_tune_df997_00007 | PENDING  |                 |          128 | 0.001  |         0      |\n",
            "| train_tune_df997_00008 | PENDING  |                 |          128 | 0.0001 |         1e-05  |\n",
            "| train_tune_df997_00009 | PENDING  |                 |           64 | 0.0005 |         1e-05  |\n",
            "| train_tune_df997_00000 | ERROR    | 127.0.0.1:44584 |           64 | 0.001  |         0.0001 |\n",
            "+------------------------+----------+-----------------+--------------+--------+----------------+\n",
            "Number of errored trials: 1\n",
            "+------------------------+--------------+-----------------------------------------------------------------------------------------------------------------------------------------------------------------------------------------------------------------------------------------------------------------+\n",
            "| Trial name             |   # failures | error file                                                                                                                                                                                                                                                      |\n",
            "|------------------------+--------------+-----------------------------------------------------------------------------------------------------------------------------------------------------------------------------------------------------------------------------------------------------------------|\n",
            "| train_tune_df997_00000 |            1 | C:/Users/alex_/AppData/Local/Temp/ray/session_2024-08-24_19-40-00_112576_39512/artifacts/2024-08-24_19-40-33/train_tune_2024-08-24_19-40-33/driver_artifacts/train_tune_df997_00000_0_batch_size=64,lr=0.0010,weight_decay=0.0001_2024-08-24_19-40-33/error.txt |\n",
            "+------------------------+--------------+-----------------------------------------------------------------------------------------------------------------------------------------------------------------------------------------------------------------------------------------------------------------+\n",
            "\n"
          ]
        },
        {
          "name": "stderr",
          "output_type": "stream",
          "text": [
            "\u001b[36m(train_tune pid=39540)\u001b[0m c:\\Users\\alex_\\miniconda3\\Lib\\site-packages\\transformers\\utils\\generic.py:441: UserWarning: torch.utils._pytree._register_pytree_node is deprecated. Please use torch.utils._pytree.register_pytree_node instead.\n",
            "\u001b[36m(train_tune pid=39540)\u001b[0m   _torch_pytree._register_pytree_node(\n"
          ]
        },
        {
          "name": "stdout",
          "output_type": "stream",
          "text": [
            "== Status ==\n",
            "Current time: 2024-08-24 19:41:40 (running for 00:01:06.36)\n",
            "Using AsyncHyperBand: num_stopped=0\n",
            "Bracket: Iter 16.000: None | Iter 8.000: None | Iter 4.000: None | Iter 2.000: None | Iter 1.000: None\n",
            "Logical resource usage: 2.0/12 CPUs, 1.0/1 GPUs (0.0/1.0 accelerator_type:G)\n",
            "Result logdir: C:/Users/alex_/AppData/Local/Temp/ray/session_2024-08-24_19-40-00_112576_39512/artifacts/2024-08-24_19-40-33/train_tune_2024-08-24_19-40-33/driver_artifacts\n",
            "Number of trials: 10/10 (1 ERROR, 8 PENDING, 1 RUNNING)\n",
            "+------------------------+----------+-----------------+--------------+--------+----------------+\n",
            "| Trial name             | status   | loc             |   batch_size |     lr |   weight_decay |\n",
            "|------------------------+----------+-----------------+--------------+--------+----------------|\n",
            "| train_tune_df997_00001 | RUNNING  | 127.0.0.1:39540 |           64 | 1e-05  |         0.0001 |\n",
            "| train_tune_df997_00002 | PENDING  |                 |           64 | 0.0001 |         0.0001 |\n",
            "| train_tune_df997_00003 | PENDING  |                 |           64 | 0.0001 |         0.0001 |\n",
            "| train_tune_df997_00004 | PENDING  |                 |           64 | 0.001  |         0      |\n",
            "| train_tune_df997_00005 | PENDING  |                 |          128 | 0.001  |         0      |\n",
            "| train_tune_df997_00006 | PENDING  |                 |          128 | 0.0001 |         0      |\n",
            "| train_tune_df997_00007 | PENDING  |                 |          128 | 0.001  |         0      |\n",
            "| train_tune_df997_00008 | PENDING  |                 |          128 | 0.0001 |         1e-05  |\n",
            "| train_tune_df997_00009 | PENDING  |                 |           64 | 0.0005 |         1e-05  |\n",
            "| train_tune_df997_00000 | ERROR    | 127.0.0.1:44584 |           64 | 0.001  |         0.0001 |\n",
            "+------------------------+----------+-----------------+--------------+--------+----------------+\n",
            "Number of errored trials: 1\n",
            "+------------------------+--------------+-----------------------------------------------------------------------------------------------------------------------------------------------------------------------------------------------------------------------------------------------------------------+\n",
            "| Trial name             |   # failures | error file                                                                                                                                                                                                                                                      |\n",
            "|------------------------+--------------+-----------------------------------------------------------------------------------------------------------------------------------------------------------------------------------------------------------------------------------------------------------------|\n",
            "| train_tune_df997_00000 |            1 | C:/Users/alex_/AppData/Local/Temp/ray/session_2024-08-24_19-40-00_112576_39512/artifacts/2024-08-24_19-40-33/train_tune_2024-08-24_19-40-33/driver_artifacts/train_tune_df997_00000_0_batch_size=64,lr=0.0010,weight_decay=0.0001_2024-08-24_19-40-33/error.txt |\n",
            "+------------------------+--------------+-----------------------------------------------------------------------------------------------------------------------------------------------------------------------------------------------------------------------------------------------------------------+\n",
            "\n"
          ]
        },
        {
          "name": "stderr",
          "output_type": "stream",
          "text": [
            "\u001b[36m(train_tune pid=39540)\u001b[0m No module named 'KANLinear'\n",
            "\u001b[36m(train_tune pid=39540)\u001b[0m Traceback (most recent call last):\n",
            "\u001b[36m(train_tune pid=39540)\u001b[0m   File \"c:\\Users\\alex_\\miniconda3\\Lib\\site-packages\\ray\\_private\\serialization.py\", line 423, in deserialize_objects\n",
            "\u001b[36m(train_tune pid=39540)\u001b[0m     obj = self._deserialize_object(data, metadata, object_ref)\n",
            "\u001b[36m(train_tune pid=39540)\u001b[0m           ^^^^^^^^^^^^^^^^^^^^^^^^^^^^^^^^^^^^^^^^^^^^^^^^^^^^\n",
            "\u001b[36m(train_tune pid=39540)\u001b[0m   File \"c:\\Users\\alex_\\miniconda3\\Lib\\site-packages\\ray\\_private\\serialization.py\", line 280, in _deserialize_object\n",
            "\u001b[36m(train_tune pid=39540)\u001b[0m     return self._deserialize_msgpack_data(data, metadata_fields)\n",
            "\u001b[36m(train_tune pid=39540)\u001b[0m            ^^^^^^^^^^^^^^^^^^^^^^^^^^^^^^^^^^^^^^^^^^^^^^^^^^^^^\n",
            "\u001b[36m(train_tune pid=39540)\u001b[0m   File \"c:\\Users\\alex_\\miniconda3\\Lib\\site-packages\\ray\\_private\\serialization.py\", line 235, in _deserialize_msgpack_data\n",
            "\u001b[36m(train_tune pid=39540)\u001b[0m     python_objects = self._deserialize_pickle5_data(pickle5_data)\n",
            "\u001b[36m(train_tune pid=39540)\u001b[0m                      ^^^^^^^^^^^^^^^^^^^^^^^^^^^^^^^^^^^^^^^^^^^^\n",
            "\u001b[36m(train_tune pid=39540)\u001b[0m   File \"c:\\Users\\alex_\\miniconda3\\Lib\\site-packages\\ray\\_private\\serialization.py\", line 225, in _deserialize_pickle5_data\n",
            "\u001b[36m(train_tune pid=39540)\u001b[0m     obj = pickle.loads(in_band)\n",
            "\u001b[36m(train_tune pid=39540)\u001b[0m           ^^^^^^^^^^^^^^^^^^^^^\n",
            "\u001b[36m(train_tune pid=39540)\u001b[0m   File \"c:\\Users\\alex_\\Documents\\Udesa\\Research\\ckan\\architectures_28x28\\KANConvs_MLP.py\", line 6, in <module>\n",
            "\u001b[36m(train_tune pid=39540)\u001b[0m     from kan_convolutional.KANConv import KAN_Convolutional_Layer\n",
            "\u001b[36m(train_tune pid=39540)\u001b[0m   File \"c:\\Users\\alex_\\Documents\\Udesa\\Research\\ckan\\kan_convolutional\\KANConv.py\", line 7, in <module>\n",
            "\u001b[36m(train_tune pid=39540)\u001b[0m     from KANLinear import KANLinear\n",
            "\u001b[36m(train_tune pid=39540)\u001b[0m ModuleNotFoundError: No module named 'KANLinear'\n",
            "2024-08-24 19:41:44,057\tERROR tune_controller.py:1331 -- Trial task failed for trial train_tune_df997_00001\n",
            "Traceback (most recent call last):\n",
            "  File \"c:\\Users\\alex_\\miniconda3\\Lib\\site-packages\\ray\\air\\execution\\_internal\\event_manager.py\", line 110, in resolve_future\n",
            "    result = ray.get(future)\n",
            "             ^^^^^^^^^^^^^^^\n",
            "  File \"c:\\Users\\alex_\\miniconda3\\Lib\\site-packages\\ray\\_private\\auto_init_hook.py\", line 21, in auto_init_wrapper\n",
            "    return fn(*args, **kwargs)\n",
            "           ^^^^^^^^^^^^^^^^^^^\n",
            "  File \"c:\\Users\\alex_\\miniconda3\\Lib\\site-packages\\ray\\_private\\client_mode_hook.py\", line 103, in wrapper\n",
            "    return func(*args, **kwargs)\n",
            "           ^^^^^^^^^^^^^^^^^^^^^\n",
            "  File \"c:\\Users\\alex_\\miniconda3\\Lib\\site-packages\\ray\\_private\\worker.py\", line 2639, in get\n",
            "    values, debugger_breakpoint = worker.get_objects(object_refs, timeout=timeout)\n",
            "                                  ^^^^^^^^^^^^^^^^^^^^^^^^^^^^^^^^^^^^^^^^^^^^^^^^\n",
            "  File \"c:\\Users\\alex_\\miniconda3\\Lib\\site-packages\\ray\\_private\\worker.py\", line 864, in get_objects\n",
            "    raise value.as_instanceof_cause()\n",
            "ray.exceptions.RayTaskError(RaySystemError): \u001b[36mray::ImplicitFunc.train()\u001b[39m (pid=39540, ip=127.0.0.1, actor_id=21a9699ce4531a3672db960101000000, repr=train_tune)\n",
            "  File \"python\\ray\\_raylet.pyx\", line 1896, in ray._raylet.execute_task\n",
            "  File \"python\\ray\\_raylet.pyx\", line 1837, in ray._raylet.execute_task.function_executor\n",
            "  File \"c:\\Users\\alex_\\miniconda3\\Lib\\site-packages\\ray\\_private\\function_manager.py\", line 691, in actor_method_executor\n",
            "    return method(__ray_actor, *args, **kwargs)\n",
            "           ^^^^^^^^^^^^^^^^^^^^^^^^^^^^^^^^^^^^\n",
            "  File \"c:\\Users\\alex_\\miniconda3\\Lib\\site-packages\\ray\\util\\tracing\\tracing_helper.py\", line 467, in _resume_span\n",
            "    return method(self, *_args, **_kwargs)\n",
            "           ^^^^^^^^^^^^^^^^^^^^^^^^^^^^^^^\n",
            "  File \"c:\\Users\\alex_\\miniconda3\\Lib\\site-packages\\ray\\tune\\trainable\\trainable.py\", line 331, in train\n",
            "    raise skipped from exception_cause(skipped)\n",
            "  File \"c:\\Users\\alex_\\miniconda3\\Lib\\site-packages\\ray\\air\\_internal\\util.py\", line 98, in run\n",
            "    self._ret = self._target(*self._args, **self._kwargs)\n",
            "                ^^^^^^^^^^^^^^^^^^^^^^^^^^^^^^^^^^^^^^^^^\n",
            "  File \"c:\\Users\\alex_\\miniconda3\\Lib\\site-packages\\ray\\tune\\trainable\\function_trainable.py\", line 45, in <lambda>\n",
            "    training_func=lambda: self._trainable_func(self.config),\n",
            "                          ^^^^^^^^^^^^^^^^^^^^^^^^^^^^^^^^^\n",
            "  File \"c:\\Users\\alex_\\miniconda3\\Lib\\site-packages\\ray\\util\\tracing\\tracing_helper.py\", line 467, in _resume_span\n",
            "    return method(self, *_args, **_kwargs)\n",
            "           ^^^^^^^^^^^^^^^^^^^^^^^^^^^^^^^\n",
            "  File \"c:\\Users\\alex_\\miniconda3\\Lib\\site-packages\\ray\\tune\\trainable\\function_trainable.py\", line 248, in _trainable_func\n",
            "    output = fn()\n",
            "             ^^^^\n",
            "  File \"c:\\Users\\alex_\\miniconda3\\Lib\\site-packages\\ray\\tune\\trainable\\util.py\", line 129, in inner\n",
            "    fn_kwargs[k] = parameter_registry.get(prefix + k)\n",
            "                   ^^^^^^^^^^^^^^^^^^^^^^^^^^^^^^^^^^\n",
            "  File \"c:\\Users\\alex_\\miniconda3\\Lib\\site-packages\\ray\\tune\\registry.py\", line 300, in get\n",
            "    return ray.get(self.references[k])\n",
            "           ^^^^^^^^^^^^^^^^^^^^^^^^^^^\n",
            "  File \"c:\\Users\\alex_\\miniconda3\\Lib\\site-packages\\ray\\_private\\auto_init_hook.py\", line 21, in auto_init_wrapper\n",
            "    return fn(*args, **kwargs)\n",
            "           ^^^^^^^^^^^^^^^^^^^\n",
            "  File \"c:\\Users\\alex_\\miniconda3\\Lib\\site-packages\\ray\\_private\\client_mode_hook.py\", line 103, in wrapper\n",
            "    return func(*args, **kwargs)\n",
            "           ^^^^^^^^^^^^^^^^^^^^^\n",
            "  File \"c:\\Users\\alex_\\miniconda3\\Lib\\site-packages\\ray\\_private\\worker.py\", line 2639, in get\n",
            "    values, debugger_breakpoint = worker.get_objects(object_refs, timeout=timeout)\n",
            "                                  ^^^^^^^^^^^^^^^^^^^^^^^^^^^^^^^^^^^^^^^^^^^^^^^^\n",
            "  File \"c:\\Users\\alex_\\miniconda3\\Lib\\site-packages\\ray\\_private\\worker.py\", line 866, in get_objects\n",
            "    raise value\n",
            "ray.exceptions.RaySystemError: System error: No module named 'KANLinear'\n",
            "traceback: Traceback (most recent call last):\n",
            "  File \"c:\\Users\\alex_\\miniconda3\\Lib\\site-packages\\ray\\_private\\serialization.py\", line 423, in deserialize_objects\n",
            "    obj = self._deserialize_object(data, metadata, object_ref)\n",
            "          ^^^^^^^^^^^^^^^^^^^^^^^^^^^^^^^^^^^^^^^^^^^^^^^^^^^^\n",
            "  File \"c:\\Users\\alex_\\miniconda3\\Lib\\site-packages\\ray\\_private\\serialization.py\", line 280, in _deserialize_object\n",
            "    return self._deserialize_msgpack_data(data, metadata_fields)\n",
            "           ^^^^^^^^^^^^^^^^^^^^^^^^^^^^^^^^^^^^^^^^^^^^^^^^^^^^^\n",
            "  File \"c:\\Users\\alex_\\miniconda3\\Lib\\site-packages\\ray\\_private\\serialization.py\", line 235, in _deserialize_msgpack_data\n",
            "    python_objects = self._deserialize_pickle5_data(pickle5_data)\n",
            "                     ^^^^^^^^^^^^^^^^^^^^^^^^^^^^^^^^^^^^^^^^^^^^\n",
            "  File \"c:\\Users\\alex_\\miniconda3\\Lib\\site-packages\\ray\\_private\\serialization.py\", line 225, in _deserialize_pickle5_data\n",
            "    obj = pickle.loads(in_band)\n",
            "          ^^^^^^^^^^^^^^^^^^^^^\n",
            "  File \"c:\\Users\\alex_\\Documents\\Udesa\\Research\\ckan\\architectures_28x28\\KANConvs_MLP.py\", line 6, in <module>\n",
            "    from kan_convolutional.KANConv import KAN_Convolutional_Layer\n",
            "  File \"c:\\Users\\alex_\\Documents\\Udesa\\Research\\ckan\\kan_convolutional\\KANConv.py\", line 7, in <module>\n",
            "    from KANLinear import KANLinear\n",
            "ModuleNotFoundError: No module named 'KANLinear'\n"
          ]
        },
        {
          "name": "stdout",
          "output_type": "stream",
          "text": [
            "== Status ==\n",
            "Current time: 2024-08-24 19:41:45 (running for 00:01:11.36)\n",
            "Using AsyncHyperBand: num_stopped=0\n",
            "Bracket: Iter 16.000: None | Iter 8.000: None | Iter 4.000: None | Iter 2.000: None | Iter 1.000: None\n",
            "Logical resource usage: 2.0/12 CPUs, 1.0/1 GPUs (0.0/1.0 accelerator_type:G)\n",
            "Result logdir: C:/Users/alex_/AppData/Local/Temp/ray/session_2024-08-24_19-40-00_112576_39512/artifacts/2024-08-24_19-40-33/train_tune_2024-08-24_19-40-33/driver_artifacts\n",
            "Number of trials: 10/10 (2 ERROR, 8 PENDING)\n",
            "+------------------------+----------+-----------------+--------------+--------+----------------+\n",
            "| Trial name             | status   | loc             |   batch_size |     lr |   weight_decay |\n",
            "|------------------------+----------+-----------------+--------------+--------+----------------|\n",
            "| train_tune_df997_00002 | PENDING  |                 |           64 | 0.0001 |         0.0001 |\n",
            "| train_tune_df997_00003 | PENDING  |                 |           64 | 0.0001 |         0.0001 |\n",
            "| train_tune_df997_00004 | PENDING  |                 |           64 | 0.001  |         0      |\n",
            "| train_tune_df997_00005 | PENDING  |                 |          128 | 0.001  |         0      |\n",
            "| train_tune_df997_00006 | PENDING  |                 |          128 | 0.0001 |         0      |\n",
            "| train_tune_df997_00007 | PENDING  |                 |          128 | 0.001  |         0      |\n",
            "| train_tune_df997_00008 | PENDING  |                 |          128 | 0.0001 |         1e-05  |\n",
            "| train_tune_df997_00009 | PENDING  |                 |           64 | 0.0005 |         1e-05  |\n",
            "| train_tune_df997_00000 | ERROR    | 127.0.0.1:44584 |           64 | 0.001  |         0.0001 |\n",
            "| train_tune_df997_00001 | ERROR    | 127.0.0.1:39540 |           64 | 1e-05  |         0.0001 |\n",
            "+------------------------+----------+-----------------+--------------+--------+----------------+\n",
            "Number of errored trials: 2\n",
            "+------------------------+--------------+-----------------------------------------------------------------------------------------------------------------------------------------------------------------------------------------------------------------------------------------------------------------+\n",
            "| Trial name             |   # failures | error file                                                                                                                                                                                                                                                      |\n",
            "|------------------------+--------------+-----------------------------------------------------------------------------------------------------------------------------------------------------------------------------------------------------------------------------------------------------------------|\n",
            "| train_tune_df997_00000 |            1 | C:/Users/alex_/AppData/Local/Temp/ray/session_2024-08-24_19-40-00_112576_39512/artifacts/2024-08-24_19-40-33/train_tune_2024-08-24_19-40-33/driver_artifacts/train_tune_df997_00000_0_batch_size=64,lr=0.0010,weight_decay=0.0001_2024-08-24_19-40-33/error.txt |\n",
            "| train_tune_df997_00001 |            1 | C:/Users/alex_/AppData/Local/Temp/ray/session_2024-08-24_19-40-00_112576_39512/artifacts/2024-08-24_19-40-33/train_tune_2024-08-24_19-40-33/driver_artifacts/train_tune_df997_00001_1_batch_size=64,lr=0.0000,weight_decay=0.0001_2024-08-24_19-40-33/error.txt |\n",
            "+------------------------+--------------+-----------------------------------------------------------------------------------------------------------------------------------------------------------------------------------------------------------------------------------------------------------------+\n",
            "\n",
            "== Status ==\n",
            "Current time: 2024-08-24 19:41:50 (running for 00:01:16.43)\n",
            "Using AsyncHyperBand: num_stopped=0\n",
            "Bracket: Iter 16.000: None | Iter 8.000: None | Iter 4.000: None | Iter 2.000: None | Iter 1.000: None\n",
            "Logical resource usage: 2.0/12 CPUs, 1.0/1 GPUs (0.0/1.0 accelerator_type:G)\n",
            "Result logdir: C:/Users/alex_/AppData/Local/Temp/ray/session_2024-08-24_19-40-00_112576_39512/artifacts/2024-08-24_19-40-33/train_tune_2024-08-24_19-40-33/driver_artifacts\n",
            "Number of trials: 10/10 (2 ERROR, 8 PENDING)\n",
            "+------------------------+----------+-----------------+--------------+--------+----------------+\n",
            "| Trial name             | status   | loc             |   batch_size |     lr |   weight_decay |\n",
            "|------------------------+----------+-----------------+--------------+--------+----------------|\n",
            "| train_tune_df997_00002 | PENDING  |                 |           64 | 0.0001 |         0.0001 |\n",
            "| train_tune_df997_00003 | PENDING  |                 |           64 | 0.0001 |         0.0001 |\n",
            "| train_tune_df997_00004 | PENDING  |                 |           64 | 0.001  |         0      |\n",
            "| train_tune_df997_00005 | PENDING  |                 |          128 | 0.001  |         0      |\n",
            "| train_tune_df997_00006 | PENDING  |                 |          128 | 0.0001 |         0      |\n",
            "| train_tune_df997_00007 | PENDING  |                 |          128 | 0.001  |         0      |\n",
            "| train_tune_df997_00008 | PENDING  |                 |          128 | 0.0001 |         1e-05  |\n",
            "| train_tune_df997_00009 | PENDING  |                 |           64 | 0.0005 |         1e-05  |\n",
            "| train_tune_df997_00000 | ERROR    | 127.0.0.1:44584 |           64 | 0.001  |         0.0001 |\n",
            "| train_tune_df997_00001 | ERROR    | 127.0.0.1:39540 |           64 | 1e-05  |         0.0001 |\n",
            "+------------------------+----------+-----------------+--------------+--------+----------------+\n",
            "Number of errored trials: 2\n",
            "+------------------------+--------------+-----------------------------------------------------------------------------------------------------------------------------------------------------------------------------------------------------------------------------------------------------------------+\n",
            "| Trial name             |   # failures | error file                                                                                                                                                                                                                                                      |\n",
            "|------------------------+--------------+-----------------------------------------------------------------------------------------------------------------------------------------------------------------------------------------------------------------------------------------------------------------|\n",
            "| train_tune_df997_00000 |            1 | C:/Users/alex_/AppData/Local/Temp/ray/session_2024-08-24_19-40-00_112576_39512/artifacts/2024-08-24_19-40-33/train_tune_2024-08-24_19-40-33/driver_artifacts/train_tune_df997_00000_0_batch_size=64,lr=0.0010,weight_decay=0.0001_2024-08-24_19-40-33/error.txt |\n",
            "| train_tune_df997_00001 |            1 | C:/Users/alex_/AppData/Local/Temp/ray/session_2024-08-24_19-40-00_112576_39512/artifacts/2024-08-24_19-40-33/train_tune_2024-08-24_19-40-33/driver_artifacts/train_tune_df997_00001_1_batch_size=64,lr=0.0000,weight_decay=0.0001_2024-08-24_19-40-33/error.txt |\n",
            "+------------------------+--------------+-----------------------------------------------------------------------------------------------------------------------------------------------------------------------------------------------------------------------------------------------------------------+\n",
            "\n",
            "== Status ==\n",
            "Current time: 2024-08-24 19:41:55 (running for 00:01:21.47)\n",
            "Using AsyncHyperBand: num_stopped=0\n",
            "Bracket: Iter 16.000: None | Iter 8.000: None | Iter 4.000: None | Iter 2.000: None | Iter 1.000: None\n",
            "Logical resource usage: 2.0/12 CPUs, 1.0/1 GPUs (0.0/1.0 accelerator_type:G)\n",
            "Result logdir: C:/Users/alex_/AppData/Local/Temp/ray/session_2024-08-24_19-40-00_112576_39512/artifacts/2024-08-24_19-40-33/train_tune_2024-08-24_19-40-33/driver_artifacts\n",
            "Number of trials: 10/10 (2 ERROR, 8 PENDING)\n",
            "+------------------------+----------+-----------------+--------------+--------+----------------+\n",
            "| Trial name             | status   | loc             |   batch_size |     lr |   weight_decay |\n",
            "|------------------------+----------+-----------------+--------------+--------+----------------|\n",
            "| train_tune_df997_00002 | PENDING  |                 |           64 | 0.0001 |         0.0001 |\n",
            "| train_tune_df997_00003 | PENDING  |                 |           64 | 0.0001 |         0.0001 |\n",
            "| train_tune_df997_00004 | PENDING  |                 |           64 | 0.001  |         0      |\n",
            "| train_tune_df997_00005 | PENDING  |                 |          128 | 0.001  |         0      |\n",
            "| train_tune_df997_00006 | PENDING  |                 |          128 | 0.0001 |         0      |\n",
            "| train_tune_df997_00007 | PENDING  |                 |          128 | 0.001  |         0      |\n",
            "| train_tune_df997_00008 | PENDING  |                 |          128 | 0.0001 |         1e-05  |\n",
            "| train_tune_df997_00009 | PENDING  |                 |           64 | 0.0005 |         1e-05  |\n",
            "| train_tune_df997_00000 | ERROR    | 127.0.0.1:44584 |           64 | 0.001  |         0.0001 |\n",
            "| train_tune_df997_00001 | ERROR    | 127.0.0.1:39540 |           64 | 1e-05  |         0.0001 |\n",
            "+------------------------+----------+-----------------+--------------+--------+----------------+\n",
            "Number of errored trials: 2\n",
            "+------------------------+--------------+-----------------------------------------------------------------------------------------------------------------------------------------------------------------------------------------------------------------------------------------------------------------+\n",
            "| Trial name             |   # failures | error file                                                                                                                                                                                                                                                      |\n",
            "|------------------------+--------------+-----------------------------------------------------------------------------------------------------------------------------------------------------------------------------------------------------------------------------------------------------------------|\n",
            "| train_tune_df997_00000 |            1 | C:/Users/alex_/AppData/Local/Temp/ray/session_2024-08-24_19-40-00_112576_39512/artifacts/2024-08-24_19-40-33/train_tune_2024-08-24_19-40-33/driver_artifacts/train_tune_df997_00000_0_batch_size=64,lr=0.0010,weight_decay=0.0001_2024-08-24_19-40-33/error.txt |\n",
            "| train_tune_df997_00001 |            1 | C:/Users/alex_/AppData/Local/Temp/ray/session_2024-08-24_19-40-00_112576_39512/artifacts/2024-08-24_19-40-33/train_tune_2024-08-24_19-40-33/driver_artifacts/train_tune_df997_00001_1_batch_size=64,lr=0.0000,weight_decay=0.0001_2024-08-24_19-40-33/error.txt |\n",
            "+------------------------+--------------+-----------------------------------------------------------------------------------------------------------------------------------------------------------------------------------------------------------------------------------------------------------------+\n",
            "\n",
            "== Status ==\n",
            "Current time: 2024-08-24 19:42:00 (running for 00:01:26.55)\n",
            "Using AsyncHyperBand: num_stopped=0\n",
            "Bracket: Iter 16.000: None | Iter 8.000: None | Iter 4.000: None | Iter 2.000: None | Iter 1.000: None\n",
            "Logical resource usage: 2.0/12 CPUs, 1.0/1 GPUs (0.0/1.0 accelerator_type:G)\n",
            "Result logdir: C:/Users/alex_/AppData/Local/Temp/ray/session_2024-08-24_19-40-00_112576_39512/artifacts/2024-08-24_19-40-33/train_tune_2024-08-24_19-40-33/driver_artifacts\n",
            "Number of trials: 10/10 (2 ERROR, 8 PENDING)\n",
            "+------------------------+----------+-----------------+--------------+--------+----------------+\n",
            "| Trial name             | status   | loc             |   batch_size |     lr |   weight_decay |\n",
            "|------------------------+----------+-----------------+--------------+--------+----------------|\n",
            "| train_tune_df997_00002 | PENDING  |                 |           64 | 0.0001 |         0.0001 |\n",
            "| train_tune_df997_00003 | PENDING  |                 |           64 | 0.0001 |         0.0001 |\n",
            "| train_tune_df997_00004 | PENDING  |                 |           64 | 0.001  |         0      |\n",
            "| train_tune_df997_00005 | PENDING  |                 |          128 | 0.001  |         0      |\n",
            "| train_tune_df997_00006 | PENDING  |                 |          128 | 0.0001 |         0      |\n",
            "| train_tune_df997_00007 | PENDING  |                 |          128 | 0.001  |         0      |\n",
            "| train_tune_df997_00008 | PENDING  |                 |          128 | 0.0001 |         1e-05  |\n",
            "| train_tune_df997_00009 | PENDING  |                 |           64 | 0.0005 |         1e-05  |\n",
            "| train_tune_df997_00000 | ERROR    | 127.0.0.1:44584 |           64 | 0.001  |         0.0001 |\n",
            "| train_tune_df997_00001 | ERROR    | 127.0.0.1:39540 |           64 | 1e-05  |         0.0001 |\n",
            "+------------------------+----------+-----------------+--------------+--------+----------------+\n",
            "Number of errored trials: 2\n",
            "+------------------------+--------------+-----------------------------------------------------------------------------------------------------------------------------------------------------------------------------------------------------------------------------------------------------------------+\n",
            "| Trial name             |   # failures | error file                                                                                                                                                                                                                                                      |\n",
            "|------------------------+--------------+-----------------------------------------------------------------------------------------------------------------------------------------------------------------------------------------------------------------------------------------------------------------|\n",
            "| train_tune_df997_00000 |            1 | C:/Users/alex_/AppData/Local/Temp/ray/session_2024-08-24_19-40-00_112576_39512/artifacts/2024-08-24_19-40-33/train_tune_2024-08-24_19-40-33/driver_artifacts/train_tune_df997_00000_0_batch_size=64,lr=0.0010,weight_decay=0.0001_2024-08-24_19-40-33/error.txt |\n",
            "| train_tune_df997_00001 |            1 | C:/Users/alex_/AppData/Local/Temp/ray/session_2024-08-24_19-40-00_112576_39512/artifacts/2024-08-24_19-40-33/train_tune_2024-08-24_19-40-33/driver_artifacts/train_tune_df997_00001_1_batch_size=64,lr=0.0000,weight_decay=0.0001_2024-08-24_19-40-33/error.txt |\n",
            "+------------------------+--------------+-----------------------------------------------------------------------------------------------------------------------------------------------------------------------------------------------------------------------------------------------------------------+\n",
            "\n",
            "== Status ==\n",
            "Current time: 2024-08-24 19:42:05 (running for 00:01:31.58)\n",
            "Using AsyncHyperBand: num_stopped=0\n",
            "Bracket: Iter 16.000: None | Iter 8.000: None | Iter 4.000: None | Iter 2.000: None | Iter 1.000: None\n",
            "Logical resource usage: 2.0/12 CPUs, 1.0/1 GPUs (0.0/1.0 accelerator_type:G)\n",
            "Result logdir: C:/Users/alex_/AppData/Local/Temp/ray/session_2024-08-24_19-40-00_112576_39512/artifacts/2024-08-24_19-40-33/train_tune_2024-08-24_19-40-33/driver_artifacts\n",
            "Number of trials: 10/10 (2 ERROR, 8 PENDING)\n",
            "+------------------------+----------+-----------------+--------------+--------+----------------+\n",
            "| Trial name             | status   | loc             |   batch_size |     lr |   weight_decay |\n",
            "|------------------------+----------+-----------------+--------------+--------+----------------|\n",
            "| train_tune_df997_00002 | PENDING  |                 |           64 | 0.0001 |         0.0001 |\n",
            "| train_tune_df997_00003 | PENDING  |                 |           64 | 0.0001 |         0.0001 |\n",
            "| train_tune_df997_00004 | PENDING  |                 |           64 | 0.001  |         0      |\n",
            "| train_tune_df997_00005 | PENDING  |                 |          128 | 0.001  |         0      |\n",
            "| train_tune_df997_00006 | PENDING  |                 |          128 | 0.0001 |         0      |\n",
            "| train_tune_df997_00007 | PENDING  |                 |          128 | 0.001  |         0      |\n",
            "| train_tune_df997_00008 | PENDING  |                 |          128 | 0.0001 |         1e-05  |\n",
            "| train_tune_df997_00009 | PENDING  |                 |           64 | 0.0005 |         1e-05  |\n",
            "| train_tune_df997_00000 | ERROR    | 127.0.0.1:44584 |           64 | 0.001  |         0.0001 |\n",
            "| train_tune_df997_00001 | ERROR    | 127.0.0.1:39540 |           64 | 1e-05  |         0.0001 |\n",
            "+------------------------+----------+-----------------+--------------+--------+----------------+\n",
            "Number of errored trials: 2\n",
            "+------------------------+--------------+-----------------------------------------------------------------------------------------------------------------------------------------------------------------------------------------------------------------------------------------------------------------+\n",
            "| Trial name             |   # failures | error file                                                                                                                                                                                                                                                      |\n",
            "|------------------------+--------------+-----------------------------------------------------------------------------------------------------------------------------------------------------------------------------------------------------------------------------------------------------------------|\n",
            "| train_tune_df997_00000 |            1 | C:/Users/alex_/AppData/Local/Temp/ray/session_2024-08-24_19-40-00_112576_39512/artifacts/2024-08-24_19-40-33/train_tune_2024-08-24_19-40-33/driver_artifacts/train_tune_df997_00000_0_batch_size=64,lr=0.0010,weight_decay=0.0001_2024-08-24_19-40-33/error.txt |\n",
            "| train_tune_df997_00001 |            1 | C:/Users/alex_/AppData/Local/Temp/ray/session_2024-08-24_19-40-00_112576_39512/artifacts/2024-08-24_19-40-33/train_tune_2024-08-24_19-40-33/driver_artifacts/train_tune_df997_00001_1_batch_size=64,lr=0.0000,weight_decay=0.0001_2024-08-24_19-40-33/error.txt |\n",
            "+------------------------+--------------+-----------------------------------------------------------------------------------------------------------------------------------------------------------------------------------------------------------------------------------------------------------------+\n",
            "\n",
            "== Status ==\n",
            "Current time: 2024-08-24 19:42:10 (running for 00:01:36.63)\n",
            "Using AsyncHyperBand: num_stopped=0\n",
            "Bracket: Iter 16.000: None | Iter 8.000: None | Iter 4.000: None | Iter 2.000: None | Iter 1.000: None\n",
            "Logical resource usage: 2.0/12 CPUs, 1.0/1 GPUs (0.0/1.0 accelerator_type:G)\n",
            "Result logdir: C:/Users/alex_/AppData/Local/Temp/ray/session_2024-08-24_19-40-00_112576_39512/artifacts/2024-08-24_19-40-33/train_tune_2024-08-24_19-40-33/driver_artifacts\n",
            "Number of trials: 10/10 (2 ERROR, 8 PENDING)\n",
            "+------------------------+----------+-----------------+--------------+--------+----------------+\n",
            "| Trial name             | status   | loc             |   batch_size |     lr |   weight_decay |\n",
            "|------------------------+----------+-----------------+--------------+--------+----------------|\n",
            "| train_tune_df997_00002 | PENDING  |                 |           64 | 0.0001 |         0.0001 |\n",
            "| train_tune_df997_00003 | PENDING  |                 |           64 | 0.0001 |         0.0001 |\n",
            "| train_tune_df997_00004 | PENDING  |                 |           64 | 0.001  |         0      |\n",
            "| train_tune_df997_00005 | PENDING  |                 |          128 | 0.001  |         0      |\n",
            "| train_tune_df997_00006 | PENDING  |                 |          128 | 0.0001 |         0      |\n",
            "| train_tune_df997_00007 | PENDING  |                 |          128 | 0.001  |         0      |\n",
            "| train_tune_df997_00008 | PENDING  |                 |          128 | 0.0001 |         1e-05  |\n",
            "| train_tune_df997_00009 | PENDING  |                 |           64 | 0.0005 |         1e-05  |\n",
            "| train_tune_df997_00000 | ERROR    | 127.0.0.1:44584 |           64 | 0.001  |         0.0001 |\n",
            "| train_tune_df997_00001 | ERROR    | 127.0.0.1:39540 |           64 | 1e-05  |         0.0001 |\n",
            "+------------------------+----------+-----------------+--------------+--------+----------------+\n",
            "Number of errored trials: 2\n",
            "+------------------------+--------------+-----------------------------------------------------------------------------------------------------------------------------------------------------------------------------------------------------------------------------------------------------------------+\n",
            "| Trial name             |   # failures | error file                                                                                                                                                                                                                                                      |\n",
            "|------------------------+--------------+-----------------------------------------------------------------------------------------------------------------------------------------------------------------------------------------------------------------------------------------------------------------|\n",
            "| train_tune_df997_00000 |            1 | C:/Users/alex_/AppData/Local/Temp/ray/session_2024-08-24_19-40-00_112576_39512/artifacts/2024-08-24_19-40-33/train_tune_2024-08-24_19-40-33/driver_artifacts/train_tune_df997_00000_0_batch_size=64,lr=0.0010,weight_decay=0.0001_2024-08-24_19-40-33/error.txt |\n",
            "| train_tune_df997_00001 |            1 | C:/Users/alex_/AppData/Local/Temp/ray/session_2024-08-24_19-40-00_112576_39512/artifacts/2024-08-24_19-40-33/train_tune_2024-08-24_19-40-33/driver_artifacts/train_tune_df997_00001_1_batch_size=64,lr=0.0000,weight_decay=0.0001_2024-08-24_19-40-33/error.txt |\n",
            "+------------------------+--------------+-----------------------------------------------------------------------------------------------------------------------------------------------------------------------------------------------------------------------------------------------------------------+\n",
            "\n",
            "== Status ==\n",
            "Current time: 2024-08-24 19:42:15 (running for 00:01:41.70)\n",
            "Using AsyncHyperBand: num_stopped=0\n",
            "Bracket: Iter 16.000: None | Iter 8.000: None | Iter 4.000: None | Iter 2.000: None | Iter 1.000: None\n",
            "Logical resource usage: 2.0/12 CPUs, 1.0/1 GPUs (0.0/1.0 accelerator_type:G)\n",
            "Result logdir: C:/Users/alex_/AppData/Local/Temp/ray/session_2024-08-24_19-40-00_112576_39512/artifacts/2024-08-24_19-40-33/train_tune_2024-08-24_19-40-33/driver_artifacts\n",
            "Number of trials: 10/10 (2 ERROR, 7 PENDING, 1 RUNNING)\n",
            "+------------------------+----------+-----------------+--------------+--------+----------------+\n",
            "| Trial name             | status   | loc             |   batch_size |     lr |   weight_decay |\n",
            "|------------------------+----------+-----------------+--------------+--------+----------------|\n",
            "| train_tune_df997_00002 | RUNNING  | 127.0.0.1:6860  |           64 | 0.0001 |         0.0001 |\n",
            "| train_tune_df997_00003 | PENDING  |                 |           64 | 0.0001 |         0.0001 |\n",
            "| train_tune_df997_00004 | PENDING  |                 |           64 | 0.001  |         0      |\n",
            "| train_tune_df997_00005 | PENDING  |                 |          128 | 0.001  |         0      |\n",
            "| train_tune_df997_00006 | PENDING  |                 |          128 | 0.0001 |         0      |\n",
            "| train_tune_df997_00007 | PENDING  |                 |          128 | 0.001  |         0      |\n",
            "| train_tune_df997_00008 | PENDING  |                 |          128 | 0.0001 |         1e-05  |\n",
            "| train_tune_df997_00009 | PENDING  |                 |           64 | 0.0005 |         1e-05  |\n",
            "| train_tune_df997_00000 | ERROR    | 127.0.0.1:44584 |           64 | 0.001  |         0.0001 |\n",
            "| train_tune_df997_00001 | ERROR    | 127.0.0.1:39540 |           64 | 1e-05  |         0.0001 |\n",
            "+------------------------+----------+-----------------+--------------+--------+----------------+\n",
            "Number of errored trials: 2\n",
            "+------------------------+--------------+-----------------------------------------------------------------------------------------------------------------------------------------------------------------------------------------------------------------------------------------------------------------+\n",
            "| Trial name             |   # failures | error file                                                                                                                                                                                                                                                      |\n",
            "|------------------------+--------------+-----------------------------------------------------------------------------------------------------------------------------------------------------------------------------------------------------------------------------------------------------------------|\n",
            "| train_tune_df997_00000 |            1 | C:/Users/alex_/AppData/Local/Temp/ray/session_2024-08-24_19-40-00_112576_39512/artifacts/2024-08-24_19-40-33/train_tune_2024-08-24_19-40-33/driver_artifacts/train_tune_df997_00000_0_batch_size=64,lr=0.0010,weight_decay=0.0001_2024-08-24_19-40-33/error.txt |\n",
            "| train_tune_df997_00001 |            1 | C:/Users/alex_/AppData/Local/Temp/ray/session_2024-08-24_19-40-00_112576_39512/artifacts/2024-08-24_19-40-33/train_tune_2024-08-24_19-40-33/driver_artifacts/train_tune_df997_00001_1_batch_size=64,lr=0.0000,weight_decay=0.0001_2024-08-24_19-40-33/error.txt |\n",
            "+------------------------+--------------+-----------------------------------------------------------------------------------------------------------------------------------------------------------------------------------------------------------------------------------------------------------------+\n",
            "\n"
          ]
        },
        {
          "name": "stderr",
          "output_type": "stream",
          "text": [
            "2024-08-24 19:42:16,334\tWARNING tune.py:219 -- Stop signal received (e.g. via SIGINT/Ctrl+C), ending Ray Tune run. This will try to checkpoint the experiment state one last time. Press CTRL+C (or send SIGINT/SIGKILL/SIGTERM) to skip. \n",
            "2024-08-24 19:42:16,388\tINFO tune.py:1009 -- Wrote the latest version of all result files and experiment state to 'C:/Users/alex_/ray_results/train_tune_2024-08-24_19-40-33' in 0.0521s.\n"
          ]
        },
        {
          "name": "stdout",
          "output_type": "stream",
          "text": [
            "== Status ==\n",
            "Current time: 2024-08-24 19:42:16 (running for 00:01:42.66)\n",
            "Using AsyncHyperBand: num_stopped=0\n",
            "Bracket: Iter 16.000: None | Iter 8.000: None | Iter 4.000: None | Iter 2.000: None | Iter 1.000: None\n",
            "Logical resource usage: 2.0/12 CPUs, 1.0/1 GPUs (0.0/1.0 accelerator_type:G)\n",
            "Result logdir: C:/Users/alex_/AppData/Local/Temp/ray/session_2024-08-24_19-40-00_112576_39512/artifacts/2024-08-24_19-40-33/train_tune_2024-08-24_19-40-33/driver_artifacts\n",
            "Number of trials: 10/10 (2 ERROR, 7 PENDING, 1 RUNNING)\n",
            "+------------------------+----------+-----------------+--------------+--------+----------------+\n",
            "| Trial name             | status   | loc             |   batch_size |     lr |   weight_decay |\n",
            "|------------------------+----------+-----------------+--------------+--------+----------------|\n",
            "| train_tune_df997_00002 | RUNNING  | 127.0.0.1:6860  |           64 | 0.0001 |         0.0001 |\n",
            "| train_tune_df997_00003 | PENDING  |                 |           64 | 0.0001 |         0.0001 |\n",
            "| train_tune_df997_00004 | PENDING  |                 |           64 | 0.001  |         0      |\n",
            "| train_tune_df997_00005 | PENDING  |                 |          128 | 0.001  |         0      |\n",
            "| train_tune_df997_00006 | PENDING  |                 |          128 | 0.0001 |         0      |\n",
            "| train_tune_df997_00007 | PENDING  |                 |          128 | 0.001  |         0      |\n",
            "| train_tune_df997_00008 | PENDING  |                 |          128 | 0.0001 |         1e-05  |\n",
            "| train_tune_df997_00009 | PENDING  |                 |           64 | 0.0005 |         1e-05  |\n",
            "| train_tune_df997_00000 | ERROR    | 127.0.0.1:44584 |           64 | 0.001  |         0.0001 |\n",
            "| train_tune_df997_00001 | ERROR    | 127.0.0.1:39540 |           64 | 1e-05  |         0.0001 |\n",
            "+------------------------+----------+-----------------+--------------+--------+----------------+\n",
            "Number of errored trials: 2\n",
            "+------------------------+--------------+-----------------------------------------------------------------------------------------------------------------------------------------------------------------------------------------------------------------------------------------------------------------+\n",
            "| Trial name             |   # failures | error file                                                                                                                                                                                                                                                      |\n",
            "|------------------------+--------------+-----------------------------------------------------------------------------------------------------------------------------------------------------------------------------------------------------------------------------------------------------------------|\n",
            "| train_tune_df997_00000 |            1 | C:/Users/alex_/AppData/Local/Temp/ray/session_2024-08-24_19-40-00_112576_39512/artifacts/2024-08-24_19-40-33/train_tune_2024-08-24_19-40-33/driver_artifacts/train_tune_df997_00000_0_batch_size=64,lr=0.0010,weight_decay=0.0001_2024-08-24_19-40-33/error.txt |\n",
            "| train_tune_df997_00001 |            1 | C:/Users/alex_/AppData/Local/Temp/ray/session_2024-08-24_19-40-00_112576_39512/artifacts/2024-08-24_19-40-33/train_tune_2024-08-24_19-40-33/driver_artifacts/train_tune_df997_00001_1_batch_size=64,lr=0.0000,weight_decay=0.0001_2024-08-24_19-40-33/error.txt |\n",
            "+------------------------+--------------+-----------------------------------------------------------------------------------------------------------------------------------------------------------------------------------------------------------------------------------------------------------------+\n",
            "\n"
          ]
        },
        {
          "name": "stderr",
          "output_type": "stream",
          "text": [
            "\u001b[36m(train_tune pid=6860)\u001b[0m c:\\Users\\alex_\\miniconda3\\Lib\\site-packages\\transformers\\utils\\generic.py:441: UserWarning: torch.utils._pytree._register_pytree_node is deprecated. Please use torch.utils._pytree.register_pytree_node instead.\n",
            "\u001b[36m(train_tune pid=6860)\u001b[0m   _torch_pytree._register_pytree_node(\n",
            "\u001b[36m(train_tune pid=6860)\u001b[0m No module named 'KANLinear'\n",
            "\u001b[36m(train_tune pid=6860)\u001b[0m Traceback (most recent call last):\n",
            "\u001b[36m(train_tune pid=6860)\u001b[0m   File \"c:\\Users\\alex_\\miniconda3\\Lib\\site-packages\\ray\\_private\\serialization.py\", line 423, in deserialize_objects\n",
            "\u001b[36m(train_tune pid=6860)\u001b[0m     obj = self._deserialize_object(data, metadata, object_ref)\n",
            "\u001b[36m(train_tune pid=6860)\u001b[0m           ^^^^^^^^^^^^^^^^^^^^^^^^^^^^^^^^^^^^^^^^^^^^^^^^^^^^\n",
            "\u001b[36m(train_tune pid=6860)\u001b[0m   File \"c:\\Users\\alex_\\miniconda3\\Lib\\site-packages\\ray\\_private\\serialization.py\", line 280, in _deserialize_object\n",
            "\u001b[36m(train_tune pid=6860)\u001b[0m     return self._deserialize_msgpack_data(data, metadata_fields)\n",
            "\u001b[36m(train_tune pid=6860)\u001b[0m            ^^^^^^^^^^^^^^^^^^^^^^^^^^^^^^^^^^^^^^^^^^^^^^^^^^^^^\n",
            "\u001b[36m(train_tune pid=6860)\u001b[0m   File \"c:\\Users\\alex_\\miniconda3\\Lib\\site-packages\\ray\\_private\\serialization.py\", line 235, in _deserialize_msgpack_data\n",
            "\u001b[36m(train_tune pid=6860)\u001b[0m     python_objects = self._deserialize_pickle5_data(pickle5_data)\n",
            "\u001b[36m(train_tune pid=6860)\u001b[0m                      ^^^^^^^^^^^^^^^^^^^^^^^^^^^^^^^^^^^^^^^^^^^^\n",
            "\u001b[36m(train_tune pid=6860)\u001b[0m   File \"c:\\Users\\alex_\\miniconda3\\Lib\\site-packages\\ray\\_private\\serialization.py\", line 225, in _deserialize_pickle5_data\n",
            "\u001b[36m(train_tune pid=6860)\u001b[0m     obj = pickle.loads(in_band)\n",
            "\u001b[36m(train_tune pid=6860)\u001b[0m           ^^^^^^^^^^^^^^^^^^^^^\n",
            "\u001b[36m(train_tune pid=6860)\u001b[0m   File \"c:\\Users\\alex_\\Documents\\Udesa\\Research\\ckan\\architectures_28x28\\KANConvs_MLP.py\", line 6, in <module>\n",
            "\u001b[36m(train_tune pid=6860)\u001b[0m     from kan_convolutional.KANConv import KAN_Convolutional_Layer\n",
            "\u001b[36m(train_tune pid=6860)\u001b[0m   File \"c:\\Users\\alex_\\Documents\\Udesa\\Research\\ckan\\kan_convolutional\\KANConv.py\", line 7, in <module>\n",
            "\u001b[36m(train_tune pid=6860)\u001b[0m     from KANLinear import KANLinear\n",
            "\u001b[36m(train_tune pid=6860)\u001b[0m ModuleNotFoundError: No module named 'KANLinear'\n",
            "2024-08-24 19:42:25,935\tERROR worker.py:409 -- Unhandled error (suppress with 'RAY_IGNORE_UNHANDLED_ERRORS=1'): \u001b[36mray::ImplicitFunc.train()\u001b[39m (pid=6860, ip=127.0.0.1, actor_id=1c1a2e2b03023d2fcb1a4d8c01000000, repr=train_tune)\n",
            "  File \"python\\ray\\_raylet.pyx\", line 1896, in ray._raylet.execute_task\n",
            "  File \"python\\ray\\_raylet.pyx\", line 1837, in ray._raylet.execute_task.function_executor\n",
            "  File \"c:\\Users\\alex_\\miniconda3\\Lib\\site-packages\\ray\\_private\\function_manager.py\", line 691, in actor_method_executor\n",
            "    return method(__ray_actor, *args, **kwargs)\n",
            "           ^^^^^^^^^^^^^^^^^^^^^^^^^^^^^^^^^^^^\n",
            "  File \"c:\\Users\\alex_\\miniconda3\\Lib\\site-packages\\ray\\util\\tracing\\tracing_helper.py\", line 467, in _resume_span\n",
            "    return method(self, *_args, **_kwargs)\n",
            "           ^^^^^^^^^^^^^^^^^^^^^^^^^^^^^^^\n",
            "  File \"c:\\Users\\alex_\\miniconda3\\Lib\\site-packages\\ray\\tune\\trainable\\trainable.py\", line 331, in train\n",
            "    raise skipped from exception_cause(skipped)\n",
            "  File \"c:\\Users\\alex_\\miniconda3\\Lib\\site-packages\\ray\\air\\_internal\\util.py\", line 98, in run\n",
            "    self._ret = self._target(*self._args, **self._kwargs)\n",
            "                ^^^^^^^^^^^^^^^^^^^^^^^^^^^^^^^^^^^^^^^^^\n",
            "  File \"c:\\Users\\alex_\\miniconda3\\Lib\\site-packages\\ray\\tune\\trainable\\function_trainable.py\", line 45, in <lambda>\n",
            "    training_func=lambda: self._trainable_func(self.config),\n",
            "                          ^^^^^^^^^^^^^^^^^^^^^^^^^^^^^^^^^\n",
            "  File \"c:\\Users\\alex_\\miniconda3\\Lib\\site-packages\\ray\\util\\tracing\\tracing_helper.py\", line 467, in _resume_span\n",
            "    return method(self, *_args, **_kwargs)\n",
            "           ^^^^^^^^^^^^^^^^^^^^^^^^^^^^^^^\n",
            "  File \"c:\\Users\\alex_\\miniconda3\\Lib\\site-packages\\ray\\tune\\trainable\\function_trainable.py\", line 248, in _trainable_func\n",
            "    output = fn()\n",
            "             ^^^^\n",
            "  File \"c:\\Users\\alex_\\miniconda3\\Lib\\site-packages\\ray\\tune\\trainable\\util.py\", line 129, in inner\n",
            "    fn_kwargs[k] = parameter_registry.get(prefix + k)\n",
            "                   ^^^^^^^^^^^^^^^^^^^^^^^^^^^^^^^^^^\n",
            "  File \"c:\\Users\\alex_\\miniconda3\\Lib\\site-packages\\ray\\tune\\registry.py\", line 300, in get\n",
            "    return ray.get(self.references[k])\n",
            "           ^^^^^^^^^^^^^^^^^^^^^^^^^^^\n",
            "  File \"c:\\Users\\alex_\\miniconda3\\Lib\\site-packages\\ray\\_private\\auto_init_hook.py\", line 21, in auto_init_wrapper\n",
            "    return fn(*args, **kwargs)\n",
            "           ^^^^^^^^^^^^^^^^^^^\n",
            "  File \"c:\\Users\\alex_\\miniconda3\\Lib\\site-packages\\ray\\_private\\client_mode_hook.py\", line 103, in wrapper\n",
            "    return func(*args, **kwargs)\n",
            "           ^^^^^^^^^^^^^^^^^^^^^\n",
            "  File \"c:\\Users\\alex_\\miniconda3\\Lib\\site-packages\\ray\\_private\\worker.py\", line 2639, in get\n",
            "    values, debugger_breakpoint = worker.get_objects(object_refs, timeout=timeout)\n",
            "                                  ^^^^^^^^^^^^^^^^^^^^^^^^^^^^^^^^^^^^^^^^^^^^^^^^\n",
            "  File \"c:\\Users\\alex_\\miniconda3\\Lib\\site-packages\\ray\\_private\\worker.py\", line 866, in get_objects\n",
            "    raise value\n",
            "ray.exceptions.RaySystemError: System error: No module named 'KANLinear'\n",
            "traceback: Traceback (most recent call last):\n",
            "  File \"c:\\Users\\alex_\\miniconda3\\Lib\\site-packages\\ray\\_private\\serialization.py\", line 423, in deserialize_objects\n",
            "    obj = self._deserialize_object(data, metadata, object_ref)\n",
            "          ^^^^^^^^^^^^^^^^^^^^^^^^^^^^^^^^^^^^^^^^^^^^^^^^^^^^\n",
            "  File \"c:\\Users\\alex_\\miniconda3\\Lib\\site-packages\\ray\\_private\\serialization.py\", line 280, in _deserialize_object\n",
            "    return self._deserialize_msgpack_data(data, metadata_fields)\n",
            "           ^^^^^^^^^^^^^^^^^^^^^^^^^^^^^^^^^^^^^^^^^^^^^^^^^^^^^\n",
            "  File \"c:\\Users\\alex_\\miniconda3\\Lib\\site-packages\\ray\\_private\\serialization.py\", line 235, in _deserialize_msgpack_data\n",
            "    python_objects = self._deserialize_pickle5_data(pickle5_data)\n",
            "                     ^^^^^^^^^^^^^^^^^^^^^^^^^^^^^^^^^^^^^^^^^^^^\n",
            "  File \"c:\\Users\\alex_\\miniconda3\\Lib\\site-packages\\ray\\_private\\serialization.py\", line 225, in _deserialize_pickle5_data\n",
            "    obj = pickle.loads(in_band)\n",
            "          ^^^^^^^^^^^^^^^^^^^^^\n",
            "  File \"c:\\Users\\alex_\\Documents\\Udesa\\Research\\ckan\\architectures_28x28\\KANConvs_MLP.py\", line 6, in <module>\n",
            "    from kan_convolutional.KANConv import KAN_Convolutional_Layer\n",
            "  File \"c:\\Users\\alex_\\Documents\\Udesa\\Research\\ckan\\kan_convolutional\\KANConv.py\", line 7, in <module>\n",
            "    from KANLinear import KANLinear\n",
            "ModuleNotFoundError: No module named 'KANLinear'\n",
            "2024-08-24 19:42:25,945\tERROR tune.py:1037 -- Trials did not complete: [train_tune_df997_00000, train_tune_df997_00001]\n",
            "2024-08-24 19:42:25,947\tINFO tune.py:1041 -- Total run time: 112.58 seconds (102.60 seconds for the tuning loop).\n",
            "2024-08-24 19:42:25,951\tWARNING tune.py:1056 -- Experiment has been interrupted, but the most recent state was saved.\n",
            "Resume experiment with: tune.run(..., resume=True)\n",
            "2024-08-24 19:42:25,994\tWARNING experiment_analysis.py:180 -- Failed to fetch metrics for 7 trial(s):\n",
            "- train_tune_df997_00003: FileNotFoundError('Could not fetch metrics for train_tune_df997_00003: both result.json and progress.csv were not found at C:/Users/alex_/ray_results/train_tune_2024-08-24_19-40-33/train_tune_df997_00003_3_batch_size=64,lr=0.0001,weight_decay=0.0001_2024-08-24_19-40-33')\n",
            "- train_tune_df997_00004: FileNotFoundError('Could not fetch metrics for train_tune_df997_00004: both result.json and progress.csv were not found at C:/Users/alex_/ray_results/train_tune_2024-08-24_19-40-33/train_tune_df997_00004_4_batch_size=64,lr=0.0010,weight_decay=0_2024-08-24_19-40-33')\n",
            "- train_tune_df997_00005: FileNotFoundError('Could not fetch metrics for train_tune_df997_00005: both result.json and progress.csv were not found at C:/Users/alex_/ray_results/train_tune_2024-08-24_19-40-33/train_tune_df997_00005_5_batch_size=128,lr=0.0010,weight_decay=0_2024-08-24_19-40-34')\n",
            "- train_tune_df997_00006: FileNotFoundError('Could not fetch metrics for train_tune_df997_00006: both result.json and progress.csv were not found at C:/Users/alex_/ray_results/train_tune_2024-08-24_19-40-33/train_tune_df997_00006_6_batch_size=128,lr=0.0001,weight_decay=0_2024-08-24_19-40-34')\n",
            "- train_tune_df997_00007: FileNotFoundError('Could not fetch metrics for train_tune_df997_00007: both result.json and progress.csv were not found at C:/Users/alex_/ray_results/train_tune_2024-08-24_19-40-33/train_tune_df997_00007_7_batch_size=128,lr=0.0010,weight_decay=0_2024-08-24_19-40-34')\n",
            "- train_tune_df997_00008: FileNotFoundError('Could not fetch metrics for train_tune_df997_00008: both result.json and progress.csv were not found at C:/Users/alex_/ray_results/train_tune_2024-08-24_19-40-33/train_tune_df997_00008_8_batch_size=128,lr=0.0001,weight_decay=0.0000_2024-08-24_19-40-34')\n",
            "- train_tune_df997_00009: FileNotFoundError('Could not fetch metrics for train_tune_df997_00009: both result.json and progress.csv were not found at C:/Users/alex_/ray_results/train_tune_2024-08-24_19-40-33/train_tune_df997_00009_9_batch_size=64,lr=0.0005,weight_decay=0.0000_2024-08-24_19-40-34')\n",
            "2024-08-24 19:42:25,996\tWARNING experiment_analysis.py:558 -- Could not find best trial. Did you pass the correct `metric` parameter?\n"
          ]
        },
        {
          "ename": "AttributeError",
          "evalue": "'NoneType' object has no attribute 'config'",
          "output_type": "error",
          "traceback": [
            "\u001b[1;31m---------------------------------------------------------------------------\u001b[0m",
            "\u001b[1;31mAttributeError\u001b[0m                            Traceback (most recent call last)",
            "Cell \u001b[1;32mIn[6], line 3\u001b[0m\n\u001b[0;32m      1\u001b[0m model_KANC_MLP\u001b[38;5;241m=\u001b[39m KANC_MLP(device \u001b[38;5;241m=\u001b[39m device)\n\u001b[0;32m      2\u001b[0m path \u001b[38;5;241m=\u001b[39m \u001b[38;5;124m\"\u001b[39m\u001b[38;5;124mtony.pt\u001b[39m\u001b[38;5;124m\"\u001b[39m\n\u001b[1;32m----> 3\u001b[0m \u001b[43msearch_hiperparams_and_get_final_model\u001b[49m\u001b[43m(\u001b[49m\u001b[43mKANC_MLP\u001b[49m\u001b[43m,\u001b[49m\u001b[38;5;28;43;01mTrue\u001b[39;49;00m\u001b[43m,\u001b[49m\u001b[43m \u001b[49m\u001b[43mtrain_obj\u001b[49m\u001b[43m,\u001b[49m\u001b[43m \u001b[49m\u001b[43mval_obj\u001b[49m\u001b[43m,\u001b[49m\u001b[43m \u001b[49m\u001b[43mtest_loader\u001b[49m\u001b[43m,\u001b[49m\u001b[43mpath\u001b[49m\u001b[43m,\u001b[49m\u001b[43msearch_grid_combinations\u001b[49m\u001b[43m \u001b[49m\u001b[38;5;241;43m=\u001b[39;49m\u001b[43m \u001b[49m\u001b[38;5;241;43m10\u001b[39;49m\u001b[43m \u001b[49m\u001b[43m)\u001b[49m\n\u001b[0;32m      4\u001b[0m \u001b[38;5;66;03m#train_model_generic(model_KANC_MLP, train_loader, test_loader,device,epochs = 15)\u001b[39;00m\n",
            "File \u001b[1;32mc:\\Users\\alex_\\Documents\\Udesa\\Research\\ckan\\hiperparam_tuning.py:106\u001b[0m, in \u001b[0;36msearch_hiperparams_and_get_final_model\u001b[1;34m(model_class, is_kan, train_obj, valid_obj, test_loader, path, search_grid_combinations, grid)\u001b[0m\n\u001b[0;32m    100\u001b[0m \u001b[38;5;28;01mdef\u001b[39;00m \u001b[38;5;21msearch_hiperparams_and_get_final_model\u001b[39m(model_class,is_kan, train_obj, valid_obj, test_loader,path,search_grid_combinations \u001b[38;5;241m=\u001b[39m \u001b[38;5;241m10\u001b[39m,grid\u001b[38;5;241m=\u001b[39m {\n\u001b[0;32m    101\u001b[0m     \u001b[38;5;124m\"\u001b[39m\u001b[38;5;124mlr\u001b[39m\u001b[38;5;124m\"\u001b[39m: tune\u001b[38;5;241m.\u001b[39mchoice([\u001b[38;5;241m1e-5\u001b[39m, \u001b[38;5;241m1e-4\u001b[39m,\u001b[38;5;241m5e-4\u001b[39m ,\u001b[38;5;241m1e-3\u001b[39m]),\n\u001b[0;32m    102\u001b[0m     \u001b[38;5;124m\"\u001b[39m\u001b[38;5;124mweight_decay\u001b[39m\u001b[38;5;124m\"\u001b[39m: tune\u001b[38;5;241m.\u001b[39mchoice([\u001b[38;5;241m0\u001b[39m, \u001b[38;5;241m1e-5\u001b[39m, \u001b[38;5;241m1e-4\u001b[39m]),\n\u001b[0;32m    103\u001b[0m     \u001b[38;5;124m\"\u001b[39m\u001b[38;5;124mbatch_size\u001b[39m\u001b[38;5;124m\"\u001b[39m: tune\u001b[38;5;241m.\u001b[39mchoice([\u001b[38;5;241m32\u001b[39m, \u001b[38;5;241m64\u001b[39m, \u001b[38;5;241m128\u001b[39m ]),\n\u001b[0;32m    104\u001b[0m     \u001b[38;5;124m\"\u001b[39m\u001b[38;5;124mgrid_size\u001b[39m\u001b[38;5;124m\"\u001b[39m: [\u001b[38;5;241m10\u001b[39m,\u001b[38;5;241m15\u001b[39m,\u001b[38;5;241m20\u001b[39m]\n\u001b[0;32m    105\u001b[0m     } ):\n\u001b[1;32m--> 106\u001b[0m     best_trial \u001b[38;5;241m=\u001b[39m \u001b[43mtune_lr_betas_eps_l2\u001b[49m\u001b[43m(\u001b[49m\u001b[43mmodel_class\u001b[49m\u001b[43m,\u001b[49m\u001b[43m \u001b[49m\u001b[43mis_kan\u001b[49m\u001b[43m,\u001b[49m\u001b[43m \u001b[49m\u001b[43mtrain_obj\u001b[49m\u001b[43m,\u001b[49m\u001b[43mvalid_obj\u001b[49m\u001b[43m,\u001b[49m\u001b[43m \u001b[49m\u001b[43mn_combs\u001b[49m\u001b[43m \u001b[49m\u001b[38;5;241;43m=\u001b[39;49m\u001b[43m \u001b[49m\u001b[43msearch_grid_combinations\u001b[49m\u001b[43m,\u001b[49m\u001b[43m \u001b[49m\u001b[43mgrid\u001b[49m\u001b[43m \u001b[49m\u001b[38;5;241;43m=\u001b[39;49m\u001b[43m \u001b[49m\u001b[43mgrid\u001b[49m\u001b[43m)\u001b[49m\n\u001b[0;32m    107\u001b[0m     epochs \u001b[38;5;241m=\u001b[39m best_trial\u001b[38;5;241m.\u001b[39mlast_result[\u001b[38;5;124m'\u001b[39m\u001b[38;5;124mepochs\u001b[39m\u001b[38;5;124m'\u001b[39m]\n\u001b[0;32m    109\u001b[0m     get_best_model(model_class,epochs,best_trial, train_obj,test_loader,path)\n",
            "File \u001b[1;32mc:\\Users\\alex_\\Documents\\Udesa\\Research\\ckan\\hiperparam_tuning.py:72\u001b[0m, in \u001b[0;36mtune_lr_betas_eps_l2\u001b[1;34m(model_class, is_kan, train_obj, val_obj, n_combs, max_epochs, grid)\u001b[0m\n\u001b[0;32m     70\u001b[0m \u001b[38;5;66;03m# Get the best trial\u001b[39;00m\n\u001b[0;32m     71\u001b[0m best_trial \u001b[38;5;241m=\u001b[39m result\u001b[38;5;241m.\u001b[39mget_best_trial(\u001b[38;5;124m\"\u001b[39m\u001b[38;5;124maccuracy\u001b[39m\u001b[38;5;124m\"\u001b[39m, \u001b[38;5;124m\"\u001b[39m\u001b[38;5;124mmax\u001b[39m\u001b[38;5;124m\"\u001b[39m, \u001b[38;5;124m\"\u001b[39m\u001b[38;5;124mlast\u001b[39m\u001b[38;5;124m\"\u001b[39m)\n\u001b[1;32m---> 72\u001b[0m \u001b[38;5;28mprint\u001b[39m(\u001b[38;5;124mf\u001b[39m\u001b[38;5;124m\"\u001b[39m\u001b[38;5;124mBest trial config: \u001b[39m\u001b[38;5;132;01m{\u001b[39;00m\u001b[43mbest_trial\u001b[49m\u001b[38;5;241;43m.\u001b[39;49m\u001b[43mconfig\u001b[49m\u001b[38;5;132;01m}\u001b[39;00m\u001b[38;5;124m\"\u001b[39m)\n\u001b[0;32m     73\u001b[0m \u001b[38;5;28mprint\u001b[39m(\u001b[38;5;124mf\u001b[39m\u001b[38;5;124m\"\u001b[39m\u001b[38;5;124mBest trial final validation loss: \u001b[39m\u001b[38;5;132;01m{\u001b[39;00mbest_trial\u001b[38;5;241m.\u001b[39mlast_result[\u001b[38;5;124m'\u001b[39m\u001b[38;5;124mloss\u001b[39m\u001b[38;5;124m'\u001b[39m]\u001b[38;5;132;01m}\u001b[39;00m\u001b[38;5;124m\"\u001b[39m)\n\u001b[0;32m     74\u001b[0m \u001b[38;5;28mprint\u001b[39m(\u001b[38;5;124mf\u001b[39m\u001b[38;5;124m\"\u001b[39m\u001b[38;5;124mBest trial final validation accuracy: \u001b[39m\u001b[38;5;132;01m{\u001b[39;00mbest_trial\u001b[38;5;241m.\u001b[39mlast_result[\u001b[38;5;124m'\u001b[39m\u001b[38;5;124maccuracy\u001b[39m\u001b[38;5;124m'\u001b[39m]\u001b[38;5;132;01m}\u001b[39;00m\u001b[38;5;124m\"\u001b[39m)\n",
            "\u001b[1;31mAttributeError\u001b[0m: 'NoneType' object has no attribute 'config'"
          ]
        }
      ],
      "source": [
        "model_KANC_MLP= KANC_MLP(device = device)\n",
        "path = \"tony.pt\"\n",
        "search_hiperparams_and_get_final_model(KANC_MLP,True, train_obj, val_obj, test_loader,path,search_grid_combinations = 10 )\n",
        "#train_model_generic(model_KANC_MLP, train_loader, test_loader,device,epochs = 15)"
      ]
    },
    {
      "cell_type": "code",
      "execution_count": null,
      "metadata": {
        "id": "2Jxq0aDV9pEI"
      },
      "outputs": [],
      "source": [
        "model_KANC_MLP_sin_grid= KANC_MLP_sin_grid(device = device)\n",
        "\n",
        "train_model_generic(model_KANC_MLP_sin_grid, train_loader, test_loader,device,epochs = 15) #= train_and_test_models(model_KANC_MLP_sin_grid, device, train_loader, test_loader, optimizer_KANC_MLP_sin_grid, criterion_KANC_MLP_sin_grid, epochs=15, scheduler=scheduler_KANC_MLP_sin_grid)\n"
      ]
    },
    {
      "cell_type": "markdown",
      "metadata": {
        "id": "l3WEEyncly9l"
      },
      "source": [
        "bigger"
      ]
    },
    {
      "cell_type": "code",
      "execution_count": null,
      "metadata": {
        "colab": {
          "base_uri": "https://localhost:8080/"
        },
        "id": "_NnRy-NulyMb",
        "outputId": "758db966-017a-4642-8d06-b72649055368"
      },
      "outputs": [
        {
          "name": "stdout",
          "output_type": "stream",
          "text": [
            "Params start 163951\n"
          ]
        },
        {
          "name": "stderr",
          "output_type": "stream",
          "text": [
            "100%|██████████| 938/938 [01:37<00:00,  9.58it/s]\n"
          ]
        },
        {
          "name": "stdout",
          "output_type": "stream",
          "text": [
            "End of Epoch 1: Train Loss: 0.262386, Test Loss: 0.0016, Accuracy: 96.96%\n"
          ]
        },
        {
          "name": "stderr",
          "output_type": "stream",
          "text": [
            "100%|██████████| 938/938 [01:36<00:00,  9.73it/s]\n"
          ]
        },
        {
          "name": "stdout",
          "output_type": "stream",
          "text": [
            "End of Epoch 2: Train Loss: 0.082635, Test Loss: 0.0011, Accuracy: 97.75%\n"
          ]
        },
        {
          "name": "stderr",
          "output_type": "stream",
          "text": [
            "100%|██████████| 938/938 [01:38<00:00,  9.57it/s]\n"
          ]
        },
        {
          "name": "stdout",
          "output_type": "stream",
          "text": [
            "End of Epoch 3: Train Loss: 0.063314, Test Loss: 0.0009, Accuracy: 98.15%\n"
          ]
        },
        {
          "name": "stderr",
          "output_type": "stream",
          "text": [
            "100%|██████████| 938/938 [01:36<00:00,  9.74it/s]\n"
          ]
        },
        {
          "name": "stdout",
          "output_type": "stream",
          "text": [
            "End of Epoch 4: Train Loss: 0.053307, Test Loss: 0.0009, Accuracy: 98.07%\n"
          ]
        },
        {
          "name": "stderr",
          "output_type": "stream",
          "text": [
            "100%|██████████| 938/938 [01:35<00:00,  9.82it/s]\n"
          ]
        },
        {
          "name": "stdout",
          "output_type": "stream",
          "text": [
            "End of Epoch 5: Train Loss: 0.046310, Test Loss: 0.0009, Accuracy: 98.31%\n"
          ]
        },
        {
          "name": "stderr",
          "output_type": "stream",
          "text": [
            "100%|██████████| 938/938 [01:37<00:00,  9.64it/s]\n"
          ]
        },
        {
          "name": "stdout",
          "output_type": "stream",
          "text": [
            "End of Epoch 6: Train Loss: 0.041134, Test Loss: 0.0009, Accuracy: 98.10%\n"
          ]
        },
        {
          "name": "stderr",
          "output_type": "stream",
          "text": [
            "100%|██████████| 938/938 [01:36<00:00,  9.77it/s]\n"
          ]
        },
        {
          "name": "stdout",
          "output_type": "stream",
          "text": [
            "End of Epoch 7: Train Loss: 0.037045, Test Loss: 0.0008, Accuracy: 98.48%\n"
          ]
        },
        {
          "name": "stderr",
          "output_type": "stream",
          "text": [
            "100%|██████████| 938/938 [01:37<00:00,  9.65it/s]\n"
          ]
        },
        {
          "name": "stdout",
          "output_type": "stream",
          "text": [
            "End of Epoch 8: Train Loss: 0.033814, Test Loss: 0.0008, Accuracy: 98.47%\n"
          ]
        },
        {
          "name": "stderr",
          "output_type": "stream",
          "text": [
            "100%|██████████| 938/938 [01:37<00:00,  9.66it/s]\n"
          ]
        },
        {
          "name": "stdout",
          "output_type": "stream",
          "text": [
            "End of Epoch 9: Train Loss: 0.031575, Test Loss: 0.0008, Accuracy: 98.48%\n"
          ]
        },
        {
          "name": "stderr",
          "output_type": "stream",
          "text": [
            "100%|██████████| 938/938 [01:35<00:00,  9.80it/s]\n"
          ]
        },
        {
          "name": "stdout",
          "output_type": "stream",
          "text": [
            "End of Epoch 10: Train Loss: 0.029371, Test Loss: 0.0008, Accuracy: 98.38%\n"
          ]
        },
        {
          "name": "stderr",
          "output_type": "stream",
          "text": [
            "100%|██████████| 938/938 [01:36<00:00,  9.69it/s]\n"
          ]
        },
        {
          "name": "stdout",
          "output_type": "stream",
          "text": [
            "End of Epoch 11: Train Loss: 0.027902, Test Loss: 0.0008, Accuracy: 98.51%\n"
          ]
        },
        {
          "name": "stderr",
          "output_type": "stream",
          "text": [
            "100%|██████████| 938/938 [01:37<00:00,  9.62it/s]\n"
          ]
        },
        {
          "name": "stdout",
          "output_type": "stream",
          "text": [
            "End of Epoch 12: Train Loss: 0.026424, Test Loss: 0.0008, Accuracy: 98.43%\n"
          ]
        },
        {
          "name": "stderr",
          "output_type": "stream",
          "text": [
            "100%|██████████| 938/938 [01:36<00:00,  9.75it/s]\n"
          ]
        },
        {
          "name": "stdout",
          "output_type": "stream",
          "text": [
            "End of Epoch 13: Train Loss: 0.025485, Test Loss: 0.0008, Accuracy: 98.50%\n"
          ]
        },
        {
          "name": "stderr",
          "output_type": "stream",
          "text": [
            "100%|██████████| 938/938 [01:42<00:00,  9.12it/s]\n"
          ]
        },
        {
          "name": "stdout",
          "output_type": "stream",
          "text": [
            "End of Epoch 14: Train Loss: 0.024741, Test Loss: 0.0008, Accuracy: 98.58%\n"
          ]
        },
        {
          "name": "stderr",
          "output_type": "stream",
          "text": [
            "100%|██████████| 938/938 [01:46<00:00,  8.80it/s]\n"
          ]
        },
        {
          "name": "stdout",
          "output_type": "stream",
          "text": [
            "End of Epoch 15: Train Loss: 0.023959, Test Loss: 0.0008, Accuracy: 98.53%\n",
            "Best test accuracy 0.9858\n",
            "Params End 163951\n",
            "Total time (min) 26.668998471433333\n",
            "Train loss [0.2623855763160661, 0.08263530619422606, 0.06331438575558532, 0.053306796473946406, 0.046310216685243724, 0.04113380914559709, 0.03704477982042156, 0.033813933447834406, 0.03157468790332151, 0.029371039215862545, 0.027902078348026275, 0.026423955428721717, 0.025484641470087777, 0.0247410824194415, 0.023958823982600633]\n",
            "Test loss [0.0016497306480770932, 0.0010551380050193985, 0.0009124033622749266, 0.0009437851681534085, 0.0008516894224187126, 0.0009076509886232089, 0.0007748363095095556, 0.0007977174982370343, 0.0007893659691468202, 0.0008163117614516523, 0.0007772736270846508, 0.0007654489836297216, 0.0007661746806690644, 0.0007789076431068679, 0.0007941848778955318]\n"
          ]
        }
      ],
      "source": [
        "model_KANC_MLP_2= KANC_MLP_2(device = device)\n",
        "\n",
        "train_model_generic(model_KANC_MLP_2, train_loader, test_loader,device,epochs = 15)#train_and_test_models(model_KANC_MLP_2, device, train_loader, test_loader, optimizer_KANC_MLP_2, criterion_KANC_MLP_2, epochs=12, scheduler=scheduler_KANC_MLP_2)\n"
      ]
    },
    {
      "cell_type": "code",
      "execution_count": null,
      "metadata": {
        "id": "sBt1gTQllyQN"
      },
      "outputs": [],
      "source": [
        "model_KANC_MLP_sin_grid_2= KANC_MLP_sin_grid_2(device = device)\n",
        "train_model_generic(model_KANC_MLP_sin_grid_2, train_loader, test_loader,device,epochs = 15)"
      ]
    },
    {
      "cell_type": "code",
      "execution_count": null,
      "metadata": {
        "colab": {
          "base_uri": "https://localhost:8080/"
        },
        "id": "2t0GDFYxUpOU",
        "outputId": "7daf47d0-cfc8-4a74-c5c2-c74118bbcdcc"
      },
      "outputs": [
        {
          "name": "stdout",
          "output_type": "stream",
          "text": [
            "Params start 163786\n"
          ]
        },
        {
          "name": "stderr",
          "output_type": "stream",
          "text": [
            "100%|██████████| 938/938 [01:42<00:00,  9.12it/s]\n"
          ]
        },
        {
          "name": "stdout",
          "output_type": "stream",
          "text": [
            "End of Epoch 1: Train Loss: 0.150072, Test Loss: 0.0015, Accuracy: 96.99%\n"
          ]
        },
        {
          "name": "stderr",
          "output_type": "stream",
          "text": [
            "100%|██████████| 938/938 [01:43<00:00,  9.08it/s]\n"
          ]
        },
        {
          "name": "stdout",
          "output_type": "stream",
          "text": [
            "End of Epoch 2: Train Loss: 0.074312, Test Loss: 0.0009, Accuracy: 98.04%\n"
          ]
        },
        {
          "name": "stderr",
          "output_type": "stream",
          "text": [
            "100%|██████████| 938/938 [01:43<00:00,  9.05it/s]\n"
          ]
        },
        {
          "name": "stdout",
          "output_type": "stream",
          "text": [
            "End of Epoch 3: Train Loss: 0.057890, Test Loss: 0.0009, Accuracy: 98.13%\n"
          ]
        },
        {
          "name": "stderr",
          "output_type": "stream",
          "text": [
            "100%|██████████| 938/938 [01:43<00:00,  9.06it/s]\n"
          ]
        },
        {
          "name": "stdout",
          "output_type": "stream",
          "text": [
            "End of Epoch 4: Train Loss: 0.047671, Test Loss: 0.0009, Accuracy: 98.20%\n"
          ]
        },
        {
          "name": "stderr",
          "output_type": "stream",
          "text": [
            "100%|██████████| 938/938 [01:35<00:00,  9.79it/s]\n"
          ]
        },
        {
          "name": "stdout",
          "output_type": "stream",
          "text": [
            "End of Epoch 5: Train Loss: 0.040866, Test Loss: 0.0009, Accuracy: 98.02%\n"
          ]
        },
        {
          "name": "stderr",
          "output_type": "stream",
          "text": [
            "100%|██████████| 938/938 [01:34<00:00,  9.88it/s]\n"
          ]
        },
        {
          "name": "stdout",
          "output_type": "stream",
          "text": [
            "End of Epoch 6: Train Loss: 0.034226, Test Loss: 0.0008, Accuracy: 98.53%\n"
          ]
        },
        {
          "name": "stderr",
          "output_type": "stream",
          "text": [
            "100%|██████████| 938/938 [01:32<00:00, 10.09it/s]\n"
          ]
        },
        {
          "name": "stdout",
          "output_type": "stream",
          "text": [
            "End of Epoch 7: Train Loss: 0.029683, Test Loss: 0.0009, Accuracy: 98.27%\n"
          ]
        },
        {
          "name": "stderr",
          "output_type": "stream",
          "text": [
            "100%|██████████| 938/938 [01:32<00:00, 10.12it/s]\n"
          ]
        },
        {
          "name": "stdout",
          "output_type": "stream",
          "text": [
            "End of Epoch 8: Train Loss: 0.025868, Test Loss: 0.0008, Accuracy: 98.46%\n"
          ]
        },
        {
          "name": "stderr",
          "output_type": "stream",
          "text": [
            "100%|██████████| 938/938 [01:36<00:00,  9.77it/s]\n"
          ]
        },
        {
          "name": "stdout",
          "output_type": "stream",
          "text": [
            "End of Epoch 9: Train Loss: 0.022993, Test Loss: 0.0008, Accuracy: 98.34%\n"
          ]
        },
        {
          "name": "stderr",
          "output_type": "stream",
          "text": [
            "100%|██████████| 938/938 [01:33<00:00, 10.02it/s]\n"
          ]
        },
        {
          "name": "stdout",
          "output_type": "stream",
          "text": [
            "End of Epoch 10: Train Loss: 0.020185, Test Loss: 0.0008, Accuracy: 98.47%\n"
          ]
        },
        {
          "name": "stderr",
          "output_type": "stream",
          "text": [
            "100%|██████████| 938/938 [01:35<00:00,  9.86it/s]\n"
          ]
        },
        {
          "name": "stdout",
          "output_type": "stream",
          "text": [
            "End of Epoch 11: Train Loss: 0.018883, Test Loss: 0.0008, Accuracy: 98.46%\n"
          ]
        },
        {
          "name": "stderr",
          "output_type": "stream",
          "text": [
            "100%|██████████| 938/938 [01:34<00:00,  9.91it/s]\n"
          ]
        },
        {
          "name": "stdout",
          "output_type": "stream",
          "text": [
            "End of Epoch 12: Train Loss: 0.017058, Test Loss: 0.0009, Accuracy: 98.35%\n"
          ]
        },
        {
          "name": "stderr",
          "output_type": "stream",
          "text": [
            "100%|██████████| 938/938 [01:32<00:00, 10.15it/s]\n"
          ]
        },
        {
          "name": "stdout",
          "output_type": "stream",
          "text": [
            "End of Epoch 13: Train Loss: 0.016273, Test Loss: 0.0009, Accuracy: 98.45%\n"
          ]
        },
        {
          "name": "stderr",
          "output_type": "stream",
          "text": [
            "100%|██████████| 938/938 [01:33<00:00, 10.06it/s]\n"
          ]
        },
        {
          "name": "stdout",
          "output_type": "stream",
          "text": [
            "End of Epoch 14: Train Loss: 0.015086, Test Loss: 0.0009, Accuracy: 98.42%\n"
          ]
        },
        {
          "name": "stderr",
          "output_type": "stream",
          "text": [
            "100%|██████████| 938/938 [01:33<00:00, 10.01it/s]\n"
          ]
        },
        {
          "name": "stdout",
          "output_type": "stream",
          "text": [
            "End of Epoch 15: Train Loss: 0.014242, Test Loss: 0.0009, Accuracy: 98.50%\n",
            "Best test accuracy 0.9853\n",
            "Params End 163786\n",
            "Total time (min) 26.31781492056667\n",
            "Train loss [0.1500724454619872, 0.07431203464226328, 0.05788957851982093, 0.04767070152523266, 0.040865523547409716, 0.03422607017422481, 0.0296828736521816, 0.025867811429393994, 0.022993481694671043, 0.020185176018611348, 0.018883234197482356, 0.017057645413348192, 0.016272877247899577, 0.015086347902521812, 0.01424220187865299]\n",
            "Test loss [0.0014792424543527887, 0.0009470912331191357, 0.00094834809567692, 0.0008722506673228054, 0.0009335491213423666, 0.0007846442277121241, 0.0008673109655566804, 0.0008161048982859939, 0.0008429280760996335, 0.0008435268715360507, 0.0008354808595835493, 0.0008580404857995745, 0.0008561759246893416, 0.0008742454219462161, 0.0008790178761386414]\n"
          ]
        }
      ],
      "source": [
        "model_CKAN_BN= CKAN_BN(device)\n",
        "train_model_generic(model_CKAN_BN, train_loader, test_loader,device,epochs = 15)"
      ]
    },
    {
      "cell_type": "code",
      "execution_count": null,
      "metadata": {
        "colab": {
          "base_uri": "https://localhost:8080/"
        },
        "id": "mOqaaE0HZCsm",
        "outputId": "9924f8cf-db64-4d36-feff-3e142828b979"
      },
      "outputs": [
        {
          "name": "stdout",
          "output_type": "stream",
          "text": [
            "Params start 94875\n"
          ]
        },
        {
          "name": "stderr",
          "output_type": "stream",
          "text": [
            " 13%|█▎        | 126/938 [00:13<01:27,  9.24it/s]"
          ]
        },
        {
          "name": "stdout",
          "output_type": "stream",
          "text": [
            "updateo\n"
          ]
        },
        {
          "name": "stderr",
          "output_type": "stream",
          "text": [
            "100%|██████████| 938/938 [01:37<00:00,  9.62it/s]\n"
          ]
        },
        {
          "name": "stdout",
          "output_type": "stream",
          "text": [
            "End of Epoch 1: Train Loss: 0.330100, Test Loss: 0.0014, Accuracy: 97.42%\n"
          ]
        },
        {
          "name": "stderr",
          "output_type": "stream",
          "text": [
            "100%|██████████| 938/938 [01:38<00:00,  9.53it/s]\n"
          ]
        },
        {
          "name": "stdout",
          "output_type": "stream",
          "text": [
            "End of Epoch 2: Train Loss: 0.075470, Test Loss: 0.0010, Accuracy: 98.30%\n"
          ]
        },
        {
          "name": "stderr",
          "output_type": "stream",
          "text": [
            "100%|██████████| 938/938 [01:39<00:00,  9.47it/s]\n"
          ]
        },
        {
          "name": "stdout",
          "output_type": "stream",
          "text": [
            "End of Epoch 3: Train Loss: 0.052122, Test Loss: 0.0008, Accuracy: 98.65%\n"
          ]
        },
        {
          "name": "stderr",
          "output_type": "stream",
          "text": [
            "100%|██████████| 938/938 [01:38<00:00,  9.49it/s]\n"
          ]
        },
        {
          "name": "stdout",
          "output_type": "stream",
          "text": [
            "End of Epoch 4: Train Loss: 0.039746, Test Loss: 0.0007, Accuracy: 98.59%\n"
          ]
        },
        {
          "name": "stderr",
          "output_type": "stream",
          "text": [
            "100%|██████████| 938/938 [01:37<00:00,  9.62it/s]\n"
          ]
        },
        {
          "name": "stdout",
          "output_type": "stream",
          "text": [
            "End of Epoch 5: Train Loss: 0.032119, Test Loss: 0.0007, Accuracy: 98.74%\n"
          ]
        },
        {
          "name": "stderr",
          "output_type": "stream",
          "text": [
            "100%|██████████| 938/938 [01:38<00:00,  9.48it/s]\n"
          ]
        },
        {
          "name": "stdout",
          "output_type": "stream",
          "text": [
            "End of Epoch 6: Train Loss: 0.026683, Test Loss: 0.0006, Accuracy: 98.81%\n"
          ]
        },
        {
          "name": "stderr",
          "output_type": "stream",
          "text": [
            "100%|██████████| 938/938 [01:38<00:00,  9.56it/s]\n"
          ]
        },
        {
          "name": "stdout",
          "output_type": "stream",
          "text": [
            "End of Epoch 7: Train Loss: 0.022571, Test Loss: 0.0006, Accuracy: 98.82%\n"
          ]
        },
        {
          "name": "stderr",
          "output_type": "stream",
          "text": [
            "100%|██████████| 938/938 [01:37<00:00,  9.66it/s]\n"
          ]
        },
        {
          "name": "stdout",
          "output_type": "stream",
          "text": [
            "End of Epoch 8: Train Loss: 0.019905, Test Loss: 0.0006, Accuracy: 98.87%\n"
          ]
        },
        {
          "name": "stderr",
          "output_type": "stream",
          "text": [
            "100%|██████████| 938/938 [01:42<00:00,  9.18it/s]\n"
          ]
        },
        {
          "name": "stdout",
          "output_type": "stream",
          "text": [
            "End of Epoch 9: Train Loss: 0.017752, Test Loss: 0.0006, Accuracy: 98.84%\n"
          ]
        },
        {
          "name": "stderr",
          "output_type": "stream",
          "text": [
            "100%|██████████| 938/938 [01:44<00:00,  8.95it/s]\n"
          ]
        },
        {
          "name": "stdout",
          "output_type": "stream",
          "text": [
            "End of Epoch 10: Train Loss: 0.016168, Test Loss: 0.0006, Accuracy: 98.81%\n"
          ]
        },
        {
          "name": "stderr",
          "output_type": "stream",
          "text": [
            "100%|██████████| 938/938 [01:42<00:00,  9.19it/s]\n"
          ]
        },
        {
          "name": "stdout",
          "output_type": "stream",
          "text": [
            "End of Epoch 11: Train Loss: 0.014922, Test Loss: 0.0006, Accuracy: 98.84%\n"
          ]
        },
        {
          "name": "stderr",
          "output_type": "stream",
          "text": [
            "100%|██████████| 938/938 [01:40<00:00,  9.31it/s]\n"
          ]
        },
        {
          "name": "stdout",
          "output_type": "stream",
          "text": [
            "End of Epoch 12: Train Loss: 0.013985, Test Loss: 0.0006, Accuracy: 98.85%\n"
          ]
        },
        {
          "name": "stderr",
          "output_type": "stream",
          "text": [
            "100%|██████████| 938/938 [01:38<00:00,  9.48it/s]\n"
          ]
        },
        {
          "name": "stdout",
          "output_type": "stream",
          "text": [
            "End of Epoch 13: Train Loss: 0.013253, Test Loss: 0.0006, Accuracy: 98.86%\n"
          ]
        },
        {
          "name": "stderr",
          "output_type": "stream",
          "text": [
            "100%|██████████| 938/938 [01:39<00:00,  9.41it/s]\n"
          ]
        },
        {
          "name": "stdout",
          "output_type": "stream",
          "text": [
            "End of Epoch 14: Train Loss: 0.012673, Test Loss: 0.0006, Accuracy: 98.84%\n"
          ]
        },
        {
          "name": "stderr",
          "output_type": "stream",
          "text": [
            "100%|██████████| 938/938 [01:38<00:00,  9.48it/s]\n"
          ]
        },
        {
          "name": "stdout",
          "output_type": "stream",
          "text": [
            "End of Epoch 15: Train Loss: 0.012234, Test Loss: 0.0006, Accuracy: 98.87%\n",
            "Best test accuracy 0.9887\n",
            "Params End 94875\n",
            "Total time (min) 27.178780476833346\n",
            "Train loss [0.33010034692654416, 0.07547020248032169, 0.05212189092128071, 0.03974623013677985, 0.03211861098138516, 0.026682927282646235, 0.022570623626023023, 0.01990542326148337, 0.01775202434609281, 0.016168306114897727, 0.01492160857048954, 0.013985375798781957, 0.013253488884268225, 0.012673038044951356, 0.012233513120404467]\n",
            "Test loss [0.001357885431451723, 0.0009555941508966498, 0.0007865264173422474, 0.0007362464731733781, 0.0007014586364850402, 0.000636259696102934, 0.0006243100014486117, 0.0006063624051603256, 0.000601086219237186, 0.0006053221108624712, 0.0005866366408503382, 0.0005914592620451004, 0.0005831941303709755, 0.0005814928638123092, 0.0005835070460903808]\n"
          ]
        }
      ],
      "source": [
        "model_KKAN_Convolutional_Network = KKAN_Convolutional_Network(device = device)\n",
        "train_model_generic(model_KKAN_Convolutional_Network, train_loader, test_loader,device,epochs = 15)"
      ]
    },
    {
      "cell_type": "code",
      "execution_count": null,
      "metadata": {
        "colab": {
          "base_uri": "https://localhost:8080/"
        },
        "id": "vfNbJTiDQMra",
        "outputId": "3383af1f-6502-4838-88dc-fd028df993fe"
      },
      "outputs": [
        {
          "name": "stdout",
          "output_type": "stream",
          "text": [
            "Params start 94950\n"
          ]
        },
        {
          "name": "stderr",
          "output_type": "stream",
          "text": [
            "\r  0%|          | 0/938 [00:00<?, ?it/s]/usr/local/lib/python3.10/dist-packages/torch/nn/modules/conv.py:456: UserWarning: Plan failed with a cudnnException: CUDNN_BACKEND_EXECUTION_PLAN_DESCRIPTOR: cudnnFinalize Descriptor Failed cudnn_status: CUDNN_STATUS_NOT_SUPPORTED (Triggered internally at ../aten/src/ATen/native/cudnn/Conv_v8.cpp:919.)\n",
            "  return F.conv2d(input, weight, bias, self.stride,\n",
            "100%|██████████| 938/938 [00:24<00:00, 37.85it/s]\n"
          ]
        },
        {
          "name": "stdout",
          "output_type": "stream",
          "text": [
            "End of Epoch 1: Train Loss: 0.258658, Test Loss: 0.0011, Accuracy: 97.81%\n"
          ]
        },
        {
          "name": "stderr",
          "output_type": "stream",
          "text": [
            "100%|██████████| 938/938 [00:23<00:00, 39.99it/s]\n"
          ]
        },
        {
          "name": "stdout",
          "output_type": "stream",
          "text": [
            "End of Epoch 2: Train Loss: 0.067079, Test Loss: 0.0009, Accuracy: 98.29%\n"
          ]
        },
        {
          "name": "stderr",
          "output_type": "stream",
          "text": [
            "100%|██████████| 938/938 [00:23<00:00, 39.92it/s]\n"
          ]
        },
        {
          "name": "stdout",
          "output_type": "stream",
          "text": [
            "End of Epoch 3: Train Loss: 0.049307, Test Loss: 0.0008, Accuracy: 98.35%\n"
          ]
        },
        {
          "name": "stderr",
          "output_type": "stream",
          "text": [
            "100%|██████████| 938/938 [00:24<00:00, 38.38it/s]\n"
          ]
        },
        {
          "name": "stdout",
          "output_type": "stream",
          "text": [
            "End of Epoch 4: Train Loss: 0.039656, Test Loss: 0.0007, Accuracy: 98.58%\n"
          ]
        },
        {
          "name": "stderr",
          "output_type": "stream",
          "text": [
            "100%|██████████| 938/938 [00:22<00:00, 41.99it/s]\n"
          ]
        },
        {
          "name": "stdout",
          "output_type": "stream",
          "text": [
            "End of Epoch 5: Train Loss: 0.032837, Test Loss: 0.0006, Accuracy: 98.62%\n"
          ]
        },
        {
          "name": "stderr",
          "output_type": "stream",
          "text": [
            "100%|██████████| 938/938 [00:23<00:00, 40.39it/s]\n"
          ]
        },
        {
          "name": "stdout",
          "output_type": "stream",
          "text": [
            "End of Epoch 6: Train Loss: 0.028478, Test Loss: 0.0006, Accuracy: 98.66%\n"
          ]
        },
        {
          "name": "stderr",
          "output_type": "stream",
          "text": [
            "100%|██████████| 938/938 [00:23<00:00, 39.96it/s]\n"
          ]
        },
        {
          "name": "stdout",
          "output_type": "stream",
          "text": [
            "End of Epoch 7: Train Loss: 0.024810, Test Loss: 0.0006, Accuracy: 98.66%\n"
          ]
        },
        {
          "name": "stderr",
          "output_type": "stream",
          "text": [
            "100%|██████████| 938/938 [00:22<00:00, 41.16it/s]\n"
          ]
        },
        {
          "name": "stdout",
          "output_type": "stream",
          "text": [
            "End of Epoch 8: Train Loss: 0.021916, Test Loss: 0.0006, Accuracy: 98.65%\n"
          ]
        },
        {
          "name": "stderr",
          "output_type": "stream",
          "text": [
            "100%|██████████| 938/938 [00:22<00:00, 42.27it/s]\n"
          ]
        },
        {
          "name": "stdout",
          "output_type": "stream",
          "text": [
            "End of Epoch 9: Train Loss: 0.019671, Test Loss: 0.0006, Accuracy: 98.71%\n"
          ]
        },
        {
          "name": "stderr",
          "output_type": "stream",
          "text": [
            "100%|██████████| 938/938 [00:23<00:00, 39.82it/s]\n"
          ]
        },
        {
          "name": "stdout",
          "output_type": "stream",
          "text": [
            "End of Epoch 10: Train Loss: 0.018160, Test Loss: 0.0006, Accuracy: 98.68%\n"
          ]
        },
        {
          "name": "stderr",
          "output_type": "stream",
          "text": [
            "100%|██████████| 938/938 [00:36<00:00, 26.00it/s]\n"
          ]
        },
        {
          "name": "stdout",
          "output_type": "stream",
          "text": [
            "End of Epoch 11: Train Loss: 0.016739, Test Loss: 0.0006, Accuracy: 98.71%\n"
          ]
        },
        {
          "name": "stderr",
          "output_type": "stream",
          "text": [
            "100%|██████████| 938/938 [00:22<00:00, 42.11it/s]\n"
          ]
        },
        {
          "name": "stdout",
          "output_type": "stream",
          "text": [
            "End of Epoch 12: Train Loss: 0.015793, Test Loss: 0.0006, Accuracy: 98.73%\n"
          ]
        },
        {
          "name": "stderr",
          "output_type": "stream",
          "text": [
            "100%|██████████| 938/938 [00:22<00:00, 42.29it/s]\n"
          ]
        },
        {
          "name": "stdout",
          "output_type": "stream",
          "text": [
            "End of Epoch 13: Train Loss: 0.014959, Test Loss: 0.0006, Accuracy: 98.72%\n"
          ]
        },
        {
          "name": "stderr",
          "output_type": "stream",
          "text": [
            "100%|██████████| 938/938 [00:23<00:00, 40.14it/s]\n"
          ]
        },
        {
          "name": "stdout",
          "output_type": "stream",
          "text": [
            "End of Epoch 14: Train Loss: 0.014279, Test Loss: 0.0006, Accuracy: 98.75%\n"
          ]
        },
        {
          "name": "stderr",
          "output_type": "stream",
          "text": [
            "100%|██████████| 938/938 [00:23<00:00, 39.41it/s]\n"
          ]
        },
        {
          "name": "stdout",
          "output_type": "stream",
          "text": [
            "End of Epoch 15: Train Loss: 0.013799, Test Loss: 0.0006, Accuracy: 98.72%\n",
            "Best test accuracy 0.9875\n",
            "Params End 94950\n",
            "Total time (min) 6.826655784266666\n",
            "Train loss [0.25865828202092156, 0.06707867390331207, 0.049306931811621164, 0.039656367015539366, 0.03283700122630029, 0.02847791388658171, 0.024810054077409896, 0.02191593974227034, 0.019670923576200768, 0.01815988411898536, 0.016738510280321323, 0.015793194233038738, 0.014959052570403985, 0.014278986749412028, 0.013798981676372621]\n",
            "Test loss [0.001136003066156991, 0.0008578613358113216, 0.0008074178027512971, 0.000658730321272742, 0.0006283869789083838, 0.0006367393978631298, 0.0006276543480227702, 0.000600848160595342, 0.0005891159282720764, 0.0005799706179139321, 0.0005792663319123676, 0.0005763103585566568, 0.0005651124168070964, 0.0005650892613492033, 0.0005605370346896962]\n"
          ]
        }
      ],
      "source": [
        "model_Convs_and_KAN= NormalConvsKAN()\n",
        "train_model_generic(model_Convs_and_KAN, train_loader, test_loader,device,epochs = 15)"
      ]
    },
    {
      "cell_type": "code",
      "execution_count": null,
      "metadata": {
        "colab": {
          "base_uri": "https://localhost:8080/"
        },
        "id": "4wko2l7A0E6W",
        "outputId": "ec251f09-fea5-4a3d-8932-9f44ac7887a0"
      },
      "outputs": [
        {
          "name": "stdout",
          "output_type": "stream",
          "text": [
            "Params start 887530\n"
          ]
        },
        {
          "name": "stderr",
          "output_type": "stream",
          "text": [
            "100%|██████████| 938/938 [00:18<00:00, 50.35it/s]\n"
          ]
        },
        {
          "name": "stdout",
          "output_type": "stream",
          "text": [
            "End of Epoch 1: Train Loss: 0.196779, Test Loss: 0.0007, Accuracy: 98.71%\n"
          ]
        },
        {
          "name": "stderr",
          "output_type": "stream",
          "text": [
            "100%|██████████| 938/938 [00:17<00:00, 53.50it/s]\n"
          ]
        },
        {
          "name": "stdout",
          "output_type": "stream",
          "text": [
            "End of Epoch 2: Train Loss: 0.064356, Test Loss: 0.0004, Accuracy: 99.06%\n"
          ]
        },
        {
          "name": "stderr",
          "output_type": "stream",
          "text": [
            "100%|██████████| 938/938 [00:17<00:00, 52.91it/s]\n"
          ]
        },
        {
          "name": "stdout",
          "output_type": "stream",
          "text": [
            "End of Epoch 3: Train Loss: 0.046064, Test Loss: 0.0004, Accuracy: 99.19%\n"
          ]
        },
        {
          "name": "stderr",
          "output_type": "stream",
          "text": [
            "100%|██████████| 938/938 [00:17<00:00, 53.51it/s]\n"
          ]
        },
        {
          "name": "stdout",
          "output_type": "stream",
          "text": [
            "End of Epoch 4: Train Loss: 0.033868, Test Loss: 0.0003, Accuracy: 99.44%\n"
          ]
        },
        {
          "name": "stderr",
          "output_type": "stream",
          "text": [
            "100%|██████████| 938/938 [00:17<00:00, 53.37it/s]\n"
          ]
        },
        {
          "name": "stdout",
          "output_type": "stream",
          "text": [
            "End of Epoch 5: Train Loss: 0.028674, Test Loss: 0.0004, Accuracy: 99.14%\n"
          ]
        },
        {
          "name": "stderr",
          "output_type": "stream",
          "text": [
            "100%|██████████| 938/938 [00:19<00:00, 48.39it/s]\n"
          ]
        },
        {
          "name": "stdout",
          "output_type": "stream",
          "text": [
            "End of Epoch 6: Train Loss: 0.022482, Test Loss: 0.0003, Accuracy: 99.45%\n"
          ]
        },
        {
          "name": "stderr",
          "output_type": "stream",
          "text": [
            "100%|██████████| 938/938 [00:17<00:00, 53.48it/s]\n"
          ]
        },
        {
          "name": "stdout",
          "output_type": "stream",
          "text": [
            "End of Epoch 7: Train Loss: 0.019154, Test Loss: 0.0002, Accuracy: 99.43%\n"
          ]
        },
        {
          "name": "stderr",
          "output_type": "stream",
          "text": [
            "100%|██████████| 938/938 [00:18<00:00, 51.39it/s]\n"
          ]
        },
        {
          "name": "stdout",
          "output_type": "stream",
          "text": [
            "End of Epoch 8: Train Loss: 0.015981, Test Loss: 0.0003, Accuracy: 99.52%\n"
          ]
        },
        {
          "name": "stderr",
          "output_type": "stream",
          "text": [
            "100%|██████████| 938/938 [00:17<00:00, 53.77it/s]\n"
          ]
        },
        {
          "name": "stdout",
          "output_type": "stream",
          "text": [
            "End of Epoch 9: Train Loss: 0.014248, Test Loss: 0.0002, Accuracy: 99.55%\n"
          ]
        },
        {
          "name": "stderr",
          "output_type": "stream",
          "text": [
            "100%|██████████| 938/938 [00:18<00:00, 49.65it/s]\n"
          ]
        },
        {
          "name": "stdout",
          "output_type": "stream",
          "text": [
            "End of Epoch 10: Train Loss: 0.011839, Test Loss: 0.0002, Accuracy: 99.53%\n"
          ]
        },
        {
          "name": "stderr",
          "output_type": "stream",
          "text": [
            "100%|██████████| 938/938 [00:17<00:00, 53.63it/s]\n"
          ]
        },
        {
          "name": "stdout",
          "output_type": "stream",
          "text": [
            "End of Epoch 11: Train Loss: 0.010024, Test Loss: 0.0002, Accuracy: 99.60%\n"
          ]
        },
        {
          "name": "stderr",
          "output_type": "stream",
          "text": [
            "100%|██████████| 938/938 [00:18<00:00, 49.51it/s]\n"
          ]
        },
        {
          "name": "stdout",
          "output_type": "stream",
          "text": [
            "End of Epoch 12: Train Loss: 0.009778, Test Loss: 0.0002, Accuracy: 99.56%\n"
          ]
        },
        {
          "name": "stderr",
          "output_type": "stream",
          "text": [
            "100%|██████████| 938/938 [00:17<00:00, 53.04it/s]\n"
          ]
        },
        {
          "name": "stdout",
          "output_type": "stream",
          "text": [
            "End of Epoch 13: Train Loss: 0.009247, Test Loss: 0.0002, Accuracy: 99.64%\n"
          ]
        },
        {
          "name": "stderr",
          "output_type": "stream",
          "text": [
            "100%|██████████| 938/938 [00:20<00:00, 46.47it/s]\n"
          ]
        },
        {
          "name": "stdout",
          "output_type": "stream",
          "text": [
            "End of Epoch 14: Train Loss: 0.008347, Test Loss: 0.0002, Accuracy: 99.61%\n"
          ]
        },
        {
          "name": "stderr",
          "output_type": "stream",
          "text": [
            "100%|██████████| 938/938 [00:17<00:00, 53.01it/s]\n"
          ]
        },
        {
          "name": "stdout",
          "output_type": "stream",
          "text": [
            "End of Epoch 15: Train Loss: 0.007293, Test Loss: 0.0002, Accuracy: 99.58%\n",
            "Best test accuracy 0.9964\n",
            "Params End 887530\n",
            "Total time (min) 5.206146641266681\n",
            "Train loss [0.19677938251812727, 0.06435581856518428, 0.046064028557275045, 0.033868110079111266, 0.028673985398308472, 0.02248181775306922, 0.019153992409059187, 0.01598084465335606, 0.014247762665997988, 0.011839016257844958, 0.010024382635338489, 0.009777753585056878, 0.009247102295016227, 0.008346507374233484, 0.007292842624006329]\n",
            "Test loss [0.0006916595323770025, 0.00041483060231457786, 0.0003933784972416788, 0.00030144584605420734, 0.0004184129879140528, 0.0002713926612223247, 0.00024553985434997685, 0.0002528235834812099, 0.00021675420140895483, 0.00023993041254531775, 0.00023255007757270755, 0.0002462353556357071, 0.00021688614042117074, 0.00022252383797860453, 0.00022760004729153845]\n"
          ]
        }
      ],
      "source": [
        "model_ConvNet = ConvNet()\n",
        "train_model_generic(model_ConvNet, train_loader, test_loader,device,epochs = 15)"
      ]
    },
    {
      "cell_type": "code",
      "execution_count": null,
      "metadata": {
        "colab": {
          "base_uri": "https://localhost:8080/"
        },
        "id": "WQs0hb1tI1SJ",
        "outputId": "2ee01911-8f5d-47eb-c050-9d9facbdece3"
      },
      "outputs": [
        {
          "name": "stdout",
          "output_type": "stream",
          "text": [
            "Params start 2740\n"
          ]
        },
        {
          "name": "stderr",
          "output_type": "stream",
          "text": [
            "  0%|          | 0/938 [00:00<?, ?it/s]/usr/local/lib/python3.10/dist-packages/torch/nn/modules/conv.py:456: UserWarning: Plan failed with a cudnnException: CUDNN_BACKEND_EXECUTION_PLAN_DESCRIPTOR: cudnnFinalize Descriptor Failed cudnn_status: CUDNN_STATUS_NOT_SUPPORTED (Triggered internally at ../aten/src/ATen/native/cudnn/Conv_v8.cpp:919.)\n",
            "  return F.conv2d(input, weight, bias, self.stride,\n",
            "100%|██████████| 938/938 [00:16<00:00, 57.31it/s]\n"
          ]
        },
        {
          "name": "stdout",
          "output_type": "stream",
          "text": [
            "End of Epoch 1: Train Loss: 0.450838, Test Loss: 0.0030, Accuracy: 94.35%\n"
          ]
        },
        {
          "name": "stderr",
          "output_type": "stream",
          "text": [
            "100%|██████████| 938/938 [00:15<00:00, 60.10it/s]\n"
          ]
        },
        {
          "name": "stdout",
          "output_type": "stream",
          "text": [
            "End of Epoch 2: Train Loss: 0.170239, Test Loss: 0.0022, Accuracy: 95.69%\n"
          ]
        },
        {
          "name": "stderr",
          "output_type": "stream",
          "text": [
            "100%|██████████| 938/938 [00:15<00:00, 59.69it/s]\n"
          ]
        },
        {
          "name": "stdout",
          "output_type": "stream",
          "text": [
            "End of Epoch 3: Train Loss: 0.131919, Test Loss: 0.0017, Accuracy: 96.65%\n"
          ]
        },
        {
          "name": "stderr",
          "output_type": "stream",
          "text": [
            "100%|██████████| 938/938 [00:15<00:00, 60.42it/s]\n"
          ]
        },
        {
          "name": "stdout",
          "output_type": "stream",
          "text": [
            "End of Epoch 4: Train Loss: 0.112356, Test Loss: 0.0015, Accuracy: 96.78%\n"
          ]
        },
        {
          "name": "stderr",
          "output_type": "stream",
          "text": [
            "100%|██████████| 938/938 [00:16<00:00, 58.24it/s]\n"
          ]
        },
        {
          "name": "stdout",
          "output_type": "stream",
          "text": [
            "End of Epoch 5: Train Loss: 0.100267, Test Loss: 0.0014, Accuracy: 97.07%\n"
          ]
        },
        {
          "name": "stderr",
          "output_type": "stream",
          "text": [
            "100%|██████████| 938/938 [00:15<00:00, 60.58it/s]\n"
          ]
        },
        {
          "name": "stdout",
          "output_type": "stream",
          "text": [
            "End of Epoch 6: Train Loss: 0.092474, Test Loss: 0.0014, Accuracy: 97.18%\n"
          ]
        },
        {
          "name": "stderr",
          "output_type": "stream",
          "text": [
            "100%|██████████| 938/938 [00:16<00:00, 56.59it/s]\n"
          ]
        },
        {
          "name": "stdout",
          "output_type": "stream",
          "text": [
            "End of Epoch 7: Train Loss: 0.087431, Test Loss: 0.0013, Accuracy: 97.35%\n"
          ]
        },
        {
          "name": "stderr",
          "output_type": "stream",
          "text": [
            "100%|██████████| 938/938 [00:16<00:00, 58.61it/s]\n"
          ]
        },
        {
          "name": "stdout",
          "output_type": "stream",
          "text": [
            "End of Epoch 8: Train Loss: 0.083355, Test Loss: 0.0013, Accuracy: 97.35%\n"
          ]
        },
        {
          "name": "stderr",
          "output_type": "stream",
          "text": [
            "100%|██████████| 938/938 [00:15<00:00, 60.83it/s]\n"
          ]
        },
        {
          "name": "stdout",
          "output_type": "stream",
          "text": [
            "End of Epoch 9: Train Loss: 0.080251, Test Loss: 0.0012, Accuracy: 97.48%\n"
          ]
        },
        {
          "name": "stderr",
          "output_type": "stream",
          "text": [
            "100%|██████████| 938/938 [00:15<00:00, 60.51it/s]\n"
          ]
        },
        {
          "name": "stdout",
          "output_type": "stream",
          "text": [
            "End of Epoch 10: Train Loss: 0.077930, Test Loss: 0.0012, Accuracy: 97.52%\n"
          ]
        },
        {
          "name": "stderr",
          "output_type": "stream",
          "text": [
            "100%|██████████| 938/938 [00:15<00:00, 58.98it/s]\n"
          ]
        },
        {
          "name": "stdout",
          "output_type": "stream",
          "text": [
            "End of Epoch 11: Train Loss: 0.076219, Test Loss: 0.0012, Accuracy: 97.55%\n"
          ]
        },
        {
          "name": "stderr",
          "output_type": "stream",
          "text": [
            "100%|██████████| 938/938 [00:15<00:00, 59.98it/s]\n"
          ]
        },
        {
          "name": "stdout",
          "output_type": "stream",
          "text": [
            "End of Epoch 12: Train Loss: 0.074758, Test Loss: 0.0012, Accuracy: 97.53%\n"
          ]
        },
        {
          "name": "stderr",
          "output_type": "stream",
          "text": [
            "100%|██████████| 938/938 [00:15<00:00, 60.90it/s]\n"
          ]
        },
        {
          "name": "stdout",
          "output_type": "stream",
          "text": [
            "End of Epoch 13: Train Loss: 0.073678, Test Loss: 0.0012, Accuracy: 97.59%\n"
          ]
        },
        {
          "name": "stderr",
          "output_type": "stream",
          "text": [
            "100%|██████████| 938/938 [00:15<00:00, 60.03it/s]\n"
          ]
        },
        {
          "name": "stdout",
          "output_type": "stream",
          "text": [
            "End of Epoch 14: Train Loss: 0.072907, Test Loss: 0.0012, Accuracy: 97.58%\n"
          ]
        },
        {
          "name": "stderr",
          "output_type": "stream",
          "text": [
            "100%|██████████| 938/938 [00:17<00:00, 54.10it/s]\n"
          ]
        },
        {
          "name": "stdout",
          "output_type": "stream",
          "text": [
            "End of Epoch 15: Train Loss: 0.072194, Test Loss: 0.0012, Accuracy: 97.53%\n",
            "Best test accuracy 0.9759\n",
            "Params End 2740\n",
            "Total time (min) 4.584045981866681\n",
            "Train loss [0.45083753166517726, 0.17023897208749994, 0.13191911752726923, 0.11235636075251679, 0.10026695002376763, 0.09247436469097112, 0.08743112802064654, 0.08335458845156295, 0.08025070602969844, 0.07792979276238649, 0.07621912705475714, 0.07475815193384075, 0.07367797357105672, 0.07290654753827289, 0.07219398733171851]\n",
            "Test loss [0.002974911522679031, 0.002150677664484829, 0.0017380479232408106, 0.0015399300929508173, 0.0014233361486403738, 0.0013683702689420898, 0.0013109069409838411, 0.001262131613312522, 0.0012203588125295937, 0.0012028662568656727, 0.0011760280184214935, 0.0011820364425657317, 0.001163983453856781, 0.0011705645767593523, 0.0011667400987673319]\n"
          ]
        }
      ],
      "source": [
        "model_SimpleCNN = SimpleCNN()\n",
        "train_model_generic(model_SimpleCNN, train_loader, test_loader,device,epochs = 15)"
      ]
    },
    {
      "cell_type": "code",
      "execution_count": null,
      "metadata": {
        "colab": {
          "base_uri": "https://localhost:8080/"
        },
        "id": "TCPzl3XhI6Ok",
        "outputId": "f4f67c84-2c98-4818-f1c0-edb1a3c43a76"
      },
      "outputs": [
        {
          "name": "stdout",
          "output_type": "stream",
          "text": [
            "Params start 157030\n"
          ]
        },
        {
          "name": "stderr",
          "output_type": "stream",
          "text": [
            "  0%|          | 0/938 [00:00<?, ?it/s]/usr/local/lib/python3.10/dist-packages/torch/nn/modules/conv.py:456: UserWarning: Plan failed with a cudnnException: CUDNN_BACKEND_EXECUTION_PLAN_DESCRIPTOR: cudnnFinalize Descriptor Failed cudnn_status: CUDNN_STATUS_NOT_SUPPORTED (Triggered internally at ../aten/src/ATen/native/cudnn/Conv_v8.cpp:919.)\n",
            "  return F.conv2d(input, weight, bias, self.stride,\n",
            "100%|██████████| 938/938 [00:15<00:00, 59.61it/s]\n"
          ]
        },
        {
          "name": "stdout",
          "output_type": "stream",
          "text": [
            "End of Epoch 1: Train Loss: 0.215307, Test Loss: 0.0011, Accuracy: 97.76%\n"
          ]
        },
        {
          "name": "stderr",
          "output_type": "stream",
          "text": [
            "100%|██████████| 938/938 [00:16<00:00, 58.53it/s]\n"
          ]
        },
        {
          "name": "stdout",
          "output_type": "stream",
          "text": [
            "End of Epoch 2: Train Loss: 0.061549, Test Loss: 0.0008, Accuracy: 98.39%\n"
          ]
        },
        {
          "name": "stderr",
          "output_type": "stream",
          "text": [
            "100%|██████████| 938/938 [00:16<00:00, 57.32it/s]\n"
          ]
        },
        {
          "name": "stdout",
          "output_type": "stream",
          "text": [
            "End of Epoch 3: Train Loss: 0.042772, Test Loss: 0.0006, Accuracy: 98.79%\n"
          ]
        },
        {
          "name": "stderr",
          "output_type": "stream",
          "text": [
            "100%|██████████| 938/938 [00:15<00:00, 59.36it/s]\n"
          ]
        },
        {
          "name": "stdout",
          "output_type": "stream",
          "text": [
            "End of Epoch 4: Train Loss: 0.032295, Test Loss: 0.0006, Accuracy: 98.78%\n"
          ]
        },
        {
          "name": "stderr",
          "output_type": "stream",
          "text": [
            "100%|██████████| 938/938 [00:15<00:00, 59.00it/s]\n"
          ]
        },
        {
          "name": "stdout",
          "output_type": "stream",
          "text": [
            "End of Epoch 5: Train Loss: 0.024384, Test Loss: 0.0005, Accuracy: 98.88%\n"
          ]
        },
        {
          "name": "stderr",
          "output_type": "stream",
          "text": [
            "100%|██████████| 938/938 [00:16<00:00, 57.07it/s]\n"
          ]
        },
        {
          "name": "stdout",
          "output_type": "stream",
          "text": [
            "End of Epoch 6: Train Loss: 0.019607, Test Loss: 0.0005, Accuracy: 99.10%\n"
          ]
        },
        {
          "name": "stderr",
          "output_type": "stream",
          "text": [
            "100%|██████████| 938/938 [00:17<00:00, 53.95it/s]\n"
          ]
        },
        {
          "name": "stdout",
          "output_type": "stream",
          "text": [
            "End of Epoch 7: Train Loss: 0.015611, Test Loss: 0.0005, Accuracy: 98.96%\n"
          ]
        },
        {
          "name": "stderr",
          "output_type": "stream",
          "text": [
            "100%|██████████| 938/938 [00:16<00:00, 57.89it/s]\n"
          ]
        },
        {
          "name": "stdout",
          "output_type": "stream",
          "text": [
            "End of Epoch 8: Train Loss: 0.012567, Test Loss: 0.0005, Accuracy: 98.93%\n"
          ]
        },
        {
          "name": "stderr",
          "output_type": "stream",
          "text": [
            "100%|██████████| 938/938 [00:15<00:00, 58.83it/s]\n"
          ]
        },
        {
          "name": "stdout",
          "output_type": "stream",
          "text": [
            "End of Epoch 9: Train Loss: 0.010368, Test Loss: 0.0004, Accuracy: 99.07%\n"
          ]
        },
        {
          "name": "stderr",
          "output_type": "stream",
          "text": [
            "100%|██████████| 938/938 [00:15<00:00, 58.87it/s]\n"
          ]
        },
        {
          "name": "stdout",
          "output_type": "stream",
          "text": [
            "End of Epoch 10: Train Loss: 0.008736, Test Loss: 0.0005, Accuracy: 99.10%\n"
          ]
        },
        {
          "name": "stderr",
          "output_type": "stream",
          "text": [
            "100%|██████████| 938/938 [00:15<00:00, 59.43it/s]\n"
          ]
        },
        {
          "name": "stdout",
          "output_type": "stream",
          "text": [
            "End of Epoch 11: Train Loss: 0.007435, Test Loss: 0.0005, Accuracy: 99.04%\n"
          ]
        },
        {
          "name": "stderr",
          "output_type": "stream",
          "text": [
            "100%|██████████| 938/938 [00:16<00:00, 58.57it/s]\n"
          ]
        },
        {
          "name": "stdout",
          "output_type": "stream",
          "text": [
            "End of Epoch 12: Train Loss: 0.006414, Test Loss: 0.0005, Accuracy: 99.05%\n"
          ]
        },
        {
          "name": "stderr",
          "output_type": "stream",
          "text": [
            "100%|██████████| 938/938 [00:15<00:00, 59.30it/s]\n"
          ]
        },
        {
          "name": "stdout",
          "output_type": "stream",
          "text": [
            "End of Epoch 13: Train Loss: 0.005754, Test Loss: 0.0004, Accuracy: 99.12%\n"
          ]
        },
        {
          "name": "stderr",
          "output_type": "stream",
          "text": [
            "100%|██████████| 938/938 [00:15<00:00, 60.11it/s]\n"
          ]
        },
        {
          "name": "stdout",
          "output_type": "stream",
          "text": [
            "End of Epoch 14: Train Loss: 0.005162, Test Loss: 0.0004, Accuracy: 99.09%\n"
          ]
        },
        {
          "name": "stderr",
          "output_type": "stream",
          "text": [
            "100%|██████████| 938/938 [00:17<00:00, 52.37it/s]\n"
          ]
        },
        {
          "name": "stdout",
          "output_type": "stream",
          "text": [
            "End of Epoch 15: Train Loss: 0.004763, Test Loss: 0.0005, Accuracy: 99.11%\n",
            "Best test accuracy 0.9912\n",
            "Params End 157030\n",
            "Total time (min) 4.665583197149999\n",
            "Train loss [0.2153065754964487, 0.06154870330097913, 0.04277152994916693, 0.03229521986045964, 0.02438374906954572, 0.01960699405209452, 0.015611220584532097, 0.01256696432319431, 0.010368083908052522, 0.008736183194642998, 0.007435160725497763, 0.0064139748471727315, 0.0057541939939348904, 0.0051615699003513555, 0.004763153930038018]\n",
            "Test loss [0.0011142414663452655, 0.0007549954134767177, 0.000575287754740566, 0.0005782015048127505, 0.000520505543595209, 0.0004528160790086986, 0.00048355162371808546, 0.0005273939783448441, 0.00044758266667295173, 0.0004589002136615818, 0.00047815021515457373, 0.0004601389547351573, 0.00044776597435047734, 0.00044503886868596965, 0.000458002571860834]\n"
          ]
        }
      ],
      "source": [
        "model_SimpleCNN_2 = SimpleCNN_2()\n",
        "train_model_generic(model_SimpleCNN_2, train_loader, test_loader,device,epochs = 15)"
      ]
    },
    {
      "cell_type": "code",
      "execution_count": null,
      "metadata": {
        "colab": {
          "base_uri": "https://localhost:8080/"
        },
        "id": "IzlUIA6XJQKP",
        "outputId": "53446a03-8f55-4a7d-f0bc-1d8703f34f25"
      },
      "outputs": [
        {
          "name": "stdout",
          "output_type": "stream",
          "text": [
            "Params start 7850\n"
          ]
        },
        {
          "name": "stderr",
          "output_type": "stream",
          "text": [
            "100%|██████████| 938/938 [00:14<00:00, 62.86it/s]\n"
          ]
        },
        {
          "name": "stdout",
          "output_type": "stream",
          "text": [
            "End of Epoch 1: Train Loss: 0.466882, Test Loss: 0.0052, Accuracy: 90.50%\n"
          ]
        },
        {
          "name": "stderr",
          "output_type": "stream",
          "text": [
            "100%|██████████| 938/938 [00:14<00:00, 63.08it/s]\n"
          ]
        },
        {
          "name": "stdout",
          "output_type": "stream",
          "text": [
            "End of Epoch 2: Train Loss: 0.324653, Test Loss: 0.0048, Accuracy: 91.39%\n"
          ]
        },
        {
          "name": "stderr",
          "output_type": "stream",
          "text": [
            "100%|██████████| 938/938 [00:15<00:00, 62.14it/s]\n"
          ]
        },
        {
          "name": "stdout",
          "output_type": "stream",
          "text": [
            "End of Epoch 3: Train Loss: 0.305680, Test Loss: 0.0046, Accuracy: 91.34%\n"
          ]
        },
        {
          "name": "stderr",
          "output_type": "stream",
          "text": [
            "100%|██████████| 938/938 [00:15<00:00, 61.21it/s]\n"
          ]
        },
        {
          "name": "stdout",
          "output_type": "stream",
          "text": [
            "End of Epoch 4: Train Loss: 0.294332, Test Loss: 0.0044, Accuracy: 92.08%\n"
          ]
        },
        {
          "name": "stderr",
          "output_type": "stream",
          "text": [
            "100%|██████████| 938/938 [00:14<00:00, 63.00it/s]\n"
          ]
        },
        {
          "name": "stdout",
          "output_type": "stream",
          "text": [
            "End of Epoch 5: Train Loss: 0.287557, Test Loss: 0.0044, Accuracy: 91.95%\n"
          ]
        },
        {
          "name": "stderr",
          "output_type": "stream",
          "text": [
            "100%|██████████| 938/938 [00:15<00:00, 60.53it/s]\n"
          ]
        },
        {
          "name": "stdout",
          "output_type": "stream",
          "text": [
            "End of Epoch 6: Train Loss: 0.282916, Test Loss: 0.0043, Accuracy: 92.14%\n"
          ]
        },
        {
          "name": "stderr",
          "output_type": "stream",
          "text": [
            "100%|██████████| 938/938 [00:16<00:00, 58.53it/s]\n"
          ]
        },
        {
          "name": "stdout",
          "output_type": "stream",
          "text": [
            "End of Epoch 7: Train Loss: 0.279618, Test Loss: 0.0043, Accuracy: 92.08%\n"
          ]
        },
        {
          "name": "stderr",
          "output_type": "stream",
          "text": [
            "100%|██████████| 938/938 [00:15<00:00, 62.22it/s]\n"
          ]
        },
        {
          "name": "stdout",
          "output_type": "stream",
          "text": [
            "End of Epoch 8: Train Loss: 0.276311, Test Loss: 0.0043, Accuracy: 92.06%\n"
          ]
        },
        {
          "name": "stderr",
          "output_type": "stream",
          "text": [
            "100%|██████████| 938/938 [00:16<00:00, 57.99it/s]\n"
          ]
        },
        {
          "name": "stdout",
          "output_type": "stream",
          "text": [
            "End of Epoch 9: Train Loss: 0.273946, Test Loss: 0.0043, Accuracy: 92.15%\n"
          ]
        },
        {
          "name": "stderr",
          "output_type": "stream",
          "text": [
            "100%|██████████| 938/938 [00:14<00:00, 63.59it/s]\n"
          ]
        },
        {
          "name": "stdout",
          "output_type": "stream",
          "text": [
            "End of Epoch 10: Train Loss: 0.272417, Test Loss: 0.0043, Accuracy: 92.11%\n"
          ]
        },
        {
          "name": "stderr",
          "output_type": "stream",
          "text": [
            "100%|██████████| 938/938 [00:15<00:00, 60.87it/s]\n"
          ]
        },
        {
          "name": "stdout",
          "output_type": "stream",
          "text": [
            "End of Epoch 11: Train Loss: 0.270729, Test Loss: 0.0043, Accuracy: 92.32%\n"
          ]
        },
        {
          "name": "stderr",
          "output_type": "stream",
          "text": [
            "100%|██████████| 938/938 [00:14<00:00, 63.04it/s]\n"
          ]
        },
        {
          "name": "stdout",
          "output_type": "stream",
          "text": [
            "End of Epoch 12: Train Loss: 0.269759, Test Loss: 0.0043, Accuracy: 92.34%\n"
          ]
        },
        {
          "name": "stderr",
          "output_type": "stream",
          "text": [
            "100%|██████████| 938/938 [00:14<00:00, 63.37it/s]\n"
          ]
        },
        {
          "name": "stdout",
          "output_type": "stream",
          "text": [
            "End of Epoch 13: Train Loss: 0.268956, Test Loss: 0.0043, Accuracy: 92.19%\n"
          ]
        },
        {
          "name": "stderr",
          "output_type": "stream",
          "text": [
            "100%|██████████| 938/938 [00:14<00:00, 62.60it/s]\n"
          ]
        },
        {
          "name": "stdout",
          "output_type": "stream",
          "text": [
            "End of Epoch 14: Train Loss: 0.268127, Test Loss: 0.0043, Accuracy: 92.14%\n"
          ]
        },
        {
          "name": "stderr",
          "output_type": "stream",
          "text": [
            "100%|██████████| 938/938 [00:15<00:00, 60.80it/s]\n"
          ]
        },
        {
          "name": "stdout",
          "output_type": "stream",
          "text": [
            "End of Epoch 15: Train Loss: 0.267893, Test Loss: 0.0043, Accuracy: 92.30%\n",
            "Best test accuracy 0.9234\n",
            "Params End 7850\n",
            "Total time (min) 4.402668502883338\n",
            "Train loss [0.4668815539303873, 0.32465313249496003, 0.3056797910251343, 0.2943319136511161, 0.2875569615521029, 0.2829159746276163, 0.2796182502577427, 0.2763108005290474, 0.27394571668033535, 0.2724170165497865, 0.2707292076541798, 0.26975869315106477, 0.2689561633857837, 0.2681270532889852, 0.2678930122397348]\n",
            "Test loss [0.005189526786655188, 0.004774006062187254, 0.004594814964570105, 0.0044096375321038064, 0.004385773884877563, 0.0043475342146120964, 0.004346767445001751, 0.004340619095042348, 0.0043092621291056276, 0.004304934379179031, 0.004306505561806262, 0.004298457767441869, 0.00428695142166689, 0.004284266061428934, 0.004275586603954435]\n"
          ]
        }
      ],
      "source": [
        "model_SimpleLinear = SimpleLinear()\n",
        "train_model_generic(model_SimpleLinear, train_loader, test_loader,device,epochs = 15)"
      ]
    },
    {
      "cell_type": "markdown",
      "metadata": {
        "id": "FRqgzDSVJsaF"
      },
      "source": [
        "# Evaluate models"
      ]
    },
    {
      "cell_type": "code",
      "execution_count": null,
      "metadata": {
        "colab": {
          "base_uri": "https://localhost:8080/"
        },
        "id": "Qk-X31r0fvS2",
        "outputId": "83d659d4-4467-40f1-8e00-fc14b34dcabf"
      },
      "outputs": [
        {
          "name": "stdout",
          "output_type": "stream",
          "text": [
            "\u001b[0m\u001b[01;34mConvolutional-KANs\u001b[0m/  \u001b[01;34mdata\u001b[0m/  \u001b[01;34mdrive\u001b[0m/  \u001b[01;34msample_data\u001b[0m/\n"
          ]
        }
      ],
      "source": [
        "ls"
      ]
    },
    {
      "cell_type": "code",
      "execution_count": null,
      "metadata": {
        "id": "_3tbJH9Fjjqu"
      },
      "outputs": [],
      "source": [
        "%mv Convolutional-KANs Convolutional_KANs"
      ]
    },
    {
      "cell_type": "code",
      "execution_count": null,
      "metadata": {
        "colab": {
          "base_uri": "https://localhost:8080/"
        },
        "id": "GRaAnxdjjzh5",
        "outputId": "ef734602-b393-49d7-c606-dca881739eb6"
      },
      "outputs": [
        {
          "data": {
            "text/plain": [
              "device(type='cuda')"
            ]
          },
          "execution_count": 11,
          "metadata": {},
          "output_type": "execute_result"
        }
      ],
      "source": [
        "device"
      ]
    },
    {
      "cell_type": "code",
      "execution_count": null,
      "metadata": {
        "colab": {
          "base_uri": "https://localhost:8080/"
        },
        "id": "etTTyFf8JtNn",
        "outputId": "bfeeb3d9-8036-42b6-f6ab-cabaf0e465e5"
      },
      "outputs": [
        {
          "name": "stdout",
          "output_type": "stream",
          "text": [
            "/content/drive/MyDrive/KANs/models/KAN Conv Grid updated & 1 Layer MLP.pt\n",
            "/content/drive/MyDrive/KANs/models/KAN Conv & 1 Layer MLP.pt\n",
            "/content/drive/MyDrive/KANs/models/KAN Conv Grid updated & 2 Layer MLP.pt\n",
            "/content/drive/MyDrive/KANs/models/KAN Conv & 2 Layer MLP.pt\n",
            "/content/drive/MyDrive/KANs/models/KAN Conv BN & 2 Layer MLP.pt\n",
            "/content/drive/MyDrive/KANs/models/KKAN (Small).pt\n",
            "/content/drive/MyDrive/KANs/models/CNN (Big).pt\n",
            "/content/drive/MyDrive/KANs/models/CNN (Small).pt\n",
            "/content/drive/MyDrive/KANs/models/CNN (Medium).pt\n",
            "/content/drive/MyDrive/KANs/models/1 Layer MLP.pt\n",
            "/content/drive/MyDrive/KANs/models/Conv & KAN.pt\n"
          ]
        }
      ],
      "source": [
        "path = \"/content/drive/MyDrive/KANs/models\"\n",
        "def join_path(name,pa):\n",
        "  print(os.path.join(pa,name+\".pt\"))\n",
        "  return os.path.join(pa,name+\".pt\")\n",
        "model_KANC_MLP = torch.load(join_path(\"KAN Conv Grid updated & 1 Layer MLP\",path), map_location=torch.device(device))\n",
        "model_KANC_MLP_sin_grid =torch.load(join_path(\"KAN Conv & 1 Layer MLP\",path), map_location=torch.device(device))\n",
        "model_KANC_MLP_2 = torch.load(join_path(\"KAN Conv Grid updated & 2 Layer MLP\",path), map_location=torch.device(device))\n",
        "model_KANC_MLP_sin_grid_2 = torch.load(join_path(\"KAN Conv & 2 Layer MLP\",path), map_location=torch.device(device))\n",
        "model_CKAN_BN = torch.load(join_path(\"KAN Conv BN & 2 Layer MLP\",path), map_location=torch.device(device))\n",
        "\n",
        "model_KKAN_Convolutional_Network= torch.load(join_path(\"KKAN (Small)\",path), map_location=torch.device(device))\n",
        "model_ConvNet= torch.load(join_path(\"CNN (Big)\",path), map_location=torch.device(device))\n",
        "model_SimpleCNN= torch.load(join_path( \"CNN (Small)\",path), map_location=torch.device(device))\n",
        "model_SimpleCNN_2= torch.load(join_path(\"CNN (Medium)\",path), map_location=torch.device(device))\n",
        "model_SimpleLinear= torch.load(join_path(\"1 Layer MLP\",path), map_location=torch.device(device))\n",
        "model_Convs_and_KAN= torch.load(join_path(\"Conv & KAN\",path), map_location=torch.device(device))\n"
      ]
    },
    {
      "cell_type": "code",
      "execution_count": null,
      "metadata": {
        "colab": {
          "base_uri": "https://localhost:8080/"
        },
        "id": "YtNCBqG0clri",
        "outputId": "22bf4cff-5506-4f15-f2f5-5b457da86b83"
      },
      "outputs": [
        {
          "name": "stdout",
          "output_type": "stream",
          "text": [
            "CNN (Small)\n",
            "CNN (Medium)\n",
            "CNN (Big)\n"
          ]
        }
      ],
      "source": [
        "print(model_SimpleCNN.name)\n",
        "print(model_SimpleCNN_2.name)\n",
        "print(model_ConvNet.name)"
      ]
    },
    {
      "cell_type": "code",
      "execution_count": null,
      "metadata": {
        "id": "kyd_LUxdJUYq"
      },
      "outputs": [],
      "source": [
        "models = [model_Convs_and_KAN, model_KANC_MLP ,model_KANC_MLP_2,model_CKAN_BN,\n",
        "          model_KKAN_Convolutional_Network,model_ConvNet,model_SimpleCNN,model_SimpleCNN_2,model_SimpleLinear]\n",
        "\n",
        "models = [model_Convs_and_KAN, model_KANC_MLP ,model_KANC_MLP_2,model_CKAN_BN,\n",
        "          model_KKAN_Convolutional_Network,model_SimpleCNN,model_SimpleCNN_2,model_SimpleLinear]"
      ]
    },
    {
      "cell_type": "code",
      "execution_count": null,
      "metadata": {
        "id": "lM9FOPCzeDMH"
      },
      "outputs": [],
      "source": [
        "train_loss_Conv_KAN = model_Convs_and_KAN.train_losses\n",
        "\n",
        "test_loss_Conv_KAN =  model_Convs_and_KAN.test_losses"
      ]
    },
    {
      "cell_type": "code",
      "execution_count": null,
      "metadata": {
        "colab": {
          "base_uri": "https://localhost:8080/"
        },
        "id": "xIMCeH1hUJDk",
        "outputId": "82daa2e9-6bf3-4f23-9b69-b40ef5997dcc"
      },
      "outputs": [
        {
          "name": "stdout",
          "output_type": "stream",
          "text": [
            "[0.25865828202092156, 0.06707867390331207, 0.049306931811621164, 0.039656367015539366, 0.03283700122630029, 0.02847791388658171, 0.024810054077409896, 0.02191593974227034, 0.019670923576200768, 0.01815988411898536, 0.016738510280321323, 0.015793194233038738, 0.014959052570403985, 0.014278986749412028, 0.013798981676372621]\n",
            "[0.001136003066156991, 0.0008578613358113216, 0.0008074178027512971, 0.000658730321272742, 0.0006283869789083838, 0.0006367393978631298, 0.0006276543480227702, 0.000600848160595342, 0.0005891159282720764, 0.0005799706179139321, 0.0005792663319123676, 0.0005763103585566568, 0.0005651124168070964, 0.0005650892613492033, 0.0005605370346896962]\n"
          ]
        }
      ],
      "source": [
        "print(train_loss_Conv_KAN)\n",
        "print(test_loss_Conv_KAN)\n"
      ]
    },
    {
      "cell_type": "code",
      "execution_count": null,
      "metadata": {
        "id": "6TjTeMbEdFtp"
      },
      "outputs": [],
      "source": [
        "criterion = nn.CrossEntropyLoss()\n"
      ]
    },
    {
      "cell_type": "code",
      "execution_count": null,
      "metadata": {
        "colab": {
          "base_uri": "https://localhost:8080/"
        },
        "id": "XpVAV_yvYAG6",
        "outputId": "bf9eca70-9680-4d15-c735-82c9c9375019"
      },
      "outputs": [
        {
          "name": "stdout",
          "output_type": "stream",
          "text": [
            "/content/Convolutional_KANs\n",
            "Already up to date.\n",
            "/content\n"
          ]
        }
      ],
      "source": [
        "%cd Convolutional_KANs/\n",
        "!git pull\n",
        "from evaluations import *\n",
        "\n",
        "%cd .."
      ]
    },
    {
      "cell_type": "code",
      "execution_count": null,
      "metadata": {
        "id": "xy1lCDyO3zdO"
      },
      "outputs": [],
      "source": [
        "train_loss_KANC_MLP = [0.33935674588217823,\n",
        "  0.0942687428286319,\n",
        "  0.07197279591850046,\n",
        "  0.06847678308538012,\n",
        "  0.05955250870172324,\n",
        "  0.05417216954299056,\n",
        "  0.051098475226763085,\n",
        "  0.04846410318275294,\n",
        "  0.04647071218601605,\n",
        "  0.04489730181235042,\n",
        "  0.04380074222368607,\n",
        "  0.042873787013059265,\n",
        "  0.04205073245085164,\n",
        "  0.041650337677921596,\n",
        "  0.04109629193608309]\n",
        "\n",
        "test_loss_KANC_MLP = [0.001697738205967471,\n",
        "  0.0011757755266386084,\n",
        "  0.0009898879855289124,\n",
        "  0.0009994714320928325,\n",
        "  0.0009017263221903705,\n",
        "  0.0008854410335523426,\n",
        "  0.0008065840090697747,\n",
        "  0.0008300244908125024,\n",
        "  0.0007792393520590849,\n",
        "  0.0007758027418865822,\n",
        "  0.0007766278183560643,\n",
        "  0.000768101255075453,\n",
        "  0.0007607919593909173,\n",
        "  0.000765979799492925,\n",
        "  0.0007639804949954851]\n",
        "\n",
        "train_loss_KANC_MLP_2=[0.21897231480146426,\n",
        "  0.07353251453624098,\n",
        "  0.05721937116870442,\n",
        "  0.047878696132319244,\n",
        "  0.04150438564655774,\n",
        "  0.0366078559656132,\n",
        "  0.03311703953255804,\n",
        "  0.030196960272012043,\n",
        "  0.027638596368952096,\n",
        "  0.025961983091717183,\n",
        "  0.02425185625298894,\n",
        "  0.023127057526728757,\n",
        "  0.022238810120501926,\n",
        "  0.021531728393705273,\n",
        "  0.020969354467974582]\n",
        "\n",
        "test_loss_KANC_MLP_2=[0.0012612488556886091,\n",
        "  0.0009558329595427495,\n",
        "  0.0009132928017614177,\n",
        "  0.0007507752088451525,\n",
        "  0.0007176788398275675,\n",
        "  0.0006705681244675361,\n",
        "  0.0007046450834299322,\n",
        "  0.0006859115182596725,\n",
        "  0.0006730625281386892,\n",
        "  0.0006581980004859361,\n",
        "  0.00065217373815467,\n",
        "  0.0006518551567376562,\n",
        "  0.0006583203260815935,\n",
        "  0.0006584684147856024,\n",
        "  0.0006532971342006932]\n",
        "\n",
        "train_loss_CKAN_BN = [0.1454220675468159,\n",
        "  0.06977446501052428,\n",
        "  0.05467932953944565,\n",
        "  0.04516425674015692,\n",
        "  0.03924263060787447,\n",
        "  0.0326767945529343,\n",
        "  0.02824860371321987,\n",
        "  0.024938190037771604,\n",
        "  0.021705107057874432,\n",
        "  0.01972180532462121,\n",
        "  0.017632725264011165,\n",
        "  0.01651676905044575,\n",
        "  0.015244268209886065,\n",
        "  0.014398638652289162,\n",
        "  0.013539855513333985]\n",
        "\n",
        "test_loss_CKAN_BN = [0.0012777296436193865,\n",
        "  0.0009903840879400378,\n",
        "  0.0008397236175260332,\n",
        "  0.0009113362471929576,\n",
        "  0.0009358388909924542,\n",
        "  0.0008627519926922105,\n",
        "  0.0007917359379345726,\n",
        "  0.0007634779685409739,\n",
        "  0.0007966364572730526,\n",
        "  0.0007481639421594081,\n",
        "  0.0007896610071511531,\n",
        "  0.0008326483950073453,\n",
        "  0.0007935179021555086,\n",
        "  0.0007981807186223705,\n",
        "  0.0008147037002936485]\n",
        "\n",
        "train_loss_KKAN_Convolutional_Network = [0.29593345961734047,\n",
        "  0.06703833738979358,\n",
        "  0.045814201937241755,\n",
        "  0.03472468644149228,\n",
        "  0.02729775428524745,\n",
        "  0.022482037726940633,\n",
        "  0.019001716354202582,\n",
        "  0.016357068117630522,\n",
        "  0.014498275348237518,\n",
        "  0.013094616639090262,\n",
        "  0.011966808757030848,\n",
        "  0.011163318441730978,\n",
        "  0.010524594565609724,\n",
        "  0.009998534695552622,\n",
        "  0.009628105908818444]\n",
        "\n",
        "test_loss_KKAN_Convolutional_Network = [0.0011849331812467427,\n",
        "  0.0008751846319239121,\n",
        "  0.0007065556886198465,\n",
        "  0.0006651774811791256,\n",
        "  0.0006106808413955151,\n",
        "  0.0005910350679376279,\n",
        "  0.0005753468407914624,\n",
        "  0.0005746232837322168,\n",
        "  0.0005581805207912112,\n",
        "  0.0005535830790628098,\n",
        "  0.0005543200286178035,\n",
        "  0.0005455328260803072,\n",
        "  0.0005406708003203675,\n",
        "  0.0005392164097072964,\n",
        "  0.000543378471196047]\n",
        "\n",
        "train_loss_ConvNet = [0.19379471953206662,\n",
        "  0.06455506513546556,\n",
        "  0.0478643131984295,\n",
        "  0.03727007834338841,\n",
        "  0.02920598080168902,\n",
        "  0.023823515148367672,\n",
        "  0.019825003386327703,\n",
        "  0.01665158382724091,\n",
        "  0.0149261552344977,\n",
        "  0.013298576379093147,\n",
        "  0.011078102065825048,\n",
        "  0.01106280538906038,\n",
        "  0.009832706688020462,\n",
        "  0.009176246020339169,\n",
        "  0.008077317574399886]\n",
        "\n",
        "test_loss_ConvNet = [0.0006172624262791942,\n",
        "  0.0004986049612256465,\n",
        "  0.00029875820723991635,\n",
        "  0.0003146402778787433,\n",
        "  0.00029350810720150803,\n",
        "  0.0002944076888647146,\n",
        "  0.0002737197645238375,\n",
        "  0.00023522360299459385,\n",
        "  0.00024192878297724292,\n",
        "  0.00024276122564490877,\n",
        "  0.0002392799811821666,\n",
        "  0.00023753235846703946,\n",
        "  0.00023967942000596015,\n",
        "  0.0002441088602063266,\n",
        "  0.0002475420888528971]\n",
        "\n",
        "train_loss_SimpleCNN = [0.4827697675730755,\n",
        "  0.16258251108427738,\n",
        "  0.12528885773389037,\n",
        "  0.10987440913296076,\n",
        "  0.09947605180327715,\n",
        "  0.09353382859541885,\n",
        "  0.08921899093386493,\n",
        "  0.08578226174007474,\n",
        "  0.08321647276319484,\n",
        "  0.08139398432910633,\n",
        "  0.07991313835882,\n",
        "  0.07843345607906929,\n",
        "  0.0777096628416965,\n",
        "  0.07700086347580051,\n",
        "  0.07639722884304996]\n",
        "\n",
        "test_loss_SimpleCNN = [0.002865686759725213,\n",
        "  0.0019234731859527527,\n",
        "  0.0016345450958120636,\n",
        "  0.0014748451225692406,\n",
        "  0.0012684928980306721,\n",
        "  0.0012441728233592586,\n",
        "  0.0011984232717193663,\n",
        "  0.0011801399301039055,\n",
        "  0.0011480779777979478,\n",
        "  0.0011214048394700513,\n",
        "  0.0011083945760969073,\n",
        "  0.0010890323044732214,\n",
        "  0.0010828427439264487,\n",
        "  0.0011008486401056872,\n",
        "  0.0010745813698973506]\n",
        "\n",
        "train_loss_SimpleCNN_2 = [0.21117990984241847,\n",
        "  0.05991160728658901,\n",
        "  0.0415561657774,\n",
        "  0.030429686001911045,\n",
        "  0.02336589108189709,\n",
        "  0.017997318578826665,\n",
        "  0.014250236912304709,\n",
        "  0.011287525106904478,\n",
        "  0.008998478992184292,\n",
        "  0.007357852079045858,\n",
        "  0.006219709534491721,\n",
        "  0.00541637867014881,\n",
        "  0.004725116936954251,\n",
        "  0.004297926528770423,\n",
        "  0.0038061361329828347]\n",
        "\n",
        "test_loss_SimpleCNN_2 = [0.0011171785625920165,\n",
        "  0.000848297135849134,\n",
        "  0.0005197482292765926,\n",
        "  0.0005423031548663857,\n",
        "  0.0004732234713173966,\n",
        "  0.00044309434893111756,\n",
        "  0.0004348146197347887,\n",
        "  0.000394797144939821,\n",
        "  0.00042125085809871054,\n",
        "  0.00046374585712596856,\n",
        "  0.0004329789427749006,\n",
        "  0.00042491928045982377,\n",
        "  0.0004180356933119242,\n",
        "  0.00042474594459181956,\n",
        "  0.0004305196293459744]\n",
        "\n",
        "train_loss_SimpleLinear = [0.4674932952088588,\n",
        "  0.32431868392267205,\n",
        "  0.3048694340198406,\n",
        "  0.294418965662911,\n",
        "  0.2879594070618468,\n",
        "  0.2827838738558135,\n",
        "  0.27879312542328705,\n",
        "  0.27654710583595327,\n",
        "  0.27456822490164723,\n",
        "  0.2718526973073353,\n",
        "  0.2704906691270851,\n",
        "  0.27014333968843096,\n",
        "  0.26892970593721627,\n",
        "  0.2680446036271195,\n",
        "  0.2674915510525645],\n",
        "\n",
        "test_loss_SimpleLinear = [0.005068106623366475,\n",
        "  0.004644092352502048,\n",
        "  0.00451062976103276,\n",
        "  0.004370839706156403,\n",
        "  0.004394953608885407,\n",
        "  0.004365261895209551,\n",
        "  0.004440076595917344,\n",
        "  0.004351968009211123,\n",
        "  0.004322553045488894,\n",
        "  0.00428967675184831,\n",
        "  0.0043442101340740915,\n",
        "  0.004279218317288906,\n",
        "  0.004296377332881093,\n",
        "  0.0042906446773558855,\n",
        "  0.004280940962117165]"
      ]
    },
    {
      "cell_type": "code",
      "execution_count": null,
      "metadata": {
        "id": "aGpXgFcq8i9q"
      },
      "outputs": [],
      "source": [
        "all_train_loss= [train_loss_Conv_KAN, train_loss_KANC_MLP, train_loss_KANC_MLP_2, train_loss_CKAN_BN, train_loss_KKAN_Convolutional_Network, train_loss_ConvNet, train_loss_SimpleCNN, train_loss_SimpleCNN_2, train_loss_SimpleLinear]\n",
        "all_test_loss= [test_loss_Conv_KAN, test_loss_KANC_MLP, test_loss_KANC_MLP_2, test_loss_CKAN_BN, test_loss_KKAN_Convolutional_Network, test_loss_ConvNet, test_loss_SimpleCNN, test_loss_SimpleCNN_2, test_loss_SimpleLinear]\n",
        "\n",
        "all_train_loss= [train_loss_Conv_KAN, train_loss_KANC_MLP, train_loss_KANC_MLP_2, train_loss_CKAN_BN, train_loss_KKAN_Convolutional_Network, train_loss_SimpleCNN, train_loss_SimpleCNN_2, train_loss_SimpleLinear]\n",
        "all_test_loss= [test_loss_Conv_KAN, test_loss_KANC_MLP, test_loss_KANC_MLP_2, test_loss_CKAN_BN, test_loss_KKAN_Convolutional_Network, test_loss_SimpleCNN, test_loss_SimpleCNN_2, test_loss_SimpleLinear]"
      ]
    },
    {
      "cell_type": "code",
      "execution_count": null,
      "metadata": {
        "id": "WH10uS47XwrF"
      },
      "outputs": [],
      "source": [
        "def highlight_max(s):\n",
        "    is_max = s == s.max()\n",
        "    return ['font-weight: bold' if v else '' for v in is_max]\n",
        "\n",
        "def final_plots(models,test_loader,criterion,device,use_time = False):\n",
        "    fig, (ax1, ax2) = plt.subplots(1, 2, figsize=(16, 5))\n",
        "    accs = []\n",
        "    precisions = []\n",
        "    recalls = []\n",
        "    f1s = []\n",
        "    params_counts = []\n",
        "    times = []\n",
        "    contar=0\n",
        "    color_map = plt.get_cmap('tab10')(np.linspace(0, 1, len(models)))  # Definir el mapa de colores\n",
        "\n",
        "    for i, model in enumerate(models):\n",
        "        print(model.name)\n",
        "        test_loss, accuracy, precision, recall, f1 = test(model, device, test_loader, criterion)\n",
        "        model_loss = all_test_loss[i]  # Get the correct sublist for the current model\n",
        "        for epoch in range(len(model_loss)):\n",
        "            if epoch == 0:\n",
        "                ax1.plot(range(len(model_loss)), model_loss, label=model.name, color=color_map[i])\n",
        "            # else:\n",
        "            #     ax1.plot(range(len(model_loss)), model_loss, color=color_map[i])\n",
        "        ax2.scatter(count_parameters(model), accuracy, label=model.name, color=color_map[i])\n",
        "\n",
        "        accs.append(accuracy)\n",
        "        precisions.append(precision)\n",
        "        recalls.append(recall)\n",
        "        f1s.append(f1)\n",
        "        print(precision)\n",
        "        params_counts.append(count_parameters(model))\n",
        "        if use_time :\n",
        "            times.append(model.training_time)\n",
        "        else:\n",
        "            times.append(np.nan)\n",
        "        contar+=1\n",
        "\n",
        "    ax1.set_title('Loss Test vs Epochs',fontsize = 12)\n",
        "    ax1.set_xlabel('Epochs',fontsize = 10)\n",
        "    ax1.set_ylabel('Loss',fontsize = 10)\n",
        "    # ax1.legend(fontsize = 20)\n",
        "    ax1.grid(True)\n",
        "    ax2.set_title('Number of Parameters vs Accuracy',fontsize = 12)\n",
        "    ax2.set_xlabel('Number of Parameters',fontsize = 10)\n",
        "    ax2.set_ylabel('Accuracy (%)',fontsize = 10)\n",
        "    ax2.legend(fontsize = 10)\n",
        "    ax2.grid(True)\n",
        "\n",
        "    plt.tight_layout()\n",
        "    plt.show()\n",
        "        # Creación del DataFrame\n",
        "    df = pd.DataFrame({\n",
        "        \"Test Accuracy\": accs,\n",
        "        \"Test Precision\": precisions,\n",
        "        \"Test Recall\": recalls,\n",
        "        \"Test F1 Score\": f1s,\n",
        "        \"Number of Parameters\": params_counts,\n",
        "        \"Time\":times\n",
        "    }, index=[m.name for m in models])\n",
        "\n",
        "    df.to_csv('experiment_28x28.csv', index=False)\n",
        "\n",
        "    # Aplicando el estilo\n",
        "    df_styled = df.style.apply(highlight_max, subset=df.columns[:], axis=0).format('{:.3f}')\n",
        "    return df_styled\n",
        "\n",
        "def final_plots_2(models, test_loader, criterion, device, use_time=False):\n",
        "    fig = plt.figure(figsize=(8, 5))\n",
        "    accs = []\n",
        "    params_counts = []\n",
        "    color_map = plt.get_cmap('tab10')(np.linspace(0, 1, len(models)))  # Definir el mapa de colores\n",
        "\n",
        "    for i, model in enumerate(models):\n",
        "        test_loss, accuracy, precision, recall, f1 = test(model, device, test_loader, criterion)\n",
        "        plt.scatter(count_parameters(model), accuracy, color=color_map[i], label=model.name)  # Usar colores del mapa\n",
        "        accs.append(accuracy)\n",
        "        params_counts.append(count_parameters(model))\n",
        "\n",
        "    # Establecer el tamaño de las fuentes\n",
        "    plt.xlabel('Number of Parameters', fontsize=10)\n",
        "    plt.ylabel('Accuracy (%)', fontsize=10)\n",
        "    plt.legend(fontsize=10)\n",
        "    plt.grid(True)\n",
        "\n",
        "    plt.tight_layout()\n",
        "    plt.show()\n",
        "    return accs"
      ]
    },
    {
      "cell_type": "code",
      "execution_count": null,
      "metadata": {
        "colab": {
          "base_uri": "https://localhost:8080/"
        },
        "id": "7WL0VFzrSlY2",
        "outputId": "f11bfe95-e2e8-42e4-a902-e1d4cc221a60"
      },
      "outputs": [
        {
          "data": {
            "text/plain": [
              "[0.001136003066156991,\n",
              " 0.0008578613358113216,\n",
              " 0.0008074178027512971,\n",
              " 0.000658730321272742,\n",
              " 0.0006283869789083838,\n",
              " 0.0006367393978631298,\n",
              " 0.0006276543480227702,\n",
              " 0.000600848160595342,\n",
              " 0.0005891159282720764,\n",
              " 0.0005799706179139321,\n",
              " 0.0005792663319123676,\n",
              " 0.0005763103585566568,\n",
              " 0.0005651124168070964,\n",
              " 0.0005650892613492033,\n",
              " 0.0005605370346896962]"
            ]
          },
          "execution_count": 31,
          "metadata": {},
          "output_type": "execute_result"
        }
      ],
      "source": [
        "all_test_loss[0]"
      ]
    },
    {
      "cell_type": "code",
      "execution_count": null,
      "metadata": {
        "id": "mUJfqyTdPY3L"
      },
      "outputs": [],
      "source": [
        "def highlight_max(s):\n",
        "    is_max = s == s.max()\n",
        "    return ['font-weight: bold' if v else '' for v in is_max]\n",
        "\n",
        "def final_plots(models,test_loader,criterion,device,use_time = False):\n",
        "    fig, (ax1, ax2) = plt.subplots(1, 2, figsize=(16, 5))\n",
        "    accs = []\n",
        "    precisions = []\n",
        "    recalls = []\n",
        "    f1s = []\n",
        "    params_counts = []\n",
        "    times = []\n",
        "    contar=0\n",
        "    todopa=[]\n",
        "    color_map = plt.get_cmap('tab10')(np.linspace(0, 1, len(models)))  # Definir el mapa de colores\n",
        "\n",
        "    for i, model in enumerate(models):\n",
        "        print(model.name)\n",
        "        names = [\n",
        "            \"Conv & KAN\", \"KAN Conv & 1 Layer MLP\", \"KAN Conv & 2 Layer MLP\",\n",
        "            \"KAN Conv BN & 2 Layer MLP\", \"KKAN (Small)\", \"CNN (Big)\", \"CNN (Small)\", \"CNN (Medium)\",\n",
        "            \"1 Layer MLP\"\n",
        "        ]\n",
        "        names = [\n",
        "            \"Conv & KAN\", \"KAN Conv & 1 Layer MLP\", \"KAN Conv & 2 Layer MLP\",\n",
        "            \"KAN Conv BN & 2 Layer MLP\", \"KKAN (Small)\", \"CNN (Small)\", \"CNN (Medium)\",\n",
        "            \"1 Layer MLP\"\n",
        "        ]\n",
        "        test_loss, accuracy, precision, recall, f1 = test(model, device, test_loader, criterion)\n",
        "        model_loss = all_test_loss[i]\n",
        "        x = range(len(model_loss))\n",
        "        ax1.plot(x, model_loss, label=names[i], color=color_map[i])\n",
        "            # else:\n",
        "            #     ax1.plot(range(len(model_loss)), model_loss, color=color_map[i])\n",
        "        ax2.scatter(count_parameters(model), accuracy, label=model.name, color=color_map[i])\n",
        "\n",
        "        accs.append(accuracy)\n",
        "        precisions.append(precision)\n",
        "        recalls.append(recall)\n",
        "        f1s.append(f1)\n",
        "        print(precision)\n",
        "        params_counts.append(count_parameters(model))\n",
        "        if use_time :\n",
        "            times.append(model.training_time)\n",
        "        else:\n",
        "            times.append(np.nan)\n",
        "        contar+=1\n",
        "\n",
        "    ax1.set_title('Loss Test vs Epochs',fontsize = 12)\n",
        "    ax1.set_xlabel('Epochs',fontsize = 10)\n",
        "    ax1.set_ylabel('Loss',fontsize = 10)\n",
        "    ax1.legend(fontsize = 10,loc='upper right')\n",
        "    ax1.grid(True)\n",
        "    ax2.set_title('Number of Parameters vs Accuracy',fontsize = 12)\n",
        "    ax2.set_xlabel('Number of Parameters',fontsize = 10)\n",
        "    ax2.set_ylabel('Accuracy (%)',fontsize = 10)\n",
        "    ax2.legend(fontsize = 10)\n",
        "    ax2.grid(True)\n",
        "\n",
        "    plt.tight_layout()\n",
        "    plt.show()\n",
        "        # Creación del DataFrame\n",
        "    df = pd.DataFrame({\n",
        "        \"Test Accuracy\": accs,\n",
        "        \"Test Precision\": precisions,\n",
        "        \"Test Recall\": recalls,\n",
        "        \"Test F1 Score\": f1s,\n",
        "        \"Number of Parameters\": params_counts,\n",
        "        \"Time\":times\n",
        "    }, index=[m.name for m in models])\n",
        "\n",
        "    df.to_csv('experiment_28x28.csv', index=False)\n",
        "\n",
        "    # Aplicando el estilo\n",
        "    df_styled = df.style.apply(highlight_max, subset=df.columns[:], axis=0).format('{:.4f}')\n",
        "    return df_styled"
      ]
    },
    {
      "cell_type": "code",
      "execution_count": null,
      "metadata": {
        "colab": {
          "base_uri": "https://localhost:8080/"
        },
        "id": "s5dMRpE_W2wb",
        "outputId": "31e028ba-5106-4cfa-c7bf-40556a081edb"
      },
      "outputs": [
        {
          "data": {
            "text/plain": [
              "0.9875"
            ]
          },
          "execution_count": 29,
          "metadata": {},
          "output_type": "execute_result"
        }
      ],
      "source": [
        "test_loss, accuracy, precision, recall, f1 = test(model_Convs_and_KAN, device, test_loader, criterion)\n",
        "accuracy"
      ]
    },
    {
      "cell_type": "code",
      "execution_count": null,
      "metadata": {
        "id": "FOiwiIO1bacF"
      },
      "outputs": [],
      "source": [
        "models[8]=model_Convs_and_KAN"
      ]
    },
    {
      "cell_type": "code",
      "execution_count": null,
      "metadata": {
        "colab": {
          "base_uri": "https://localhost:8080/",
          "height": 839
        },
        "id": "AqsevNNpczQx",
        "outputId": "e5371a17-dc88-4ba4-9058-31c8cfa45fd9"
      },
      "outputs": [
        {
          "name": "stdout",
          "output_type": "stream",
          "text": [
            "Conv & KAN\n",
            "0.9874772505196179\n",
            "KAN Conv Grid updated & 1 Layer MLP\n",
            "0.9854118179829563\n",
            "KAN Conv Grid updated & 2 Layer MLP\n",
            "0.9858060763207881\n",
            "KAN Conv BN & 2 Layer MLP\n",
            "0.9853667933607669\n",
            "KKAN (Small)\n",
            "0.9887540752092745\n",
            "CNN (Small)\n"
          ]
        },
        {
          "name": "stderr",
          "output_type": "stream",
          "text": [
            "/usr/local/lib/python3.10/dist-packages/torch/nn/modules/conv.py:456: UserWarning: Plan failed with a cudnnException: CUDNN_BACKEND_EXECUTION_PLAN_DESCRIPTOR: cudnnFinalize Descriptor Failed cudnn_status: CUDNN_STATUS_NOT_SUPPORTED (Triggered internally at ../aten/src/ATen/native/cudnn/Conv_v8.cpp:919.)\n",
            "  return F.conv2d(input, weight, bias, self.stride,\n"
          ]
        },
        {
          "name": "stdout",
          "output_type": "stream",
          "text": [
            "0.9759952949413006\n",
            "CNN (Medium)\n",
            "0.9911015682432739\n",
            "1 Layer MLP\n",
            "0.9222182249044995\n"
          ]
        },
        {
          "data": {
            "image/png": "[encoded data removed]",
            "text/plain": [
              "<Figure size 1600x500 with 2 Axes>"
            ]
          },
          "metadata": {},
          "output_type": "display_data"
        }
      ],
      "source": [
        "accs = final_plots(models,test_loader,criterion,device, use_time=True)"
      ]
    },
    {
      "cell_type": "code",
      "execution_count": null,
      "metadata": {
        "colab": {
          "base_uri": "https://localhost:8080/",
          "height": 332
        },
        "id": "jetu4Axqg9dO",
        "outputId": "89fe20e4-949b-4542-fe47-83714c3fb19a"
      },
      "outputs": [
        {
          "data": {
            "text/html": [
              "<style type=\"text/css\">\n",
              "#T_eaac1_row4_col5, #T_eaac1_row5_col0, #T_eaac1_row5_col1, #T_eaac1_row5_col2, #T_eaac1_row5_col3, #T_eaac1_row5_col4 {\n",
              "  font-weight: bold;\n",
              "}\n",
              "</style>\n",
              "<table id=\"T_eaac1\" class=\"dataframe\">\n",
              "  <thead>\n",
              "    <tr>\n",
              "      <th class=\"blank level0\" >&nbsp;</th>\n",
              "      <th id=\"T_eaac1_level0_col0\" class=\"col_heading level0 col0\" >Test Accuracy</th>\n",
              "      <th id=\"T_eaac1_level0_col1\" class=\"col_heading level0 col1\" >Test Precision</th>\n",
              "      <th id=\"T_eaac1_level0_col2\" class=\"col_heading level0 col2\" >Test Recall</th>\n",
              "      <th id=\"T_eaac1_level0_col3\" class=\"col_heading level0 col3\" >Test F1 Score</th>\n",
              "      <th id=\"T_eaac1_level0_col4\" class=\"col_heading level0 col4\" >Number of Parameters</th>\n",
              "      <th id=\"T_eaac1_level0_col5\" class=\"col_heading level0 col5\" >Time</th>\n",
              "    </tr>\n",
              "  </thead>\n",
              "  <tbody>\n",
              "    <tr>\n",
              "      <th id=\"T_eaac1_level0_row0\" class=\"row_heading level0 row0\" >Conv & KAN</th>\n",
              "      <td id=\"T_eaac1_row0_col0\" class=\"data row0 col0\" >0.9875</td>\n",
              "      <td id=\"T_eaac1_row0_col1\" class=\"data row0 col1\" >0.9875</td>\n",
              "      <td id=\"T_eaac1_row0_col2\" class=\"data row0 col2\" >0.9874</td>\n",
              "      <td id=\"T_eaac1_row0_col3\" class=\"data row0 col3\" >0.9874</td>\n",
              "      <td id=\"T_eaac1_row0_col4\" class=\"data row0 col4\" >94950.0000</td>\n",
              "      <td id=\"T_eaac1_row0_col5\" class=\"data row0 col5\" >0.4551</td>\n",
              "    </tr>\n",
              "    <tr>\n",
              "      <th id=\"T_eaac1_level0_row1\" class=\"row_heading level0 row1\" >KAN Conv Grid updated & 1 Layer MLP</th>\n",
              "      <td id=\"T_eaac1_row1_col0\" class=\"data row1 col0\" >0.9853</td>\n",
              "      <td id=\"T_eaac1_row1_col1\" class=\"data row1 col1\" >0.9854</td>\n",
              "      <td id=\"T_eaac1_row1_col2\" class=\"data row1 col2\" >0.9852</td>\n",
              "      <td id=\"T_eaac1_row1_col3\" class=\"data row1 col3\" >0.9853</td>\n",
              "      <td id=\"T_eaac1_row1_col4\" class=\"data row1 col4\" >7385.0000</td>\n",
              "      <td id=\"T_eaac1_row1_col5\" class=\"data row1 col5\" >1.7867</td>\n",
              "    </tr>\n",
              "    <tr>\n",
              "      <th id=\"T_eaac1_level0_row2\" class=\"row_heading level0 row2\" >KAN Conv Grid updated & 2 Layer MLP</th>\n",
              "      <td id=\"T_eaac1_row2_col0\" class=\"data row2 col0\" >0.9858</td>\n",
              "      <td id=\"T_eaac1_row2_col1\" class=\"data row2 col1\" >0.9858</td>\n",
              "      <td id=\"T_eaac1_row2_col2\" class=\"data row2 col2\" >0.9857</td>\n",
              "      <td id=\"T_eaac1_row2_col3\" class=\"data row2 col3\" >0.9858</td>\n",
              "      <td id=\"T_eaac1_row2_col4\" class=\"data row2 col4\" >163951.0000</td>\n",
              "      <td id=\"T_eaac1_row2_col5\" class=\"data row2 col5\" >1.7779</td>\n",
              "    </tr>\n",
              "    <tr>\n",
              "      <th id=\"T_eaac1_level0_row3\" class=\"row_heading level0 row3\" >KAN Conv BN & 2 Layer MLP</th>\n",
              "      <td id=\"T_eaac1_row3_col0\" class=\"data row3 col0\" >0.9853</td>\n",
              "      <td id=\"T_eaac1_row3_col1\" class=\"data row3 col1\" >0.9854</td>\n",
              "      <td id=\"T_eaac1_row3_col2\" class=\"data row3 col2\" >0.9852</td>\n",
              "      <td id=\"T_eaac1_row3_col3\" class=\"data row3 col3\" >0.9853</td>\n",
              "      <td id=\"T_eaac1_row3_col4\" class=\"data row3 col4\" >163786.0000</td>\n",
              "      <td id=\"T_eaac1_row3_col5\" class=\"data row3 col5\" >1.7545</td>\n",
              "    </tr>\n",
              "    <tr>\n",
              "      <th id=\"T_eaac1_level0_row4\" class=\"row_heading level0 row4\" >KKAN (Small)</th>\n",
              "      <td id=\"T_eaac1_row4_col0\" class=\"data row4 col0\" >0.9887</td>\n",
              "      <td id=\"T_eaac1_row4_col1\" class=\"data row4 col1\" >0.9888</td>\n",
              "      <td id=\"T_eaac1_row4_col2\" class=\"data row4 col2\" >0.9887</td>\n",
              "      <td id=\"T_eaac1_row4_col3\" class=\"data row4 col3\" >0.9887</td>\n",
              "      <td id=\"T_eaac1_row4_col4\" class=\"data row4 col4\" >94875.0000</td>\n",
              "      <td id=\"T_eaac1_row4_col5\" class=\"data row4 col5\" >1.8119</td>\n",
              "    </tr>\n",
              "    <tr>\n",
              "      <th id=\"T_eaac1_level0_row5\" class=\"row_heading level0 row5\" >CNN (Big)</th>\n",
              "      <td id=\"T_eaac1_row5_col0\" class=\"data row5 col0\" >0.9964</td>\n",
              "      <td id=\"T_eaac1_row5_col1\" class=\"data row5 col1\" >0.9964</td>\n",
              "      <td id=\"T_eaac1_row5_col2\" class=\"data row5 col2\" >0.9963</td>\n",
              "      <td id=\"T_eaac1_row5_col3\" class=\"data row5 col3\" >0.9964</td>\n",
              "      <td id=\"T_eaac1_row5_col4\" class=\"data row5 col4\" >887530.0000</td>\n",
              "      <td id=\"T_eaac1_row5_col5\" class=\"data row5 col5\" >0.3471</td>\n",
              "    </tr>\n",
              "    <tr>\n",
              "      <th id=\"T_eaac1_level0_row6\" class=\"row_heading level0 row6\" >CNN (Small)</th>\n",
              "      <td id=\"T_eaac1_row6_col0\" class=\"data row6 col0\" >0.9759</td>\n",
              "      <td id=\"T_eaac1_row6_col1\" class=\"data row6 col1\" >0.9760</td>\n",
              "      <td id=\"T_eaac1_row6_col2\" class=\"data row6 col2\" >0.9758</td>\n",
              "      <td id=\"T_eaac1_row6_col3\" class=\"data row6 col3\" >0.9759</td>\n",
              "      <td id=\"T_eaac1_row6_col4\" class=\"data row6 col4\" >2740.0000</td>\n",
              "      <td id=\"T_eaac1_row6_col5\" class=\"data row6 col5\" >0.3056</td>\n",
              "    </tr>\n",
              "    <tr>\n",
              "      <th id=\"T_eaac1_level0_row7\" class=\"row_heading level0 row7\" >CNN (Medium)</th>\n",
              "      <td id=\"T_eaac1_row7_col0\" class=\"data row7 col0\" >0.9912</td>\n",
              "      <td id=\"T_eaac1_row7_col1\" class=\"data row7 col1\" >0.9911</td>\n",
              "      <td id=\"T_eaac1_row7_col2\" class=\"data row7 col2\" >0.9911</td>\n",
              "      <td id=\"T_eaac1_row7_col3\" class=\"data row7 col3\" >0.9911</td>\n",
              "      <td id=\"T_eaac1_row7_col4\" class=\"data row7 col4\" >157030.0000</td>\n",
              "      <td id=\"T_eaac1_row7_col5\" class=\"data row7 col5\" >0.3110</td>\n",
              "    </tr>\n",
              "    <tr>\n",
              "      <th id=\"T_eaac1_level0_row8\" class=\"row_heading level0 row8\" >1 Layer MLP</th>\n",
              "      <td id=\"T_eaac1_row8_col0\" class=\"data row8 col0\" >0.9234</td>\n",
              "      <td id=\"T_eaac1_row8_col1\" class=\"data row8 col1\" >0.9222</td>\n",
              "      <td id=\"T_eaac1_row8_col2\" class=\"data row8 col2\" >0.9224</td>\n",
              "      <td id=\"T_eaac1_row8_col3\" class=\"data row8 col3\" >0.9222</td>\n",
              "      <td id=\"T_eaac1_row8_col4\" class=\"data row8 col4\" >7850.0000</td>\n",
              "      <td id=\"T_eaac1_row8_col5\" class=\"data row8 col5\" >0.2935</td>\n",
              "    </tr>\n",
              "  </tbody>\n",
              "</table>\n"
            ],
            "text/plain": [
              "<pandas.io.formats.style.Styler at 0x798d7c541e40>"
            ]
          },
          "execution_count": 33,
          "metadata": {},
          "output_type": "execute_result"
        }
      ],
      "source": [
        "accs"
      ]
    },
    {
      "cell_type": "code",
      "execution_count": null,
      "metadata": {
        "id": "3sSqWUWXmEN_"
      },
      "outputs": [],
      "source": [
        "models_name_all_fashion = ['Conv & KAN',\n",
        " 'KKAN (Small)',\n",
        " 'KAN Conv & 1 Layer MLP',\n",
        " 'KAN Conv & 2 Layer MLP',\n",
        " 'KAN Conv BN & 2 Layer MLP',\n",
        " 'CNN (Small)',\n",
        " 'CNN (Medium)',\n",
        " '1 Layer MLP']\n",
        "\n",
        "test_accuracy_models_fashion = [0.8884, 0.8969, 0.8857, 0.8945, 0.8908, 0.8715, 0.9014, 0.8433]\n",
        "\n",
        "test_accuracy_models_MNIST = [0.9875, 0.9890, 0.9844, 0.9860, 0.9864, 0.9780, 0.9918, 0.9231]"
      ]
    },
    {
      "cell_type": "code",
      "execution_count": null,
      "metadata": {
        "colab": {
          "base_uri": "https://localhost:8080/",
          "height": 505
        },
        "id": "khG_TA35hpSb",
        "outputId": "d36eaec2-ce30-4c2e-872b-aed6e07e8c68"
      },
      "outputs": [
        {
          "data": {
            "image/png": "[encoded data removed]",
            "text/plain": [
              "<Figure size 1200x500 with 2 Axes>"
            ]
          },
          "metadata": {},
          "output_type": "display_data"
        }
      ],
      "source": [
        "# Datos de ejemplo\n",
        "modelos = models_name_all_fashion\n",
        "datasets = ['MNIST', 'Fashion-MNIST']\n",
        "\n",
        "# Datos de precisión\n",
        "accuracy_data = {\n",
        "    'MNIST': test_accuracy_models_MNIST,\n",
        "    'Fashion-MNIST': test_accuracy_models_fashion,\n",
        "}\n",
        "\n",
        "fig, axes = plt.subplots(1, 2, figsize=(12, 5))  # Ajustar tamaño para más modelos\n",
        "\n",
        "bar_width = 0.07  # Reducir el ancho de las barras\n",
        "\n",
        "# Generar un mapa de colores para cada modelo\n",
        "color_map = plt.get_cmap('tab10')(np.linspace(0, 1, len(modelos)))\n",
        "\n",
        "for i, (dataset, ax) in enumerate(zip(datasets, axes)):\n",
        "    # Organizar los modelos de acuerdo a la precisión, de mayor a menor\n",
        "    sorted_indices = np.argsort(accuracy_data[dataset])[::-1]\n",
        "    sorted_modelos = [modelos[idx] for idx in sorted_indices]\n",
        "    sorted_accuracy = [accuracy_data[dataset][idx] for idx in sorted_indices]\n",
        "    sorted_colors = [color_map[idx] for idx in sorted_indices]\n",
        "\n",
        "    index = np.arange(len(sorted_modelos)) * (bar_width * len(sorted_modelos) * 0.2)  # Ajustar la separación\n",
        "\n",
        "    # Crear barras para cada modelo en este dataset específico\n",
        "    for j in range(len(sorted_modelos)):\n",
        "        ax.bar(index[j], sorted_accuracy[j], bar_width, color=sorted_colors[j], label=sorted_modelos[j] if i == 0 else \"\")\n",
        "\n",
        "    ax.set_xlabel(dataset, fontsize=10)\n",
        "    # ax.set_xticks(index)\n",
        "    # ax.set_xticklabels(sorted_modelos, fontsize=10, rotation=90)  # Rotar etiquetas para mejor legibilidad\n",
        "    ax.set_ylim(0.8, 1)\n",
        "\n",
        "    if i == 0:\n",
        "        ax.set_ylabel('Accuracy', fontsize=10)\n",
        "\n",
        "# Añadir leyenda con una sola instancia por etiqueta\n",
        "handles = [plt.Rectangle((0,0),1,1, color=color_map[i]) for i in range(len(modelos))]\n",
        "fig.legend(handles, modelos, loc='upper center', bbox_to_anchor=(0.5, 0.98), ncol=4, fontsize=9)\n",
        "\n",
        "# Ajustar el layout\n",
        "plt.tight_layout(rect=[0, 0, 1, 0.9])\n",
        "\n",
        "# Mostrar el gráfico\n",
        "plt.show()"
      ]
    },
    {
      "cell_type": "code",
      "execution_count": null,
      "metadata": {
        "id": "NUXza12JxTuI"
      },
      "outputs": [],
      "source": [
        "plot_roc_one_vs_rest_all_models(models, test_loader,n_classes=10,device=device)"
      ]
    },
    {
      "cell_type": "code",
      "execution_count": null,
      "metadata": {
        "colab": {
          "base_uri": "https://localhost:8080/",
          "height": 286
        },
        "id": "hvq09T6ihffv",
        "outputId": "e0edfed8-1019-44b2-86cc-28dfaa94080b"
      },
      "outputs": [
        {
          "data": {
            "image/png": "[encoded data removed]",
            "text/plain": [
              "<Figure size 1200x500 with 2 Axes>"
            ]
          },
          "metadata": {},
          "output_type": "display_data"
        }
      ],
      "source": [
        "# Initialize the figure\n",
        "plt.figure(figsize=(12, 5))\n",
        "\n",
        "# First plot: x in range [-1, 1]\n",
        "x1 = np.linspace(-1, 1, 100)\n",
        "y1 = []\n",
        "\n",
        "for i in x1:\n",
        "    tensor_x = torch.zeros((1, 1, 28, 28)).to(device)\n",
        "    tensor_x[0, 0, 0, 0] = i\n",
        "    post_conv = models[2].conv1(tensor_x)\n",
        "    y_aux = post_conv[0, 0, 0, 0].item()\n",
        "    y1.append(y_aux)\n",
        "\n",
        "# Plot the first set of results\n",
        "plt.subplot(1, 2, 1)  # 1 row, 2 columns, subplot 1\n",
        "plt.plot(x1, y1)\n",
        "plt.xlabel('x')\n",
        "plt.ylabel(r'$\\phi(x)$')\n",
        "plt.title('Range [-1, 1]')\n",
        "\n",
        "# Second plot: x in range [-10, 10]\n",
        "x2 = np.linspace(-10, 10, 100)\n",
        "y2 = []\n",
        "\n",
        "for i in x2:\n",
        "    tensor_x = torch.zeros((1, 1, 28, 28)).to(device)\n",
        "    tensor_x[0, 0, 0, 0] = i\n",
        "    post_conv = models[2].conv1(tensor_x)\n",
        "    y_aux = post_conv[0, 0, 0, 0].item()\n",
        "    y2.append(y_aux)\n",
        "\n",
        "# Plot the second set of results\n",
        "plt.subplot(1, 2, 2)  # 1 row, 2 columns, subplot 2\n",
        "plt.plot(x2, y2)\n",
        "plt.xlabel('x')\n",
        "plt.ylabel(r'$\\phi(x)$')\n",
        "plt.title('Range [-10, 10]')\n",
        "\n",
        "# Show the plots\n",
        "plt.tight_layout()\n",
        "plt.show()\n",
        "\n"
      ]
    }
  ],
  "metadata": {
    "accelerator": "GPU",
    "colab": {
      "collapsed_sections": [
        "AKuF2NDk9m4n"
      ],
      "gpuType": "T4",
      "provenance": []
    },
    "kernelspec": {
      "display_name": "Python 3",
      "name": "python3"
    },
    "language_info": {
      "codemirror_mode": {
        "name": "ipython",
        "version": 3
      },
      "file_extension": ".py",
      "mimetype": "text/x-python",
      "name": "python",
      "nbconvert_exporter": "python",
      "pygments_lexer": "ipython3",
      "version": "3.11.4"
    }
  },
  "nbformat": 4,
  "nbformat_minor": 0
}

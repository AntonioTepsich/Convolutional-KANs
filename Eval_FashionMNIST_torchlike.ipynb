{
  "cells": [
    {
      "cell_type": "code",
      "execution_count": 1,
      "metadata": {
        "colab": {
          "base_uri": "https://localhost:8080/"
        },
        "id": "CZ01MTdMXeie",
        "outputId": "961a630a-f9f5-409c-de9c-0b66290bd91f"
      },
      "outputs": [
        {
          "output_type": "stream",
          "name": "stdout",
          "text": [
            "Cloning into 'Convolutional-KANs'...\n",
            "remote: Enumerating objects: 2277, done.\u001b[K\n",
            "remote: Counting objects: 100% (307/307), done.\u001b[K\n",
            "remote: Compressing objects: 100% (153/153), done.\u001b[K\n",
            "remote: Total 2277 (delta 211), reused 233 (delta 154), pack-reused 1970 (from 1)\u001b[K\n",
            "Receiving objects: 100% (2277/2277), 43.32 MiB | 15.64 MiB/s, done.\n",
            "Resolving deltas: 100% (1231/1231), done.\n"
          ]
        }
      ],
      "source": [
        "!git clone -b torch_style_convs https://github.com/AntonioTepsich/Convolutional-KANs.git\n"
      ]
    },
    {
      "cell_type": "code",
      "execution_count": 2,
      "metadata": {
        "colab": {
          "base_uri": "https://localhost:8080/"
        },
        "id": "e3AJyxeIYMdm",
        "outputId": "e90d61f4-de9a-4648-acd8-a134c19ec8d9"
      },
      "outputs": [
        {
          "output_type": "stream",
          "name": "stdout",
          "text": [
            "/content/Convolutional-KANs\n"
          ]
        }
      ],
      "source": [
        "%cd Convolutional-KANs/"
      ]
    },
    {
      "cell_type": "code",
      "source": [
        "from google.colab import drive\n",
        "drive.mount('/content/drive')"
      ],
      "metadata": {
        "id": "990YySiz_jci",
        "colab": {
          "base_uri": "https://localhost:8080/"
        },
        "outputId": "59ba26aa-8fd8-4a7d-9719-d9cf578c6509"
      },
      "execution_count": 3,
      "outputs": [
        {
          "output_type": "stream",
          "name": "stdout",
          "text": [
            "Mounted at /content/drive\n"
          ]
        }
      ]
    },
    {
      "cell_type": "code",
      "execution_count": 4,
      "metadata": {
        "id": "vFCniTxBYNtU"
      },
      "outputs": [],
      "source": [
        "%load_ext autoreload\n",
        "%autoreload 2\n",
        "import matplotlib.pyplot as plt\n",
        "from tqdm import tqdm\n",
        "import numpy as np\n",
        "import pandas as pd\n",
        "from sklearn.metrics import precision_score, recall_score, f1_score\n",
        "import os\n",
        "import torch\n",
        "import torch.nn as nn\n",
        "import torch.optim as optim\n",
        "import torchvision.transforms as transforms\n",
        "from torchvision.datasets import FashionMNIST\n",
        "from torch.utils.data import DataLoader\n",
        "from architectures_28x28.KKAN import *\n",
        "from architectures_28x28.CKAN_BN import CKAN_BN\n",
        "from architectures_28x28.KANConvs_MLP import *\n",
        "from architectures_28x28.KANConvs_MLP_2 import *\n",
        "from architectures_28x28.SimpleModels import *\n",
        "from architectures_28x28.conv_and_kan import *\n",
        "\n",
        "from evaluations import *\n",
        "from generic_train import train_model_generic"
      ]
    },
    {
      "cell_type": "code",
      "source": [
        "%cd .."
      ],
      "metadata": {
        "id": "fgwWk4uy-4k3",
        "colab": {
          "base_uri": "https://localhost:8080/"
        },
        "outputId": "638a6263-8f27-4f15-bda0-afd78e5abcdd"
      },
      "execution_count": 5,
      "outputs": [
        {
          "output_type": "stream",
          "name": "stdout",
          "text": [
            "/content\n"
          ]
        }
      ]
    },
    {
      "cell_type": "code",
      "execution_count": 6,
      "metadata": {
        "id": "-8-FaHKnYzqt",
        "colab": {
          "base_uri": "https://localhost:8080/"
        },
        "outputId": "63931138-4bd5-4638-8224-b2296ff97a49"
      },
      "outputs": [
        {
          "output_type": "stream",
          "name": "stdout",
          "text": [
            "Downloading http://fashion-mnist.s3-website.eu-central-1.amazonaws.com/train-images-idx3-ubyte.gz\n",
            "Downloading http://fashion-mnist.s3-website.eu-central-1.amazonaws.com/train-images-idx3-ubyte.gz to ./data/FashionMNIST/raw/train-images-idx3-ubyte.gz\n"
          ]
        },
        {
          "output_type": "stream",
          "name": "stderr",
          "text": [
            "100%|██████████| 26.4M/26.4M [00:10<00:00, 2.41MB/s]\n"
          ]
        },
        {
          "output_type": "stream",
          "name": "stdout",
          "text": [
            "Extracting ./data/FashionMNIST/raw/train-images-idx3-ubyte.gz to ./data/FashionMNIST/raw\n",
            "\n",
            "Downloading http://fashion-mnist.s3-website.eu-central-1.amazonaws.com/train-labels-idx1-ubyte.gz\n",
            "Downloading http://fashion-mnist.s3-website.eu-central-1.amazonaws.com/train-labels-idx1-ubyte.gz to ./data/FashionMNIST/raw/train-labels-idx1-ubyte.gz\n"
          ]
        },
        {
          "output_type": "stream",
          "name": "stderr",
          "text": [
            "100%|██████████| 29.5k/29.5k [00:00<00:00, 212kB/s]\n"
          ]
        },
        {
          "output_type": "stream",
          "name": "stdout",
          "text": [
            "Extracting ./data/FashionMNIST/raw/train-labels-idx1-ubyte.gz to ./data/FashionMNIST/raw\n",
            "\n",
            "Downloading http://fashion-mnist.s3-website.eu-central-1.amazonaws.com/t10k-images-idx3-ubyte.gz\n",
            "Downloading http://fashion-mnist.s3-website.eu-central-1.amazonaws.com/t10k-images-idx3-ubyte.gz to ./data/FashionMNIST/raw/t10k-images-idx3-ubyte.gz\n"
          ]
        },
        {
          "output_type": "stream",
          "name": "stderr",
          "text": [
            "100%|██████████| 4.42M/4.42M [00:01<00:00, 3.93MB/s]\n"
          ]
        },
        {
          "output_type": "stream",
          "name": "stdout",
          "text": [
            "Extracting ./data/FashionMNIST/raw/t10k-images-idx3-ubyte.gz to ./data/FashionMNIST/raw\n",
            "\n",
            "Downloading http://fashion-mnist.s3-website.eu-central-1.amazonaws.com/t10k-labels-idx1-ubyte.gz\n",
            "Downloading http://fashion-mnist.s3-website.eu-central-1.amazonaws.com/t10k-labels-idx1-ubyte.gz to ./data/FashionMNIST/raw/t10k-labels-idx1-ubyte.gz\n"
          ]
        },
        {
          "output_type": "stream",
          "name": "stderr",
          "text": [
            "100%|██████████| 5.15k/5.15k [00:00<00:00, 19.6MB/s]"
          ]
        },
        {
          "output_type": "stream",
          "name": "stdout",
          "text": [
            "Extracting ./data/FashionMNIST/raw/t10k-labels-idx1-ubyte.gz to ./data/FashionMNIST/raw\n",
            "\n"
          ]
        },
        {
          "output_type": "stream",
          "name": "stderr",
          "text": [
            "\n"
          ]
        }
      ],
      "source": [
        "device = torch.device(\"cuda\" if torch.cuda.is_available() else \"cpu\")\n",
        "# Transformaciones\n",
        "transform = transforms.Compose([transforms.ToTensor(), transforms.Normalize((0.5,), (0.5,))])\n",
        "\n",
        "# Cargar MNIST y filtrar por dos clases\n",
        "mnist_train = FashionMNIST(root='./data', train=True, download=True, transform=transform)\n",
        "\n",
        "mnist_test = FashionMNIST(root='./data', train=False, download=True, transform=transform)\n",
        "\n",
        "# DataLoader\n",
        "train_loader = DataLoader(mnist_train, batch_size=128, shuffle=True)\n",
        "test_loader = DataLoader(mnist_test, batch_size=64, shuffle=False)"
      ]
    },
    {
      "cell_type": "code",
      "execution_count": 7,
      "metadata": {
        "id": "EZffErM19NIt"
      },
      "outputs": [],
      "source": [
        "def count_parameters(model):\n",
        "    return sum(p.numel() for p in model.parameters() if p.requires_grad)\n",
        "path = \"/content/drive/MyDrive/KANs/models/FashionMNIST_torchlike\"\n",
        "path_res = \"/content/drive/MyDrive/KANs/results/FashionMNIST_torchlike\""
      ]
    },
    {
      "cell_type": "markdown",
      "source": [
        "# Evaluate models"
      ],
      "metadata": {
        "id": "FRqgzDSVJsaF"
      }
    },
    {
      "cell_type": "code",
      "source": [
        "device"
      ],
      "metadata": {
        "colab": {
          "base_uri": "https://localhost:8080/"
        },
        "id": "GRaAnxdjjzh5",
        "outputId": "4582cd1c-68af-43f4-d250-6c05d989c836"
      },
      "execution_count": 8,
      "outputs": [
        {
          "output_type": "execute_result",
          "data": {
            "text/plain": [
              "device(type='cuda')"
            ]
          },
          "metadata": {},
          "execution_count": 8
        }
      ]
    },
    {
      "cell_type": "code",
      "source": [
        "def join_path(name,pa):\n",
        "  print(os.path.join(pa,name+\".pt\"))\n",
        "  return os.path.join(pa,name+\".pt\")\n",
        "models_listed = os.listdir(path)\n",
        "import json\n",
        "\n",
        "\n",
        "\n",
        "models = []\n",
        "\n",
        "for m in models_listed:\n",
        "    # Open and read the JSON file\n",
        "    model = torch.load(os.path.join(path,m), map_location=torch.device(device))\n",
        "    models.append(model)\n",
        "    print(model.name)\n"
      ],
      "metadata": {
        "id": "etTTyFf8JtNn",
        "colab": {
          "base_uri": "https://localhost:8080/"
        },
        "outputId": "67eae3d6-ebd5-45d0-b627-395b4a0ca265"
      },
      "execution_count": 9,
      "outputs": [
        {
          "output_type": "stream",
          "name": "stderr",
          "text": [
            "<ipython-input-9-ff6bce4b2ceb>:13: FutureWarning: You are using `torch.load` with `weights_only=False` (the current default value), which uses the default pickle module implicitly. It is possible to construct malicious pickle data which will execute arbitrary code during unpickling (See https://github.com/pytorch/pytorch/blob/main/SECURITY.md#untrusted-models for more details). In a future release, the default value for `weights_only` will be flipped to `True`. This limits the functions that could be executed during unpickling. Arbitrary objects will no longer be allowed to be loaded via this mode unless they are explicitly allowlisted by the user via `torch.serialization.add_safe_globals`. We recommend you start setting `weights_only=True` for any use case where you don't have full control of the loaded file. Please open an issue on GitHub for any issues related to this experimental feature.\n",
            "  model = torch.load(os.path.join(path,m), map_location=torch.device(device))\n"
          ]
        },
        {
          "output_type": "stream",
          "name": "stdout",
          "text": [
            "Conv & KAN (Medium) (gs = 10)\n",
            "CNN  (Medium, but with more convs)\n",
            "Conv & KAN (Medium) (gs = 20)\n",
            "KKAN (Medium) (gs = 10)\n",
            "KANC MLP (Small) (gs = 20)\n",
            "KANC MLP (Big) (gs = 10)\n",
            "Conv & KAN (Small) (gs = 10)\n",
            "KANC MLP (Medium) (gs = 10)\n",
            "CNN (Small)\n",
            "KANC MLP (Small) (gs = 10)\n",
            "KKAN (Small) (gs = 10)\n",
            "KANC MLP (Medium) (gs = 20)\n",
            "Conv & KAN (Small) (gs = 20)\n",
            "CNN (Medium)\n",
            "CNN (Big)\n",
            "KKAN (Small) (gs = 20)\n",
            "KANC MLP (Big) (gs = 20)\n",
            "KKAN (Medium) (gs = 20)\n"
          ]
        }
      ]
    },
    {
      "cell_type": "code",
      "source": [
        "criterion = nn.CrossEntropyLoss()\n"
      ],
      "metadata": {
        "id": "6TjTeMbEdFtp"
      },
      "execution_count": 10,
      "outputs": []
    },
    {
      "cell_type": "code",
      "source": [
        "\n",
        "\n",
        "def highlight_max(s):\n",
        "    is_max = s == s.max()\n",
        "    return ['font-weight: bold' if v else '' for v in is_max]\n",
        "\n",
        "\n",
        "def final_plots(models, test_loader, criterion, device, use_time=False):\n",
        "    accs = []\n",
        "    precisions = []\n",
        "    recalls = []\n",
        "    f1s = []\n",
        "    params_counts = []\n",
        "    times = []\n",
        "    tflops_per_sec = []\n",
        "    contar = 0\n",
        "\n",
        "    # Define color map and dictionary to store colors for models with \"10\" and \"20\" variants\n",
        "    color_map = plt.get_cmap('tab20')(np.linspace(0, 1, len(models)))\n",
        "    color_dict = {}\n",
        "    fig, ax = plt.subplots(figsize=(12, 8))  # Increase figure size\n",
        "\n",
        "    if use_time:\n",
        "        with open(os.path.join(path_res, \"epoch_times.json\"), 'r') as file:\n",
        "            times_dict = json.load(file)\n",
        "\n",
        "    models_used = []\n",
        "    models.sort(key=lambda x: x.name, reverse=False)\n",
        "\n",
        "    for i, model in enumerate(models):\n",
        "\n",
        "        # Test model and collect metrics\n",
        "        test_loss, accuracy, precision, recall, f1 = test(model, device, test_loader, criterion)\n",
        "        accs.append(accuracy)\n",
        "        precisions.append(precision)\n",
        "        recalls.append(recall)\n",
        "        f1s.append(f1)\n",
        "        params_counts.append(count_parameters(model))\n",
        "\n",
        "        if use_time:\n",
        "            times.append(times_dict.get(model.name, np.nan))\n",
        "        else:\n",
        "            times.append(np.nan)\n",
        "\n",
        "        # Check for \"10\" or \"20\" in model names\n",
        "        base_name = model.name.replace(\"10\", \"\").replace(\"20\", \"\")\n",
        "        if base_name not in color_dict:\n",
        "            color_dict[base_name] = color_map[i]  # Assign new color to this base model name\n",
        "\n",
        "        # Select marker based on model name\n",
        "        marker = 'x' if '10' in model.name else 'o' if '20' in model.name else 's'\n",
        "        ax.scatter(count_parameters(model), accuracy*100, label=model.name, color=color_dict[base_name], marker=marker,s=65)\n",
        "\n",
        "        models_used.append(model)\n",
        "        contar += 1\n",
        "\n",
        "    # Plot setup\n",
        "    #ax.set_title(\"Number of Parameters vs Accuracy\", fontsize=16)\n",
        "    ax.set_xlabel(\"Number of Parameters\", fontsize=12)\n",
        "    ax.set_ylabel(\"Accuracy (%)\", fontsize=12)\n",
        "    legend = ax.legend(loc=\"upper center\", bbox_to_anchor=(0.5, 1.15), fontsize=9, ncol=3)  # Set smaller font size and 3 columns\n",
        "    plt.grid(True)\n",
        "    plt.tight_layout()\n",
        "    plt.show()\n",
        "\n",
        "    # Create DataFrame and export results\n",
        "    df = pd.DataFrame({\n",
        "        \"Test Accuracy\": accs,\n",
        "        \"Test Precision\": precisions,\n",
        "        \"Test Recall\": recalls,\n",
        "        \"Test F1 Score\": f1s,\n",
        "        \"Number of Parameters\": params_counts,\n",
        "        \"Seconds/epoch\": times,\n",
        "    }, index=[m.name for m in models_used])\n",
        "\n",
        "\n",
        "    return df"
      ],
      "metadata": {
        "id": "2m2guVeyZAPm"
      },
      "execution_count": 15,
      "outputs": []
    },
    {
      "cell_type": "code",
      "source": [
        "tabla = final_plots(models,test_loader,criterion,device,use_time = True)"
      ],
      "metadata": {
        "colab": {
          "base_uri": "https://localhost:8080/",
          "height": 810
        },
        "id": "1umOMdZlZBSH",
        "outputId": "2bcda1e6-a5c0-4017-8e91-2b30f3a96b58"
      },
      "execution_count": 16,
      "outputs": [
        {
          "output_type": "display_data",
          "data": {
            "text/plain": [
              "<Figure size 1200x800 with 1 Axes>"
            ],
            "image/png": "[encoded data removed]"
          },
          "metadata": {}
        }
      ]
    },
    {
      "cell_type": "code",
      "source": [
        "tabla"
      ],
      "metadata": {
        "colab": {
          "base_uri": "https://localhost:8080/",
          "height": 614
        },
        "id": "oItCiliDguLB",
        "outputId": "0c20f684-b651-4391-d027-4bd65723971f"
      },
      "execution_count": 13,
      "outputs": [
        {
          "output_type": "execute_result",
          "data": {
            "text/plain": [
              "                                    Test Accuracy  Test Precision  \\\n",
              "CNN  (Medium, but with more convs)         0.8956        0.896023   \n",
              "CNN (Big)                                  0.8944        0.894001   \n",
              "CNN (Medium)                               0.8834        0.881956   \n",
              "CNN (Small)                                0.8710        0.870822   \n",
              "Conv & KAN (Medium) (gs = 10)              0.8792        0.878418   \n",
              "Conv & KAN (Medium) (gs = 20)              0.8790        0.880789   \n",
              "Conv & KAN (Small) (gs = 10)               0.8755        0.873701   \n",
              "Conv & KAN (Small) (gs = 20)               0.8767        0.877424   \n",
              "KANC MLP (Big) (gs = 10)                   0.8915        0.892151   \n",
              "KANC MLP (Big) (gs = 20)                   0.8911        0.890554   \n",
              "KANC MLP (Medium) (gs = 10)                0.8899        0.889723   \n",
              "KANC MLP (Medium) (gs = 20)                0.8890        0.888546   \n",
              "KANC MLP (Small) (gs = 10)                 0.8743        0.874131   \n",
              "KANC MLP (Small) (gs = 20)                 0.8815        0.880209   \n",
              "KKAN (Medium) (gs = 10)                    0.8791        0.883658   \n",
              "KKAN (Medium) (gs = 20)                    0.8856        0.885222   \n",
              "KKAN (Small) (gs = 10)                     0.8801        0.878661   \n",
              "KKAN (Small) (gs = 20)                     0.8794        0.878020   \n",
              "\n",
              "                                    Test Recall  Test F1 Score  \\\n",
              "CNN  (Medium, but with more convs)       0.8956       0.895525   \n",
              "CNN (Big)                                0.8944       0.893895   \n",
              "CNN (Medium)                             0.8834       0.882159   \n",
              "CNN (Small)                              0.8710       0.870091   \n",
              "Conv & KAN (Medium) (gs = 10)            0.8792       0.878035   \n",
              "Conv & KAN (Medium) (gs = 20)            0.8790       0.879483   \n",
              "Conv & KAN (Small) (gs = 10)             0.8755       0.874222   \n",
              "Conv & KAN (Small) (gs = 20)             0.8767       0.875915   \n",
              "KANC MLP (Big) (gs = 10)                 0.8915       0.891433   \n",
              "KANC MLP (Big) (gs = 20)                 0.8911       0.890560   \n",
              "KANC MLP (Medium) (gs = 10)              0.8899       0.889618   \n",
              "KANC MLP (Medium) (gs = 20)              0.8890       0.888265   \n",
              "KANC MLP (Small) (gs = 10)               0.8743       0.874083   \n",
              "KANC MLP (Small) (gs = 20)               0.8815       0.879433   \n",
              "KKAN (Medium) (gs = 10)                  0.8791       0.879970   \n",
              "KKAN (Medium) (gs = 20)                  0.8856       0.885183   \n",
              "KKAN (Small) (gs = 10)                   0.8801       0.877642   \n",
              "KKAN (Small) (gs = 20)                   0.8794       0.877172   \n",
              "\n",
              "                                    Number of Parameters  Seconds/epoch  \n",
              "CNN  (Medium, but with more convs)                  6930      12.619682  \n",
              "CNN (Big)                                          26620      12.681805  \n",
              "CNN (Medium)                                        3020      12.617077  \n",
              "CNN (Small)                                         1540      13.969206  \n",
              "Conv & KAN (Medium) (gs = 10)                      38010      13.838395  \n",
              "Conv & KAN (Medium) (gs = 20)                      63010      13.595402  \n",
              "Conv & KAN (Small) (gs = 10)                       19030      13.819559  \n",
              "Conv & KAN (Small) (gs = 20)                       31530      13.526114  \n",
              "KANC MLP (Big) (gs = 10)                           33535      99.136612  \n",
              "KANC MLP (Big) (gs = 20)                           38485     147.796222  \n",
              "KANC MLP (Medium) (gs = 10)                         9935      98.643374  \n",
              "KANC MLP (Medium) (gs = 20)                        14885     147.687061  \n",
              "KANC MLP (Small) (gs = 10)                          5310      70.226353  \n",
              "KANC MLP (Small) (gs = 20)                          8010      97.570139  \n",
              "KKAN (Medium) (gs = 10)                            44925      98.551077  \n",
              "KKAN (Medium) (gs = 20)                            74875     148.520436  \n",
              "KKAN (Small) (gs = 10)                             22800      69.591632  \n",
              "KKAN (Small) (gs = 20)                             38000      98.016934  "
            ],
            "text/html": [
              "\n",
              "  <div id=\"df-fc5432ca-5d38-42f4-ac9c-01119829dbea\" class=\"colab-df-container\">\n",
              "    <div>\n",
              "<style scoped>\n",
              "    .dataframe tbody tr th:only-of-type {\n",
              "        vertical-align: middle;\n",
              "    }\n",
              "\n",
              "    .dataframe tbody tr th {\n",
              "        vertical-align: top;\n",
              "    }\n",
              "\n",
              "    .dataframe thead th {\n",
              "        text-align: right;\n",
              "    }\n",
              "</style>\n",
              "<table border=\"1\" class=\"dataframe\">\n",
              "  <thead>\n",
              "    <tr style=\"text-align: right;\">\n",
              "      <th></th>\n",
              "      <th>Test Accuracy</th>\n",
              "      <th>Test Precision</th>\n",
              "      <th>Test Recall</th>\n",
              "      <th>Test F1 Score</th>\n",
              "      <th>Number of Parameters</th>\n",
              "      <th>Seconds/epoch</th>\n",
              "    </tr>\n",
              "  </thead>\n",
              "  <tbody>\n",
              "    <tr>\n",
              "      <th>CNN  (Medium, but with more convs)</th>\n",
              "      <td>0.8956</td>\n",
              "      <td>0.896023</td>\n",
              "      <td>0.8956</td>\n",
              "      <td>0.895525</td>\n",
              "      <td>6930</td>\n",
              "      <td>12.619682</td>\n",
              "    </tr>\n",
              "    <tr>\n",
              "      <th>CNN (Big)</th>\n",
              "      <td>0.8944</td>\n",
              "      <td>0.894001</td>\n",
              "      <td>0.8944</td>\n",
              "      <td>0.893895</td>\n",
              "      <td>26620</td>\n",
              "      <td>12.681805</td>\n",
              "    </tr>\n",
              "    <tr>\n",
              "      <th>CNN (Medium)</th>\n",
              "      <td>0.8834</td>\n",
              "      <td>0.881956</td>\n",
              "      <td>0.8834</td>\n",
              "      <td>0.882159</td>\n",
              "      <td>3020</td>\n",
              "      <td>12.617077</td>\n",
              "    </tr>\n",
              "    <tr>\n",
              "      <th>CNN (Small)</th>\n",
              "      <td>0.8710</td>\n",
              "      <td>0.870822</td>\n",
              "      <td>0.8710</td>\n",
              "      <td>0.870091</td>\n",
              "      <td>1540</td>\n",
              "      <td>13.969206</td>\n",
              "    </tr>\n",
              "    <tr>\n",
              "      <th>Conv &amp; KAN (Medium) (gs = 10)</th>\n",
              "      <td>0.8792</td>\n",
              "      <td>0.878418</td>\n",
              "      <td>0.8792</td>\n",
              "      <td>0.878035</td>\n",
              "      <td>38010</td>\n",
              "      <td>13.838395</td>\n",
              "    </tr>\n",
              "    <tr>\n",
              "      <th>Conv &amp; KAN (Medium) (gs = 20)</th>\n",
              "      <td>0.8790</td>\n",
              "      <td>0.880789</td>\n",
              "      <td>0.8790</td>\n",
              "      <td>0.879483</td>\n",
              "      <td>63010</td>\n",
              "      <td>13.595402</td>\n",
              "    </tr>\n",
              "    <tr>\n",
              "      <th>Conv &amp; KAN (Small) (gs = 10)</th>\n",
              "      <td>0.8755</td>\n",
              "      <td>0.873701</td>\n",
              "      <td>0.8755</td>\n",
              "      <td>0.874222</td>\n",
              "      <td>19030</td>\n",
              "      <td>13.819559</td>\n",
              "    </tr>\n",
              "    <tr>\n",
              "      <th>Conv &amp; KAN (Small) (gs = 20)</th>\n",
              "      <td>0.8767</td>\n",
              "      <td>0.877424</td>\n",
              "      <td>0.8767</td>\n",
              "      <td>0.875915</td>\n",
              "      <td>31530</td>\n",
              "      <td>13.526114</td>\n",
              "    </tr>\n",
              "    <tr>\n",
              "      <th>KANC MLP (Big) (gs = 10)</th>\n",
              "      <td>0.8915</td>\n",
              "      <td>0.892151</td>\n",
              "      <td>0.8915</td>\n",
              "      <td>0.891433</td>\n",
              "      <td>33535</td>\n",
              "      <td>99.136612</td>\n",
              "    </tr>\n",
              "    <tr>\n",
              "      <th>KANC MLP (Big) (gs = 20)</th>\n",
              "      <td>0.8911</td>\n",
              "      <td>0.890554</td>\n",
              "      <td>0.8911</td>\n",
              "      <td>0.890560</td>\n",
              "      <td>38485</td>\n",
              "      <td>147.796222</td>\n",
              "    </tr>\n",
              "    <tr>\n",
              "      <th>KANC MLP (Medium) (gs = 10)</th>\n",
              "      <td>0.8899</td>\n",
              "      <td>0.889723</td>\n",
              "      <td>0.8899</td>\n",
              "      <td>0.889618</td>\n",
              "      <td>9935</td>\n",
              "      <td>98.643374</td>\n",
              "    </tr>\n",
              "    <tr>\n",
              "      <th>KANC MLP (Medium) (gs = 20)</th>\n",
              "      <td>0.8890</td>\n",
              "      <td>0.888546</td>\n",
              "      <td>0.8890</td>\n",
              "      <td>0.888265</td>\n",
              "      <td>14885</td>\n",
              "      <td>147.687061</td>\n",
              "    </tr>\n",
              "    <tr>\n",
              "      <th>KANC MLP (Small) (gs = 10)</th>\n",
              "      <td>0.8743</td>\n",
              "      <td>0.874131</td>\n",
              "      <td>0.8743</td>\n",
              "      <td>0.874083</td>\n",
              "      <td>5310</td>\n",
              "      <td>70.226353</td>\n",
              "    </tr>\n",
              "    <tr>\n",
              "      <th>KANC MLP (Small) (gs = 20)</th>\n",
              "      <td>0.8815</td>\n",
              "      <td>0.880209</td>\n",
              "      <td>0.8815</td>\n",
              "      <td>0.879433</td>\n",
              "      <td>8010</td>\n",
              "      <td>97.570139</td>\n",
              "    </tr>\n",
              "    <tr>\n",
              "      <th>KKAN (Medium) (gs = 10)</th>\n",
              "      <td>0.8791</td>\n",
              "      <td>0.883658</td>\n",
              "      <td>0.8791</td>\n",
              "      <td>0.879970</td>\n",
              "      <td>44925</td>\n",
              "      <td>98.551077</td>\n",
              "    </tr>\n",
              "    <tr>\n",
              "      <th>KKAN (Medium) (gs = 20)</th>\n",
              "      <td>0.8856</td>\n",
              "      <td>0.885222</td>\n",
              "      <td>0.8856</td>\n",
              "      <td>0.885183</td>\n",
              "      <td>74875</td>\n",
              "      <td>148.520436</td>\n",
              "    </tr>\n",
              "    <tr>\n",
              "      <th>KKAN (Small) (gs = 10)</th>\n",
              "      <td>0.8801</td>\n",
              "      <td>0.878661</td>\n",
              "      <td>0.8801</td>\n",
              "      <td>0.877642</td>\n",
              "      <td>22800</td>\n",
              "      <td>69.591632</td>\n",
              "    </tr>\n",
              "    <tr>\n",
              "      <th>KKAN (Small) (gs = 20)</th>\n",
              "      <td>0.8794</td>\n",
              "      <td>0.878020</td>\n",
              "      <td>0.8794</td>\n",
              "      <td>0.877172</td>\n",
              "      <td>38000</td>\n",
              "      <td>98.016934</td>\n",
              "    </tr>\n",
              "  </tbody>\n",
              "</table>\n",
              "</div>\n",
              "    <div class=\"colab-df-buttons\">\n",
              "\n",
              "  <div class=\"colab-df-container\">\n",
              "    <button class=\"colab-df-convert\" onclick=\"convertToInteractive('df-fc5432ca-5d38-42f4-ac9c-01119829dbea')\"\n",
              "            title=\"Convert this dataframe to an interactive table.\"\n",
              "            style=\"display:none;\">\n",
              "\n",
              "  <svg xmlns=\"http://www.w3.org/2000/svg\" height=\"24px\" viewBox=\"0 -960 960 960\">\n",
              "    <path d=\"M120-120v-720h720v720H120Zm60-500h600v-160H180v160Zm220 220h160v-160H400v160Zm0 220h160v-160H400v160ZM180-400h160v-160H180v160Zm440 0h160v-160H620v160ZM180-180h160v-160H180v160Zm440 0h160v-160H620v160Z\"/>\n",
              "  </svg>\n",
              "    </button>\n",
              "\n",
              "  <style>\n",
              "    .colab-df-container {\n",
              "      display:flex;\n",
              "      gap: 12px;\n",
              "    }\n",
              "\n",
              "    .colab-df-convert {\n",
              "      background-color: #E8F0FE;\n",
              "      border: none;\n",
              "      border-radius: 50%;\n",
              "      cursor: pointer;\n",
              "      display: none;\n",
              "      fill: #1967D2;\n",
              "      height: 32px;\n",
              "      padding: 0 0 0 0;\n",
              "      width: 32px;\n",
              "    }\n",
              "\n",
              "    .colab-df-convert:hover {\n",
              "      background-color: #E2EBFA;\n",
              "      box-shadow: 0px 1px 2px rgba(60, 64, 67, 0.3), 0px 1px 3px 1px rgba(60, 64, 67, 0.15);\n",
              "      fill: #174EA6;\n",
              "    }\n",
              "\n",
              "    .colab-df-buttons div {\n",
              "      margin-bottom: 4px;\n",
              "    }\n",
              "\n",
              "    [theme=dark] .colab-df-convert {\n",
              "      background-color: #3B4455;\n",
              "      fill: #D2E3FC;\n",
              "    }\n",
              "\n",
              "    [theme=dark] .colab-df-convert:hover {\n",
              "      background-color: #434B5C;\n",
              "      box-shadow: 0px 1px 3px 1px rgba(0, 0, 0, 0.15);\n",
              "      filter: drop-shadow(0px 1px 2px rgba(0, 0, 0, 0.3));\n",
              "      fill: #FFFFFF;\n",
              "    }\n",
              "  </style>\n",
              "\n",
              "    <script>\n",
              "      const buttonEl =\n",
              "        document.querySelector('#df-fc5432ca-5d38-42f4-ac9c-01119829dbea button.colab-df-convert');\n",
              "      buttonEl.style.display =\n",
              "        google.colab.kernel.accessAllowed ? 'block' : 'none';\n",
              "\n",
              "      async function convertToInteractive(key) {\n",
              "        const element = document.querySelector('#df-fc5432ca-5d38-42f4-ac9c-01119829dbea');\n",
              "        const dataTable =\n",
              "          await google.colab.kernel.invokeFunction('convertToInteractive',\n",
              "                                                    [key], {});\n",
              "        if (!dataTable) return;\n",
              "\n",
              "        const docLinkHtml = 'Like what you see? Visit the ' +\n",
              "          '<a target=\"_blank\" href=https://colab.research.google.com/notebooks/data_table.ipynb>data table notebook</a>'\n",
              "          + ' to learn more about interactive tables.';\n",
              "        element.innerHTML = '';\n",
              "        dataTable['output_type'] = 'display_data';\n",
              "        await google.colab.output.renderOutput(dataTable, element);\n",
              "        const docLink = document.createElement('div');\n",
              "        docLink.innerHTML = docLinkHtml;\n",
              "        element.appendChild(docLink);\n",
              "      }\n",
              "    </script>\n",
              "  </div>\n",
              "\n",
              "\n",
              "<div id=\"df-5cdc1a0f-d981-403f-b8c3-49b274658d93\">\n",
              "  <button class=\"colab-df-quickchart\" onclick=\"quickchart('df-5cdc1a0f-d981-403f-b8c3-49b274658d93')\"\n",
              "            title=\"Suggest charts\"\n",
              "            style=\"display:none;\">\n",
              "\n",
              "<svg xmlns=\"http://www.w3.org/2000/svg\" height=\"24px\"viewBox=\"0 0 24 24\"\n",
              "     width=\"24px\">\n",
              "    <g>\n",
              "        <path d=\"M19 3H5c-1.1 0-2 .9-2 2v14c0 1.1.9 2 2 2h14c1.1 0 2-.9 2-2V5c0-1.1-.9-2-2-2zM9 17H7v-7h2v7zm4 0h-2V7h2v10zm4 0h-2v-4h2v4z\"/>\n",
              "    </g>\n",
              "</svg>\n",
              "  </button>\n",
              "\n",
              "<style>\n",
              "  .colab-df-quickchart {\n",
              "      --bg-color: #E8F0FE;\n",
              "      --fill-color: #1967D2;\n",
              "      --hover-bg-color: #E2EBFA;\n",
              "      --hover-fill-color: #174EA6;\n",
              "      --disabled-fill-color: #AAA;\n",
              "      --disabled-bg-color: #DDD;\n",
              "  }\n",
              "\n",
              "  [theme=dark] .colab-df-quickchart {\n",
              "      --bg-color: #3B4455;\n",
              "      --fill-color: #D2E3FC;\n",
              "      --hover-bg-color: #434B5C;\n",
              "      --hover-fill-color: #FFFFFF;\n",
              "      --disabled-bg-color: #3B4455;\n",
              "      --disabled-fill-color: #666;\n",
              "  }\n",
              "\n",
              "  .colab-df-quickchart {\n",
              "    background-color: var(--bg-color);\n",
              "    border: none;\n",
              "    border-radius: 50%;\n",
              "    cursor: pointer;\n",
              "    display: none;\n",
              "    fill: var(--fill-color);\n",
              "    height: 32px;\n",
              "    padding: 0;\n",
              "    width: 32px;\n",
              "  }\n",
              "\n",
              "  .colab-df-quickchart:hover {\n",
              "    background-color: var(--hover-bg-color);\n",
              "    box-shadow: 0 1px 2px rgba(60, 64, 67, 0.3), 0 1px 3px 1px rgba(60, 64, 67, 0.15);\n",
              "    fill: var(--button-hover-fill-color);\n",
              "  }\n",
              "\n",
              "  .colab-df-quickchart-complete:disabled,\n",
              "  .colab-df-quickchart-complete:disabled:hover {\n",
              "    background-color: var(--disabled-bg-color);\n",
              "    fill: var(--disabled-fill-color);\n",
              "    box-shadow: none;\n",
              "  }\n",
              "\n",
              "  .colab-df-spinner {\n",
              "    border: 2px solid var(--fill-color);\n",
              "    border-color: transparent;\n",
              "    border-bottom-color: var(--fill-color);\n",
              "    animation:\n",
              "      spin 1s steps(1) infinite;\n",
              "  }\n",
              "\n",
              "  @keyframes spin {\n",
              "    0% {\n",
              "      border-color: transparent;\n",
              "      border-bottom-color: var(--fill-color);\n",
              "      border-left-color: var(--fill-color);\n",
              "    }\n",
              "    20% {\n",
              "      border-color: transparent;\n",
              "      border-left-color: var(--fill-color);\n",
              "      border-top-color: var(--fill-color);\n",
              "    }\n",
              "    30% {\n",
              "      border-color: transparent;\n",
              "      border-left-color: var(--fill-color);\n",
              "      border-top-color: var(--fill-color);\n",
              "      border-right-color: var(--fill-color);\n",
              "    }\n",
              "    40% {\n",
              "      border-color: transparent;\n",
              "      border-right-color: var(--fill-color);\n",
              "      border-top-color: var(--fill-color);\n",
              "    }\n",
              "    60% {\n",
              "      border-color: transparent;\n",
              "      border-right-color: var(--fill-color);\n",
              "    }\n",
              "    80% {\n",
              "      border-color: transparent;\n",
              "      border-right-color: var(--fill-color);\n",
              "      border-bottom-color: var(--fill-color);\n",
              "    }\n",
              "    90% {\n",
              "      border-color: transparent;\n",
              "      border-bottom-color: var(--fill-color);\n",
              "    }\n",
              "  }\n",
              "</style>\n",
              "\n",
              "  <script>\n",
              "    async function quickchart(key) {\n",
              "      const quickchartButtonEl =\n",
              "        document.querySelector('#' + key + ' button');\n",
              "      quickchartButtonEl.disabled = true;  // To prevent multiple clicks.\n",
              "      quickchartButtonEl.classList.add('colab-df-spinner');\n",
              "      try {\n",
              "        const charts = await google.colab.kernel.invokeFunction(\n",
              "            'suggestCharts', [key], {});\n",
              "      } catch (error) {\n",
              "        console.error('Error during call to suggestCharts:', error);\n",
              "      }\n",
              "      quickchartButtonEl.classList.remove('colab-df-spinner');\n",
              "      quickchartButtonEl.classList.add('colab-df-quickchart-complete');\n",
              "    }\n",
              "    (() => {\n",
              "      let quickchartButtonEl =\n",
              "        document.querySelector('#df-5cdc1a0f-d981-403f-b8c3-49b274658d93 button');\n",
              "      quickchartButtonEl.style.display =\n",
              "        google.colab.kernel.accessAllowed ? 'block' : 'none';\n",
              "    })();\n",
              "  </script>\n",
              "</div>\n",
              "\n",
              "  <div id=\"id_9c88b7dd-e7d8-44d1-9fa2-9941da8c7c7e\">\n",
              "    <style>\n",
              "      .colab-df-generate {\n",
              "        background-color: #E8F0FE;\n",
              "        border: none;\n",
              "        border-radius: 50%;\n",
              "        cursor: pointer;\n",
              "        display: none;\n",
              "        fill: #1967D2;\n",
              "        height: 32px;\n",
              "        padding: 0 0 0 0;\n",
              "        width: 32px;\n",
              "      }\n",
              "\n",
              "      .colab-df-generate:hover {\n",
              "        background-color: #E2EBFA;\n",
              "        box-shadow: 0px 1px 2px rgba(60, 64, 67, 0.3), 0px 1px 3px 1px rgba(60, 64, 67, 0.15);\n",
              "        fill: #174EA6;\n",
              "      }\n",
              "\n",
              "      [theme=dark] .colab-df-generate {\n",
              "        background-color: #3B4455;\n",
              "        fill: #D2E3FC;\n",
              "      }\n",
              "\n",
              "      [theme=dark] .colab-df-generate:hover {\n",
              "        background-color: #434B5C;\n",
              "        box-shadow: 0px 1px 3px 1px rgba(0, 0, 0, 0.15);\n",
              "        filter: drop-shadow(0px 1px 2px rgba(0, 0, 0, 0.3));\n",
              "        fill: #FFFFFF;\n",
              "      }\n",
              "    </style>\n",
              "    <button class=\"colab-df-generate\" onclick=\"generateWithVariable('tabla')\"\n",
              "            title=\"Generate code using this dataframe.\"\n",
              "            style=\"display:none;\">\n",
              "\n",
              "  <svg xmlns=\"http://www.w3.org/2000/svg\" height=\"24px\"viewBox=\"0 0 24 24\"\n",
              "       width=\"24px\">\n",
              "    <path d=\"M7,19H8.4L18.45,9,17,7.55,7,17.6ZM5,21V16.75L18.45,3.32a2,2,0,0,1,2.83,0l1.4,1.43a1.91,1.91,0,0,1,.58,1.4,1.91,1.91,0,0,1-.58,1.4L9.25,21ZM18.45,9,17,7.55Zm-12,3A5.31,5.31,0,0,0,4.9,8.1,5.31,5.31,0,0,0,1,6.5,5.31,5.31,0,0,0,4.9,4.9,5.31,5.31,0,0,0,6.5,1,5.31,5.31,0,0,0,8.1,4.9,5.31,5.31,0,0,0,12,6.5,5.46,5.46,0,0,0,6.5,12Z\"/>\n",
              "  </svg>\n",
              "    </button>\n",
              "    <script>\n",
              "      (() => {\n",
              "      const buttonEl =\n",
              "        document.querySelector('#id_9c88b7dd-e7d8-44d1-9fa2-9941da8c7c7e button.colab-df-generate');\n",
              "      buttonEl.style.display =\n",
              "        google.colab.kernel.accessAllowed ? 'block' : 'none';\n",
              "\n",
              "      buttonEl.onclick = () => {\n",
              "        google.colab.notebook.generateWithVariable('tabla');\n",
              "      }\n",
              "      })();\n",
              "    </script>\n",
              "  </div>\n",
              "\n",
              "    </div>\n",
              "  </div>\n"
            ],
            "application/vnd.google.colaboratory.intrinsic+json": {
              "type": "dataframe",
              "variable_name": "tabla",
              "summary": "{\n  \"name\": \"tabla\",\n  \"rows\": 18,\n  \"fields\": [\n    {\n      \"column\": \"Test Accuracy\",\n      \"properties\": {\n        \"dtype\": \"number\",\n        \"std\": 0.007283002415419518,\n        \"min\": 0.871,\n        \"max\": 0.8956,\n        \"num_unique_values\": 18,\n        \"samples\": [\n          0.8956,\n          0.8944,\n          0.8915\n        ],\n        \"semantic_type\": \"\",\n        \"description\": \"\"\n      }\n    },\n    {\n      \"column\": \"Test Precision\",\n      \"properties\": {\n        \"dtype\": \"number\",\n        \"std\": 0.007418768926670805,\n        \"min\": 0.870822474647641,\n        \"max\": 0.896022626030516,\n        \"num_unique_values\": 18,\n        \"samples\": [\n          0.896022626030516,\n          0.8940011809097168,\n          0.8921513060842694\n        ],\n        \"semantic_type\": \"\",\n        \"description\": \"\"\n      }\n    },\n    {\n      \"column\": \"Test Recall\",\n      \"properties\": {\n        \"dtype\": \"number\",\n        \"std\": 0.00728300241541951,\n        \"min\": 0.8709999999999999,\n        \"max\": 0.8956,\n        \"num_unique_values\": 18,\n        \"samples\": [\n          0.8956,\n          0.8943999999999999,\n          0.8915\n        ],\n        \"semantic_type\": \"\",\n        \"description\": \"\"\n      }\n    },\n    {\n      \"column\": \"Test F1 Score\",\n      \"properties\": {\n        \"dtype\": \"number\",\n        \"std\": 0.007548779809802726,\n        \"min\": 0.8700907294881572,\n        \"max\": 0.8955245590813302,\n        \"num_unique_values\": 18,\n        \"samples\": [\n          0.8955245590813302,\n          0.8938947450235777,\n          0.8914331554689465\n        ],\n        \"semantic_type\": \"\",\n        \"description\": \"\"\n      }\n    },\n    {\n      \"column\": \"Number of Parameters\",\n      \"properties\": {\n        \"dtype\": \"number\",\n        \"std\": 20753,\n        \"min\": 1540,\n        \"max\": 74875,\n        \"num_unique_values\": 18,\n        \"samples\": [\n          6930,\n          26620,\n          33535\n        ],\n        \"semantic_type\": \"\",\n        \"description\": \"\"\n      }\n    },\n    {\n      \"column\": \"Seconds/epoch\",\n      \"properties\": {\n        \"dtype\": \"number\",\n        \"std\": 52.93703808463123,\n        \"min\": 12.617076822999934,\n        \"max\": 148.52043588800007,\n        \"num_unique_values\": 18,\n        \"samples\": [\n          12.61968221699999,\n          12.681805123000004,\n          99.13661243800004\n        ],\n        \"semantic_type\": \"\",\n        \"description\": \"\"\n      }\n    }\n  ]\n}"
            }
          },
          "metadata": {},
          "execution_count": 13
        }
      ]
    },
    {
      "cell_type": "code",
      "source": [],
      "metadata": {
        "id": "aZrRNtXm06ze"
      },
      "execution_count": 13,
      "outputs": []
    },
    {
      "cell_type": "code",
      "source": [
        "latex_table = tabla.to_latex()\n",
        "\n",
        "from IPython.display import display, Latex\n",
        "\n",
        "display(Latex(f\"```latex\\n{latex_table}\\n```\"))"
      ],
      "metadata": {
        "colab": {
          "base_uri": "https://localhost:8080/",
          "height": 485
        },
        "id": "6WnWcMOpeC2O",
        "outputId": "202d4026-6429-4e87-a3ab-806d6b674efa"
      },
      "execution_count": 27,
      "outputs": [
        {
          "output_type": "display_data",
          "data": {
            "text/plain": [
              "<IPython.core.display.Latex object>"
            ],
            "text/latex": "```latex\n\\begin{tabular}{lrrrrrr}\n\\toprule\n & Test Accuracy & Test Precision & Test Recall & Test F1 Score & Number of Parameters & Seconds/epoch \\\\\n\\midrule\nConv & KAN (Medium) (gs = 10) & 0.879200 & 0.878418 & 0.879200 & 0.878035 & 38010 & 13.838395 \\\\\nCNN  (Medium, but with more convs) & 0.895600 & 0.896023 & 0.895600 & 0.895525 & 6930 & 12.619682 \\\\\nConv & KAN (Medium) (gs = 20) & 0.879000 & 0.880789 & 0.879000 & 0.879483 & 63010 & 13.595402 \\\\\nKKAN (Medium) (gs = 10) & 0.879100 & 0.883658 & 0.879100 & 0.879970 & 44925 & 98.551077 \\\\\nKANC MLP (Small) (gs = 20) & 0.881500 & 0.880209 & 0.881500 & 0.879433 & 8010 & 97.570139 \\\\\nKANC MLP (Big) (gs = 10) & 0.891500 & 0.892151 & 0.891500 & 0.891433 & 33535 & 99.136612 \\\\\nConv & KAN (Small) (gs = 10) & 0.875500 & 0.873701 & 0.875500 & 0.874222 & 19030 & 13.819559 \\\\\nKANC MLP (Medium) (gs = 10) & 0.889900 & 0.889723 & 0.889900 & 0.889618 & 9935 & 98.643374 \\\\\nCNN (Small) & 0.871000 & 0.870822 & 0.871000 & 0.870091 & 1540 & 13.969206 \\\\\nKANC MLP (Small) (gs = 10) & 0.874300 & 0.874131 & 0.874300 & 0.874083 & 5310 & 70.226353 \\\\\nKKAN (Small) (gs = 10) & 0.880100 & 0.878661 & 0.880100 & 0.877642 & 22800 & 69.591632 \\\\\nKANC MLP (Medium) (gs = 20) & 0.889000 & 0.888546 & 0.889000 & 0.888265 & 14885 & 147.687061 \\\\\nConv & KAN (Small) (gs = 20) & 0.876700 & 0.877424 & 0.876700 & 0.875915 & 31530 & 13.526114 \\\\\nCNN (Medium) & 0.883400 & 0.881956 & 0.883400 & 0.882159 & 3020 & 12.617077 \\\\\nCNN (Big) & 0.894400 & 0.894001 & 0.894400 & 0.893895 & 26620 & 12.681805 \\\\\nKKAN (Small) (gs = 20) & 0.879400 & 0.878020 & 0.879400 & 0.877172 & 38000 & 98.016934 \\\\\nKANC MLP (Big) (gs = 20) & 0.891100 & 0.890554 & 0.891100 & 0.890560 & 38485 & 147.796222 \\\\\nKKAN (Medium) (gs = 20) & 0.885600 & 0.885222 & 0.885600 & 0.885183 & 74875 & 148.520436 \\\\\n\\bottomrule\n\\end{tabular}\n\n```"
          },
          "metadata": {}
        }
      ]
    },
    {
      "cell_type": "code",
      "source": [
        "\n",
        "def final_plots_espanol(models, test_loader, criterion, device, use_time=False):\n",
        "    accs = []\n",
        "    precisions = []\n",
        "    recalls = []\n",
        "    f1s = []\n",
        "    params_counts = []\n",
        "    times = []\n",
        "    tflops_per_sec = []\n",
        "    contar = 0\n",
        "\n",
        "    # Define color map and dictionary to store colors for models with \"10\" and \"20\" variants\n",
        "    color_map = plt.get_cmap('tab20')(np.linspace(0, 1, len(models)))\n",
        "    color_dict = {}\n",
        "    fig, ax = plt.subplots(figsize=(12, 8))  # Increase figure size\n",
        "\n",
        "    if use_time:\n",
        "        with open(os.path.join(path_res, \"epoch_times.json\"), 'r') as file:\n",
        "            times_dict = json.load(file)\n",
        "\n",
        "    models_used = []\n",
        "    models.sort(key=lambda x: x.name, reverse=False)\n",
        "    for i, model in enumerate(models):\n",
        "\n",
        "        # Test model and collect metrics\n",
        "        test_loss, accuracy, precision, recall, f1 = test(model, device, test_loader, criterion)\n",
        "        accs.append(accuracy)\n",
        "        precisions.append(precision)\n",
        "        recalls.append(recall)\n",
        "        f1s.append(f1)\n",
        "        params_counts.append(count_parameters(model))\n",
        "\n",
        "        if use_time:\n",
        "            times.append(times_dict.get(model.name, np.nan))\n",
        "        else:\n",
        "            times.append(np.nan)\n",
        "\n",
        "        # Check for \"10\" or \"20\" in model names\n",
        "        base_name = model.name.replace(\"10\", \"\").replace(\"20\", \"\")\n",
        "        if base_name not in color_dict:\n",
        "            color_dict[base_name] = color_map[i]  # Assign new color to this base model name\n",
        "\n",
        "        # Select marker based on model name\n",
        "        marker = 'x' if '10' in model.name else 'o' if '20' in model.name else 's'\n",
        "        ax.scatter(count_parameters(model), accuracy*100, label=model.name, color=color_dict[base_name], marker=marker,s=65)\n",
        "\n",
        "        models_used.append(model)\n",
        "        contar += 1\n",
        "\n",
        "    # Plot setup\n",
        "    #ax.set_title(\"Cantidad de parametros vs Accuracy\", fontsize=16)\n",
        "    ax.set_xlabel(\"Cantidad de parametros\", fontsize=12)\n",
        "    ax.set_ylabel(\"Accuracy (%)\", fontsize=12)\n",
        "    #legend = ax.legend(loc=\"center left\", bbox_to_anchor=(1, 0.5), fontsize=8)  # Set smaller font size\n",
        "    legend = ax.legend(loc=\"upper center\", bbox_to_anchor=(0.5, 1.15), fontsize=9, ncol=3)  # Set smaller font size and 3 columns\n",
        "\n",
        "    plt.grid(True)\n",
        "    plt.tight_layout()\n",
        "    plt.show()\n",
        "\n",
        "    # Create DataFrame and export results\n",
        "    df = pd.DataFrame({\n",
        "        \"Test Accuracy\": accs,\n",
        "        \"Test Precision\": precisions,\n",
        "        \"Test Recall\": recalls,\n",
        "        \"Test F1 Score\": f1s,\n",
        "        \"Number of Parameters\": params_counts,\n",
        "        \"Seconds/epoch\": times,\n",
        "    }, index=[m.name for m in models_used])\n",
        "\n",
        "    df.to_csv('experiment_28x28.csv', index=False)\n",
        "\n",
        "    # Apply styling\n",
        "    return df"
      ],
      "metadata": {
        "id": "R9M6jX7jeGKu"
      },
      "execution_count": 30,
      "outputs": []
    },
    {
      "cell_type": "code",
      "source": [
        "tabla = final_plots_espanol(models,test_loader,criterion,device,use_time = True)"
      ],
      "metadata": {
        "colab": {
          "base_uri": "https://localhost:8080/",
          "height": 810
        },
        "id": "BfD6spN6Zlss",
        "outputId": "65b7e338-79da-46b2-818a-da49cd1c5b2b"
      },
      "execution_count": 31,
      "outputs": [
        {
          "output_type": "display_data",
          "data": {
            "text/plain": [
              "<Figure size 1200x800 with 1 Axes>"
            ],
            "image/png": "[encoded data removed]"
          },
          "metadata": {}
        }
      ]
    },
    {
      "cell_type": "code",
      "source": [
        ""
      ],
      "metadata": {
        "id": "_ww7RJFhZsy1"
      },
      "execution_count": null,
      "outputs": []
    }
  ],
  "metadata": {
    "accelerator": "GPU",
    "colab": {
      "gpuType": "T4",
      "provenance": []
    },
    "kernelspec": {
      "display_name": "Python 3",
      "name": "python3"
    },
    "language_info": {
      "name": "python"
    }
  },
  "nbformat": 4,
  "nbformat_minor": 0
}
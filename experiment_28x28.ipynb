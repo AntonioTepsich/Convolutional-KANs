{
 "cells": [
  {
   "cell_type": "markdown",
   "metadata": {},
   "source": [
    "## Package"
   ]
  },
  {
   "cell_type": "code",
   "execution_count": 7,
   "metadata": {},
   "outputs": [
    {
     "name": "stdout",
     "output_type": "stream",
     "text": [
      "The autoreload extension is already loaded. To reload it, use:\n",
      "  %reload_ext autoreload\n"
     ]
    }
   ],
   "source": [
    "%load_ext autoreload\n",
    "%autoreload 2\n",
    "import matplotlib.pyplot as plt\n",
    "from tqdm import tqdm\n",
    "import numpy as np\n",
    "import pandas as pd\n",
    "from sklearn.metrics import precision_score, recall_score, f1_score\n",
    "\n",
    "import torch\n",
    "import torch.nn as nn\n",
    "import torch.optim as optim\n",
    "import torchvision.transforms as transforms\n",
    "from torchvision.datasets import MNIST\n",
    "from torch.utils.data import DataLoader\n",
    "\n",
    "from architectures_28x28.CKAN_BN import CKAN_BN\n",
    "from architectures_28x28.SimpleModels import *\n",
    "from architectures_28x28.ConvNet import ConvNet\n",
    "from architectures_28x28.KANConvs_MLP import KANC_MLP\n",
    "from architectures_28x28.KKAN import KKAN_Convolutional_Network\n",
    "from architectures_28x28.conv_and_kan import NormalConvsKAN\n"
   ]
  },
  {
   "cell_type": "markdown",
   "metadata": {},
   "source": [
    "## Dataset"
   ]
  },
  {
   "cell_type": "code",
   "execution_count": 8,
   "metadata": {},
   "outputs": [],
   "source": [
    "# Transformaciones\n",
    "transform = transforms.Compose([transforms.ToTensor(), transforms.Normalize((0.5,), (0.5,))])\n",
    "\n",
    "# Cargar MNIST y filtrar por dos clases\n",
    "mnist_train = MNIST(root='./data', train=True, download=True, transform=transform)\n",
    "\n",
    "mnist_test = MNIST(root='./data', train=False, download=True, transform=transform)\n",
    "\n",
    "# DataLoader\n",
    "train_loader = DataLoader(mnist_train, batch_size=64, shuffle=True)\n",
    "test_loader = DataLoader(mnist_test, batch_size=64, shuffle=False)"
   ]
  },
  {
   "cell_type": "markdown",
   "metadata": {},
   "source": [
    "## Train & Test"
   ]
  },
  {
   "cell_type": "code",
   "execution_count": 9,
   "metadata": {},
   "outputs": [],
   "source": [
    "def train(model, device, train_loader, optimizer, epoch, criterion):\n",
    "    \"\"\"\n",
    "    Train the model for one epoch\n",
    "\n",
    "    Args:\n",
    "        model: the neural network model\n",
    "        device: cuda or cpu\n",
    "        train_loader: DataLoader for training data\n",
    "        optimizer: the optimizer to use (e.g. SGD)\n",
    "        epoch: the current epoch\n",
    "        criterion: the loss function (e.g. CrossEntropy)\n",
    "\n",
    "    Returns:\n",
    "        avg_loss: the average loss over the training set\n",
    "    \"\"\"\n",
    "\n",
    "    model.to(device)\n",
    "    model.train()\n",
    "    train_loss = 0\n",
    "    # Process the images in batches\n",
    "    for batch_idx, (data, target) in enumerate(tqdm(train_loader)):\n",
    "        # Recall that GPU is optimized for the operations we are dealing with\n",
    "        data, target = data.to(device), target.to(device)\n",
    "        \n",
    "        # Reset the optimizer\n",
    "        optimizer.zero_grad()\n",
    "        \n",
    "        # Push the data forward through the model layers\n",
    "        output = model(data)\n",
    "        \n",
    "        # Get the loss\n",
    "        loss = criterion(output, target)\n",
    "\n",
    "        # Keep a running total\n",
    "        train_loss += loss.item()\n",
    "        \n",
    "        # Backpropagate\n",
    "        loss.backward()\n",
    "        optimizer.step()\n",
    "        \n",
    "    # return average loss for the epoch\n",
    "    avg_loss = train_loss / (batch_idx+1)\n",
    "    # print('Training set: Average loss: {:.6f}'.format(avg_loss))\n",
    "    return avg_loss\n",
    "\n",
    "def test(model, device, test_loader, criterion):\n",
    "    \"\"\"\n",
    "    Test the model\n",
    "\n",
    "    Args:\n",
    "        model: the neural network model\n",
    "        device: cuda or cpu\n",
    "        test_loader: DataLoader for test data\n",
    "        criterion: the loss function (e.g. CrossEntropy)\n",
    "\n",
    "    Returns:\n",
    "        test_loss: the average loss over the test set\n",
    "        accuracy: the accuracy of the model on the test set\n",
    "        precision: the precision of the model on the test set\n",
    "        recall: the recall of the model on the test set\n",
    "        f1: the f1 score of the model on the test set\n",
    "    \"\"\"\n",
    "\n",
    "    model.eval()\n",
    "    test_loss = 0\n",
    "    correct = 0\n",
    "    all_targets = []\n",
    "    all_predictions = []\n",
    "    \n",
    "    with torch.no_grad():\n",
    "        for data, target in test_loader:\n",
    "            data, target = data.to(device), target.to(device)\n",
    "            \n",
    "            # Get the predicted classes for this batch\n",
    "            output = model(data)\n",
    "            \n",
    "            # Calculate the loss for this batch\n",
    "            test_loss += criterion(output, target).item()\n",
    "            \n",
    "            # Calculate the accuracy for this batch\n",
    "            _, predicted = torch.max(output.data, 1)\n",
    "            correct += (target == predicted).sum().item()\n",
    "\n",
    "            # Collect all targets and predictions for metric calculations\n",
    "            all_targets.extend(target.view_as(predicted).cpu().numpy())\n",
    "            all_predictions.extend(predicted.cpu().numpy())\n",
    "\n",
    "    # Calculate overall metrics\n",
    "    precision = precision_score(all_targets, all_predictions, average='macro')\n",
    "    recall = recall_score(all_targets, all_predictions, average='macro')\n",
    "    f1 = f1_score(all_targets, all_predictions, average='macro')\n",
    "\n",
    "    # Normalize test loss\n",
    "    test_loss /= len(test_loader.dataset)\n",
    "    accuracy = correct / len(test_loader.dataset)\n",
    "\n",
    "    # print('\\nTest set: Average loss: {:.4f}, Accuracy: {}/{} ({:.0f}%), Precision: {:.2f}, Recall: {:.2f}, F1 Score: {:.2f}\\n'.format(\n",
    "    #     test_loss, correct, len(test_loader.dataset), accuracy, precision, recall, f1))\n",
    "\n",
    "    return test_loss, accuracy, precision, recall, f1"
   ]
  },
  {
   "cell_type": "code",
   "execution_count": 10,
   "metadata": {},
   "outputs": [],
   "source": [
    "def train_and_test_models(model, device, train_loader, test_loader, optimizer, criterion, epochs, scheduler):\n",
    "    \"\"\"\n",
    "    Train and test the model\n",
    "\n",
    "    Args:\n",
    "        model: the neural network model\n",
    "        device: cuda or cpu\n",
    "        train_loader: DataLoader for training data\n",
    "        test_loader: DataLoader for test data\n",
    "        optimizer: the optimizer to use (e.g. SGD)\n",
    "        criterion: the loss function (e.g. CrossEntropy)\n",
    "        epochs: the number of epochs to train\n",
    "        scheduler: the learning rate scheduler\n",
    "\n",
    "    Returns:\n",
    "        all_train_loss: a list of the average training loss for each epoch\n",
    "        all_test_loss: a list of the average test loss for each epoch\n",
    "        all_test_accuracy: a list of the accuracy for each epoch\n",
    "        all_test_precision: a list of the precision for each epoch\n",
    "        all_test_recall: a list of the recall for each epoch\n",
    "        all_test_f1: a list of the f1 score for each epoch\n",
    "    \"\"\"\n",
    "    # Track metrics\n",
    "    all_train_loss = []\n",
    "    all_test_loss = []\n",
    "    all_test_accuracy = []\n",
    "    all_test_precision = []\n",
    "    all_test_recall = []\n",
    "    all_test_f1 = []\n",
    "    \n",
    "    for epoch in range(1, epochs + 1):\n",
    "        # Train the model\n",
    "        train_loss = train(model, device, train_loader, optimizer, epoch, criterion)\n",
    "        all_train_loss.append(train_loss)\n",
    "        \n",
    "        # Test the model\n",
    "        test_loss, test_accuracy, test_precision, test_recall, test_f1 = test(model, device, test_loader, criterion)\n",
    "        all_test_loss.append(test_loss)\n",
    "        all_test_accuracy.append(test_accuracy)\n",
    "        all_test_precision.append(test_precision)\n",
    "        all_test_recall.append(test_recall)\n",
    "        all_test_f1.append(test_f1)\n",
    "\n",
    "        print(f'End of Epoch {epoch}: Train Loss: {train_loss:.6f}, Test Loss: {test_loss:.4f}, Accuracy: {test_accuracy:.2%}')\n",
    "        scheduler.step()\n",
    "    \n",
    "    return all_train_loss, all_test_loss, all_test_accuracy, all_test_precision, all_test_recall, all_test_f1"
   ]
  },
  {
   "cell_type": "markdown",
   "metadata": {},
   "source": [
    "## Set Device"
   ]
  },
  {
   "cell_type": "code",
   "execution_count": 11,
   "metadata": {},
   "outputs": [],
   "source": [
    "device = torch.device(\"cuda\" if torch.cuda.is_available() else \"cpu\")"
   ]
  },
  {
   "cell_type": "markdown",
   "metadata": {},
   "source": [
    "## Common Models:\n",
    "- SimpleCNN\n",
    "- SimpleLinear\n",
    "- ConvNet"
   ]
  },
  {
   "cell_type": "code",
   "execution_count": 12,
   "metadata": {},
   "outputs": [
    {
     "name": "stderr",
     "output_type": "stream",
     "text": [
      "100%|██████████| 938/938 [00:18<00:00, 51.11it/s]\n"
     ]
    },
    {
     "name": "stdout",
     "output_type": "stream",
     "text": [
      "End of Epoch 1: Train Loss: 0.446476, Test Loss: 0.0031, Accuracy: 9423.00%\n"
     ]
    },
    {
     "name": "stderr",
     "output_type": "stream",
     "text": [
      "100%|██████████| 938/938 [00:19<00:00, 48.69it/s]\n"
     ]
    },
    {
     "name": "stdout",
     "output_type": "stream",
     "text": [
      "End of Epoch 2: Train Loss: 0.154526, Test Loss: 0.0019, Accuracy: 9631.00%\n"
     ]
    },
    {
     "name": "stderr",
     "output_type": "stream",
     "text": [
      "100%|██████████| 938/938 [00:19<00:00, 48.23it/s]\n"
     ]
    },
    {
     "name": "stdout",
     "output_type": "stream",
     "text": [
      "End of Epoch 3: Train Loss: 0.114250, Test Loss: 0.0015, Accuracy: 9696.00%\n"
     ]
    },
    {
     "name": "stderr",
     "output_type": "stream",
     "text": [
      "100%|██████████| 938/938 [00:18<00:00, 50.22it/s]\n"
     ]
    },
    {
     "name": "stdout",
     "output_type": "stream",
     "text": [
      "End of Epoch 4: Train Loss: 0.098006, Test Loss: 0.0014, Accuracy: 9719.00%\n"
     ]
    },
    {
     "name": "stderr",
     "output_type": "stream",
     "text": [
      "100%|██████████| 938/938 [00:18<00:00, 49.72it/s]\n"
     ]
    },
    {
     "name": "stdout",
     "output_type": "stream",
     "text": [
      "End of Epoch 5: Train Loss: 0.088118, Test Loss: 0.0013, Accuracy: 9744.00%\n"
     ]
    },
    {
     "name": "stderr",
     "output_type": "stream",
     "text": [
      "100%|██████████| 938/938 [00:20<00:00, 45.85it/s]\n"
     ]
    },
    {
     "name": "stdout",
     "output_type": "stream",
     "text": [
      "End of Epoch 6: Train Loss: 0.082233, Test Loss: 0.0012, Accuracy: 9751.00%\n"
     ]
    },
    {
     "name": "stderr",
     "output_type": "stream",
     "text": [
      "100%|██████████| 938/938 [00:19<00:00, 47.86it/s]\n"
     ]
    },
    {
     "name": "stdout",
     "output_type": "stream",
     "text": [
      "End of Epoch 7: Train Loss: 0.078269, Test Loss: 0.0012, Accuracy: 9757.00%\n"
     ]
    },
    {
     "name": "stderr",
     "output_type": "stream",
     "text": [
      "100%|██████████| 938/938 [00:18<00:00, 51.50it/s]\n"
     ]
    },
    {
     "name": "stdout",
     "output_type": "stream",
     "text": [
      "End of Epoch 8: Train Loss: 0.074855, Test Loss: 0.0011, Accuracy: 9763.00%\n"
     ]
    },
    {
     "name": "stderr",
     "output_type": "stream",
     "text": [
      "100%|██████████| 938/938 [00:18<00:00, 50.55it/s]\n"
     ]
    },
    {
     "name": "stdout",
     "output_type": "stream",
     "text": [
      "End of Epoch 9: Train Loss: 0.072446, Test Loss: 0.0011, Accuracy: 9771.00%\n"
     ]
    },
    {
     "name": "stderr",
     "output_type": "stream",
     "text": [
      "100%|██████████| 938/938 [00:18<00:00, 51.10it/s]\n"
     ]
    },
    {
     "name": "stdout",
     "output_type": "stream",
     "text": [
      "End of Epoch 10: Train Loss: 0.070520, Test Loss: 0.0011, Accuracy: 9773.00%\n"
     ]
    }
   ],
   "source": [
    "model_SimpleCNN = SimpleCNN()\n",
    "model_SimpleCNN.to(device)\n",
    "optimizer_SimpleCNN = optim.AdamW(model_SimpleCNN.parameters(), lr=1e-3, weight_decay=1e-4)\n",
    "scheduler_SimpleCNN = optim.lr_scheduler.ExponentialLR(optimizer_SimpleCNN, gamma=0.8)\n",
    "criterion_SimpleCNN = nn.CrossEntropyLoss()\n",
    "all_train_loss_SimpleCNN, all_test_loss_SimpleCNN, all_test_accuracy_SimpleCNN, all_test_precision_SimpleCNN, all_test_recall_SimpleCNN, all_test_f1_SimpleCNN = train_and_test_models(model_SimpleCNN, device, train_loader, test_loader, optimizer_SimpleCNN, criterion_SimpleCNN, epochs=10, scheduler=scheduler_SimpleCNN)"
   ]
  },
  {
   "cell_type": "code",
   "execution_count": 13,
   "metadata": {},
   "outputs": [
    {
     "name": "stderr",
     "output_type": "stream",
     "text": [
      "100%|██████████| 938/938 [00:16<00:00, 56.84it/s]\n"
     ]
    },
    {
     "name": "stdout",
     "output_type": "stream",
     "text": [
      "End of Epoch 1: Train Loss: 0.469323, Test Loss: 0.0053, Accuracy: 9016.00%\n"
     ]
    },
    {
     "name": "stderr",
     "output_type": "stream",
     "text": [
      "100%|██████████| 938/938 [00:15<00:00, 58.96it/s]\n"
     ]
    },
    {
     "name": "stdout",
     "output_type": "stream",
     "text": [
      "End of Epoch 2: Train Loss: 0.323453, Test Loss: 0.0048, Accuracy: 9122.00%\n"
     ]
    },
    {
     "name": "stderr",
     "output_type": "stream",
     "text": [
      "100%|██████████| 938/938 [00:16<00:00, 55.43it/s]\n"
     ]
    },
    {
     "name": "stdout",
     "output_type": "stream",
     "text": [
      "End of Epoch 3: Train Loss: 0.304603, Test Loss: 0.0047, Accuracy: 9134.00%\n"
     ]
    },
    {
     "name": "stderr",
     "output_type": "stream",
     "text": [
      "100%|██████████| 938/938 [00:16<00:00, 55.99it/s]\n"
     ]
    },
    {
     "name": "stdout",
     "output_type": "stream",
     "text": [
      "End of Epoch 4: Train Loss: 0.295433, Test Loss: 0.0044, Accuracy: 9216.00%\n"
     ]
    },
    {
     "name": "stderr",
     "output_type": "stream",
     "text": [
      "100%|██████████| 938/938 [00:16<00:00, 56.84it/s]\n"
     ]
    },
    {
     "name": "stdout",
     "output_type": "stream",
     "text": [
      "End of Epoch 5: Train Loss: 0.288024, Test Loss: 0.0045, Accuracy: 9195.00%\n"
     ]
    },
    {
     "name": "stderr",
     "output_type": "stream",
     "text": [
      "100%|██████████| 938/938 [00:16<00:00, 56.34it/s]\n"
     ]
    },
    {
     "name": "stdout",
     "output_type": "stream",
     "text": [
      "End of Epoch 6: Train Loss: 0.283512, Test Loss: 0.0044, Accuracy: 9201.00%\n"
     ]
    },
    {
     "name": "stderr",
     "output_type": "stream",
     "text": [
      "100%|██████████| 938/938 [00:17<00:00, 53.21it/s]\n"
     ]
    },
    {
     "name": "stdout",
     "output_type": "stream",
     "text": [
      "End of Epoch 7: Train Loss: 0.278999, Test Loss: 0.0044, Accuracy: 9196.00%\n"
     ]
    },
    {
     "name": "stderr",
     "output_type": "stream",
     "text": [
      "100%|██████████| 938/938 [00:17<00:00, 55.03it/s]\n"
     ]
    },
    {
     "name": "stdout",
     "output_type": "stream",
     "text": [
      "End of Epoch 8: Train Loss: 0.276076, Test Loss: 0.0043, Accuracy: 9223.00%\n"
     ]
    },
    {
     "name": "stderr",
     "output_type": "stream",
     "text": [
      "100%|██████████| 938/938 [00:17<00:00, 54.35it/s]\n"
     ]
    },
    {
     "name": "stdout",
     "output_type": "stream",
     "text": [
      "End of Epoch 9: Train Loss: 0.274303, Test Loss: 0.0044, Accuracy: 9198.00%\n"
     ]
    },
    {
     "name": "stderr",
     "output_type": "stream",
     "text": [
      "100%|██████████| 938/938 [00:17<00:00, 54.93it/s]\n"
     ]
    },
    {
     "name": "stdout",
     "output_type": "stream",
     "text": [
      "End of Epoch 10: Train Loss: 0.272233, Test Loss: 0.0043, Accuracy: 9204.00%\n"
     ]
    }
   ],
   "source": [
    "model_SimpleLinear = SimpleLinear()\n",
    "model_SimpleLinear.to(device)\n",
    "optimizer_SimpleLinear = optim.AdamW(model_SimpleLinear.parameters(), lr=1e-3, weight_decay=1e-4)\n",
    "scheduler_SimpleLinear = optim.lr_scheduler.ExponentialLR(optimizer_SimpleLinear, gamma=0.8)\n",
    "criterion_SimpleLinear = nn.CrossEntropyLoss()\n",
    "all_train_loss_SimpleLinear, all_test_loss_SimpleLinear, all_test_accuracy_SimpleLinear, all_test_precision_SimpleLinear, all_test_recall_SimpleLinear, all_test_f1_SimpleLinear = train_and_test_models(model_SimpleLinear, device, train_loader, test_loader, optimizer_SimpleLinear, criterion_SimpleLinear, epochs=10, scheduler=scheduler_SimpleLinear)\n"
   ]
  },
  {
   "cell_type": "code",
   "execution_count": 14,
   "metadata": {},
   "outputs": [
    {
     "name": "stderr",
     "output_type": "stream",
     "text": [
      "100%|██████████| 938/938 [00:19<00:00, 47.41it/s]\n"
     ]
    },
    {
     "name": "stdout",
     "output_type": "stream",
     "text": [
      "End of Epoch 1: Train Loss: 0.193771, Test Loss: 0.0007, Accuracy: 9867.00%\n"
     ]
    },
    {
     "name": "stderr",
     "output_type": "stream",
     "text": [
      "100%|██████████| 938/938 [00:18<00:00, 50.58it/s]\n"
     ]
    },
    {
     "name": "stdout",
     "output_type": "stream",
     "text": [
      "End of Epoch 2: Train Loss: 0.065570, Test Loss: 0.0005, Accuracy: 9882.00%\n"
     ]
    },
    {
     "name": "stderr",
     "output_type": "stream",
     "text": [
      "100%|██████████| 938/938 [00:20<00:00, 46.09it/s]\n"
     ]
    },
    {
     "name": "stdout",
     "output_type": "stream",
     "text": [
      "End of Epoch 3: Train Loss: 0.046082, Test Loss: 0.0004, Accuracy: 9916.00%\n"
     ]
    },
    {
     "name": "stderr",
     "output_type": "stream",
     "text": [
      "100%|██████████| 938/938 [00:19<00:00, 48.48it/s]\n"
     ]
    },
    {
     "name": "stdout",
     "output_type": "stream",
     "text": [
      "End of Epoch 4: Train Loss: 0.036865, Test Loss: 0.0003, Accuracy: 9946.00%\n"
     ]
    },
    {
     "name": "stderr",
     "output_type": "stream",
     "text": [
      "100%|██████████| 938/938 [00:19<00:00, 48.62it/s]\n"
     ]
    },
    {
     "name": "stdout",
     "output_type": "stream",
     "text": [
      "End of Epoch 5: Train Loss: 0.030380, Test Loss: 0.0003, Accuracy: 9942.00%\n"
     ]
    },
    {
     "name": "stderr",
     "output_type": "stream",
     "text": [
      "100%|██████████| 938/938 [00:20<00:00, 45.48it/s]\n"
     ]
    },
    {
     "name": "stdout",
     "output_type": "stream",
     "text": [
      "End of Epoch 6: Train Loss: 0.024910, Test Loss: 0.0003, Accuracy: 9943.00%\n"
     ]
    },
    {
     "name": "stderr",
     "output_type": "stream",
     "text": [
      "100%|██████████| 938/938 [00:21<00:00, 44.56it/s]\n"
     ]
    },
    {
     "name": "stdout",
     "output_type": "stream",
     "text": [
      "End of Epoch 7: Train Loss: 0.020596, Test Loss: 0.0003, Accuracy: 9951.00%\n"
     ]
    },
    {
     "name": "stderr",
     "output_type": "stream",
     "text": [
      "100%|██████████| 938/938 [00:20<00:00, 46.15it/s]\n"
     ]
    },
    {
     "name": "stdout",
     "output_type": "stream",
     "text": [
      "End of Epoch 8: Train Loss: 0.017014, Test Loss: 0.0003, Accuracy: 9948.00%\n"
     ]
    },
    {
     "name": "stderr",
     "output_type": "stream",
     "text": [
      "100%|██████████| 938/938 [00:18<00:00, 51.14it/s]\n"
     ]
    },
    {
     "name": "stdout",
     "output_type": "stream",
     "text": [
      "End of Epoch 9: Train Loss: 0.014493, Test Loss: 0.0003, Accuracy: 9949.00%\n"
     ]
    },
    {
     "name": "stderr",
     "output_type": "stream",
     "text": [
      "100%|██████████| 938/938 [00:19<00:00, 47.24it/s]\n"
     ]
    },
    {
     "name": "stdout",
     "output_type": "stream",
     "text": [
      "End of Epoch 10: Train Loss: 0.011788, Test Loss: 0.0003, Accuracy: 9946.00%\n"
     ]
    }
   ],
   "source": [
    "model_ConvNet = ConvNet()\n",
    "model_ConvNet.to(device)\n",
    "optimizer_ConvNet = optim.AdamW(model_ConvNet.parameters(), lr=1e-3, weight_decay=1e-4)\n",
    "scheduler_ConvNet = optim.lr_scheduler.ExponentialLR(optimizer_ConvNet, gamma=0.8)\n",
    "criterion_ConvNet = nn.CrossEntropyLoss()\n",
    "all_train_loss_ConvNet, all_test_loss_ConvNet, all_test_accuracy_ConvNet, all_test_precision_ConvNet, all_test_recall_ConvNet, all_test_f1_ConvNet = train_and_test_models(model_ConvNet, device, train_loader, test_loader, optimizer_ConvNet, criterion_ConvNet, epochs=10, scheduler=scheduler_ConvNet)\n"
   ]
  },
  {
   "cell_type": "markdown",
   "metadata": {},
   "source": [
    "## Convolutional KAN"
   ]
  },
  {
   "cell_type": "code",
   "execution_count": 15,
   "metadata": {},
   "outputs": [
    {
     "name": "stderr",
     "output_type": "stream",
     "text": [
      "100%|██████████| 938/938 [02:59<00:00,  5.23it/s]\n"
     ]
    },
    {
     "name": "stdout",
     "output_type": "stream",
     "text": [
      "End of Epoch 1: Train Loss: 0.305586, Test Loss: 0.0013, Accuracy: 9764.00%\n"
     ]
    },
    {
     "name": "stderr",
     "output_type": "stream",
     "text": [
      "100%|██████████| 938/938 [02:57<00:00,  5.28it/s]\n"
     ]
    },
    {
     "name": "stdout",
     "output_type": "stream",
     "text": [
      "End of Epoch 2: Train Loss: 0.071651, Test Loss: 0.0010, Accuracy: 9821.00%\n"
     ]
    },
    {
     "name": "stderr",
     "output_type": "stream",
     "text": [
      "100%|██████████| 938/938 [02:44<00:00,  5.69it/s]\n"
     ]
    },
    {
     "name": "stdout",
     "output_type": "stream",
     "text": [
      "End of Epoch 3: Train Loss: 0.048442, Test Loss: 0.0008, Accuracy: 9844.00%\n"
     ]
    },
    {
     "name": "stderr",
     "output_type": "stream",
     "text": [
      "100%|██████████| 938/938 [02:43<00:00,  5.74it/s]\n"
     ]
    },
    {
     "name": "stdout",
     "output_type": "stream",
     "text": [
      "End of Epoch 4: Train Loss: 0.036533, Test Loss: 0.0007, Accuracy: 9865.00%\n"
     ]
    },
    {
     "name": "stderr",
     "output_type": "stream",
     "text": [
      "100%|██████████| 938/938 [02:43<00:00,  5.73it/s]\n"
     ]
    },
    {
     "name": "stdout",
     "output_type": "stream",
     "text": [
      "End of Epoch 5: Train Loss: 0.028562, Test Loss: 0.0007, Accuracy: 9860.00%\n"
     ]
    },
    {
     "name": "stderr",
     "output_type": "stream",
     "text": [
      "100%|██████████| 938/938 [03:40<00:00,  4.25it/s]  \n"
     ]
    },
    {
     "name": "stdout",
     "output_type": "stream",
     "text": [
      "End of Epoch 6: Train Loss: 0.023387, Test Loss: 0.0006, Accuracy: 9877.00%\n"
     ]
    },
    {
     "name": "stderr",
     "output_type": "stream",
     "text": [
      "100%|██████████| 938/938 [02:56<00:00,  5.32it/s]\n"
     ]
    },
    {
     "name": "stdout",
     "output_type": "stream",
     "text": [
      "End of Epoch 7: Train Loss: 0.019639, Test Loss: 0.0006, Accuracy: 9873.00%\n"
     ]
    },
    {
     "name": "stderr",
     "output_type": "stream",
     "text": [
      "100%|██████████| 938/938 [02:54<00:00,  5.39it/s]\n"
     ]
    },
    {
     "name": "stdout",
     "output_type": "stream",
     "text": [
      "End of Epoch 8: Train Loss: 0.016814, Test Loss: 0.0006, Accuracy: 9881.00%\n"
     ]
    },
    {
     "name": "stderr",
     "output_type": "stream",
     "text": [
      "100%|██████████| 938/938 [02:51<00:00,  5.48it/s]\n"
     ]
    },
    {
     "name": "stdout",
     "output_type": "stream",
     "text": [
      "End of Epoch 9: Train Loss: 0.014806, Test Loss: 0.0006, Accuracy: 9882.00%\n"
     ]
    },
    {
     "name": "stderr",
     "output_type": "stream",
     "text": [
      "100%|██████████| 938/938 [02:52<00:00,  5.43it/s]\n"
     ]
    },
    {
     "name": "stdout",
     "output_type": "stream",
     "text": [
      "End of Epoch 10: Train Loss: 0.013266, Test Loss: 0.0006, Accuracy: 9877.00%\n"
     ]
    }
   ],
   "source": [
    "model_KKAN_Convolutional_Network = KKAN_Convolutional_Network(device = device)\n",
    "model_KKAN_Convolutional_Network.to(device)\n",
    "optimizer_KKAN_Convolutional_Network = optim.AdamW(model_KKAN_Convolutional_Network.parameters(), lr=1e-3, weight_decay=1e-4)\n",
    "scheduler_KKAN_Convolutional_Network = optim.lr_scheduler.ExponentialLR(optimizer_KKAN_Convolutional_Network, gamma=0.8)\n",
    "criterion_KKAN_Convolutional_Network = nn.CrossEntropyLoss()\n",
    "\n",
    "all_train_loss_KKAN_Convolutional_Network, all_test_loss_KKAN_Convolutional_Network, all_test_accuracy_KKAN_Convolutional_Network, all_test_precision_KKAN_Convolutional_Network, all_test_recall_KKAN_Convolutional_Network, all_test_f1_KKAN_Convolutional_Network = train_and_test_models(model_KKAN_Convolutional_Network, device, train_loader, test_loader, optimizer_KKAN_Convolutional_Network, criterion_KKAN_Convolutional_Network, epochs=10, scheduler=scheduler_KKAN_Convolutional_Network)\n"
   ]
  },
  {
   "cell_type": "code",
   "execution_count": 16,
   "metadata": {},
   "outputs": [
    {
     "name": "stderr",
     "output_type": "stream",
     "text": [
      "100%|██████████| 938/938 [02:50<00:00,  5.50it/s]\n"
     ]
    },
    {
     "name": "stdout",
     "output_type": "stream",
     "text": [
      "End of Epoch 1: Train Loss: 0.222111, Test Loss: 0.0012, Accuracy: 9759.00%\n"
     ]
    },
    {
     "name": "stderr",
     "output_type": "stream",
     "text": [
      "100%|██████████| 938/938 [03:00<00:00,  5.19it/s]\n"
     ]
    },
    {
     "name": "stdout",
     "output_type": "stream",
     "text": [
      "End of Epoch 2: Train Loss: 0.070597, Test Loss: 0.0010, Accuracy: 9798.00%\n"
     ]
    },
    {
     "name": "stderr",
     "output_type": "stream",
     "text": [
      "100%|██████████| 938/938 [02:55<00:00,  5.35it/s]\n"
     ]
    },
    {
     "name": "stdout",
     "output_type": "stream",
     "text": [
      "End of Epoch 3: Train Loss: 0.054762, Test Loss: 0.0008, Accuracy: 9835.00%\n"
     ]
    },
    {
     "name": "stderr",
     "output_type": "stream",
     "text": [
      "100%|██████████| 938/938 [02:59<00:00,  5.23it/s]\n"
     ]
    },
    {
     "name": "stdout",
     "output_type": "stream",
     "text": [
      "End of Epoch 4: Train Loss: 0.046318, Test Loss: 0.0007, Accuracy: 9835.00%\n"
     ]
    },
    {
     "name": "stderr",
     "output_type": "stream",
     "text": [
      "100%|██████████| 938/938 [03:08<00:00,  4.97it/s]\n"
     ]
    },
    {
     "name": "stdout",
     "output_type": "stream",
     "text": [
      "End of Epoch 5: Train Loss: 0.040511, Test Loss: 0.0008, Accuracy: 9847.00%\n"
     ]
    },
    {
     "name": "stderr",
     "output_type": "stream",
     "text": [
      "100%|██████████| 938/938 [03:00<00:00,  5.18it/s]\n"
     ]
    },
    {
     "name": "stdout",
     "output_type": "stream",
     "text": [
      "End of Epoch 6: Train Loss: 0.035918, Test Loss: 0.0007, Accuracy: 9850.00%\n"
     ]
    },
    {
     "name": "stderr",
     "output_type": "stream",
     "text": [
      "100%|██████████| 938/938 [03:01<00:00,  5.16it/s]\n"
     ]
    },
    {
     "name": "stdout",
     "output_type": "stream",
     "text": [
      "End of Epoch 7: Train Loss: 0.032204, Test Loss: 0.0007, Accuracy: 9862.00%\n"
     ]
    },
    {
     "name": "stderr",
     "output_type": "stream",
     "text": [
      "100%|██████████| 938/938 [03:02<00:00,  5.13it/s]\n"
     ]
    },
    {
     "name": "stdout",
     "output_type": "stream",
     "text": [
      "End of Epoch 8: Train Loss: 0.029849, Test Loss: 0.0008, Accuracy: 9851.00%\n"
     ]
    },
    {
     "name": "stderr",
     "output_type": "stream",
     "text": [
      "100%|██████████| 938/938 [02:52<00:00,  5.44it/s]\n"
     ]
    },
    {
     "name": "stdout",
     "output_type": "stream",
     "text": [
      "End of Epoch 9: Train Loss: 0.027796, Test Loss: 0.0007, Accuracy: 9857.00%\n"
     ]
    },
    {
     "name": "stderr",
     "output_type": "stream",
     "text": [
      "100%|██████████| 938/938 [02:52<00:00,  5.44it/s]\n"
     ]
    },
    {
     "name": "stdout",
     "output_type": "stream",
     "text": [
      "End of Epoch 10: Train Loss: 0.025835, Test Loss: 0.0007, Accuracy: 9850.00%\n"
     ]
    }
   ],
   "source": [
    "model_KANC_MLP= KANC_MLP(device = device)\n",
    "model_KANC_MLP.to(device)\n",
    "optimizer_KANC_MLP = optim.AdamW(model_KANC_MLP.parameters(), lr=1e-3, weight_decay=1e-4)\n",
    "scheduler_KANC_MLP = optim.lr_scheduler.ExponentialLR(optimizer_KANC_MLP, gamma=0.8)\n",
    "criterion_KANC_MLP = nn.CrossEntropyLoss()\n",
    "\n",
    "all_train_loss_KANC_MLP, all_test_loss_KANC_MLP, all_test_accuracy_KANC_MLP, all_test_precision_KANC_MLP, all_test_recall_KANC_MLP, all_test_f1_KANC_MLP = train_and_test_models(model_KANC_MLP, device, train_loader, test_loader, optimizer_KANC_MLP, criterion_KANC_MLP, epochs=10, scheduler=scheduler_KANC_MLP)\n"
   ]
  },
  {
   "cell_type": "code",
   "execution_count": 18,
   "metadata": {},
   "outputs": [
    {
     "name": "stderr",
     "output_type": "stream",
     "text": [
      "100%|██████████| 938/938 [00:21<00:00, 44.19it/s]\n"
     ]
    },
    {
     "name": "stdout",
     "output_type": "stream",
     "text": [
      "End of Epoch 1: Train Loss: 0.445520, Test Loss: 0.0025, Accuracy: 9544.00%\n"
     ]
    },
    {
     "name": "stderr",
     "output_type": "stream",
     "text": [
      "100%|██████████| 938/938 [00:21<00:00, 43.42it/s]\n"
     ]
    },
    {
     "name": "stdout",
     "output_type": "stream",
     "text": [
      "End of Epoch 2: Train Loss: 0.128280, Test Loss: 0.0016, Accuracy: 9670.00%\n"
     ]
    },
    {
     "name": "stderr",
     "output_type": "stream",
     "text": [
      "100%|██████████| 938/938 [00:20<00:00, 45.69it/s]\n"
     ]
    },
    {
     "name": "stdout",
     "output_type": "stream",
     "text": [
      "End of Epoch 3: Train Loss: 0.098351, Test Loss: 0.0013, Accuracy: 9730.00%\n"
     ]
    },
    {
     "name": "stderr",
     "output_type": "stream",
     "text": [
      "100%|██████████| 938/938 [00:21<00:00, 43.47it/s]\n"
     ]
    },
    {
     "name": "stdout",
     "output_type": "stream",
     "text": [
      "End of Epoch 4: Train Loss: 0.085619, Test Loss: 0.0012, Accuracy: 9744.00%\n"
     ]
    },
    {
     "name": "stderr",
     "output_type": "stream",
     "text": [
      "100%|██████████| 938/938 [00:20<00:00, 46.87it/s]\n"
     ]
    },
    {
     "name": "stdout",
     "output_type": "stream",
     "text": [
      "End of Epoch 5: Train Loss: 0.077765, Test Loss: 0.0012, Accuracy: 9763.00%\n"
     ]
    },
    {
     "name": "stderr",
     "output_type": "stream",
     "text": [
      "100%|██████████| 938/938 [00:19<00:00, 48.06it/s]\n"
     ]
    },
    {
     "name": "stdout",
     "output_type": "stream",
     "text": [
      "End of Epoch 6: Train Loss: 0.072558, Test Loss: 0.0012, Accuracy: 9772.00%\n"
     ]
    },
    {
     "name": "stderr",
     "output_type": "stream",
     "text": [
      "100%|██████████| 938/938 [00:20<00:00, 46.80it/s]\n"
     ]
    },
    {
     "name": "stdout",
     "output_type": "stream",
     "text": [
      "End of Epoch 7: Train Loss: 0.068612, Test Loss: 0.0011, Accuracy: 9776.00%\n"
     ]
    },
    {
     "name": "stderr",
     "output_type": "stream",
     "text": [
      "100%|██████████| 938/938 [00:20<00:00, 45.74it/s]\n"
     ]
    },
    {
     "name": "stdout",
     "output_type": "stream",
     "text": [
      "End of Epoch 8: Train Loss: 0.065873, Test Loss: 0.0011, Accuracy: 9779.00%\n"
     ]
    },
    {
     "name": "stderr",
     "output_type": "stream",
     "text": [
      "100%|██████████| 938/938 [00:20<00:00, 45.99it/s]\n"
     ]
    },
    {
     "name": "stdout",
     "output_type": "stream",
     "text": [
      "End of Epoch 9: Train Loss: 0.063479, Test Loss: 0.0011, Accuracy: 9787.00%\n"
     ]
    },
    {
     "name": "stderr",
     "output_type": "stream",
     "text": [
      "100%|██████████| 938/938 [00:19<00:00, 47.68it/s]\n"
     ]
    },
    {
     "name": "stdout",
     "output_type": "stream",
     "text": [
      "End of Epoch 10: Train Loss: 0.062006, Test Loss: 0.0010, Accuracy: 9781.00%\n"
     ]
    }
   ],
   "source": [
    "model_Convs_and_KAN= NormalConvsKAN()\n",
    "model_Convs_and_KAN.to(device)\n",
    "optimizer_Convs_and_KAN = optim.AdamW(model_Convs_and_KAN.parameters(), lr=1e-3, weight_decay=1e-4)\n",
    "scheduler_Convs_and_KAN = optim.lr_scheduler.ExponentialLR(optimizer_Convs_and_KAN, gamma=0.8)\n",
    "criterion_Convs_and_KAN = nn.CrossEntropyLoss()\n",
    "\n",
    "all_train_loss_Convs_and_KAN, all_test_loss_Convs_and_KAN, all_test_accuracy_Convs_and_KAN, all_test_precision_Convs_and_KAN, all_test_recall_Convs_and_KAN, all_test_f1_Convs_and_KAN = train_and_test_models(model_Convs_and_KAN, device, train_loader, test_loader, optimizer_Convs_and_KAN, criterion_Convs_and_KAN, epochs=10, scheduler=scheduler_Convs_and_KAN)\n"
   ]
  },
  {
   "cell_type": "markdown",
   "metadata": {},
   "source": [
    "## Results"
   ]
  },
  {
   "cell_type": "code",
   "execution_count": 23,
   "metadata": {},
   "outputs": [
    {
     "data": {
      "image/png": "[encoded data removed]",
      "text/plain": [
       "<Figure size 1000x500 with 1 Axes>"
      ]
     },
     "metadata": {},
     "output_type": "display_data"
    },
    {
     "data": {
      "image/png": "[encoded data removed]",
      "text/plain": [
       "<Figure size 1000x500 with 1 Axes>"
      ]
     },
     "metadata": {},
     "output_type": "display_data"
    }
   ],
   "source": [
    "def count_parameters(model):\n",
    "    return sum(p.numel() for p in model.parameters() if p.requires_grad)\n",
    "\n",
    "plt.figure(figsize=(10, 5))\n",
    "plt.plot(all_test_loss_SimpleCNN, label='Loss ConvNet(Small)', color='red')\n",
    "plt.plot(all_test_loss_SimpleLinear, label='Loss 1 Layer & MLP', color='green')\n",
    "plt.plot(all_test_loss_ConvNet, label='Loss ConvNet (Big)', color='purple')\n",
    "plt.plot(all_test_loss_KANC_MLP, label='Loss KANConv & MLP', color='blue')\n",
    "plt.plot(all_test_loss_Convs_and_KAN, label='Loss Conv & KAN', color='gray')\n",
    "# plt.plot(all_test_loss_KKAN_Convolutional_Network, label='Loss KKAN', color='orange')\n",
    "\n",
    "plt.title('Loss Test vs Epochs')\n",
    "plt.xlabel('Epochs')\n",
    "plt.ylabel('Loss')\n",
    "plt.legend()\n",
    "plt.grid(True)\n",
    "plt.show()\n",
    "\n",
    "\n",
    "plt.figure(figsize=(10, 5))\n",
    "plt.scatter(count_parameters(model_SimpleCNN), max(all_test_accuracy_SimpleCNN), color='red', label='ConvNet (Small)')\n",
    "plt.scatter(count_parameters(model_SimpleLinear), max(all_test_accuracy_SimpleLinear), color='green', label='1 Layer MLP')\n",
    "plt.scatter(count_parameters(model_ConvNet), max(all_test_accuracy_ConvNet), color='purple', label='ConvNet (Big)')\n",
    "plt.scatter(count_parameters(model_KANC_MLP), max(all_test_accuracy_KANC_MLP), color='blue', label='KANConv & MLP')\n",
    "plt.scatter(count_parameters(model_Convs_and_KAN), max(all_test_accuracy_Convs_and_KAN), color='grey', label='Convs & KAN')\n",
    "# plt.scatter(count_parameters(model_KKAN_Convolutional_Network), max(all_test_loss_KKAN_Convolutional_Network), color='orange', label='KKAN')\n",
    "\n",
    "plt.title('Number of Parameters vs Accuracy')\n",
    "plt.xlabel('Number of Parameters')\n",
    "plt.ylabel('Accuracy (%)')\n",
    "plt.legend() \n",
    "plt.grid(True)\n",
    "plt.show()\n"
   ]
  },
  {
   "cell_type": "code",
   "execution_count": 36,
   "metadata": {},
   "outputs": [],
   "source": [
    "def highlight_max(s):\n",
    "    is_max = s == s.max()\n",
    "    return ['font-weight: bold' if v else '' for v in is_max]\n",
    "\n",
    "# Listas para acumular datos\n",
    "accs = []\n",
    "precision = []\n",
    "recall = []\n",
    "f1s = []\n",
    "params_counts = []\n",
    "\n",
    "# Modelos y sus métricas correspondientes\n",
    "models = [model_SimpleLinear, model_SimpleCNN, model_ConvNet, model_KANC_MLP, model_Convs_and_KAN, model_KKAN_Convolutional_Network]\n",
    "all_accuracys = [all_test_accuracy_SimpleLinear, all_test_accuracy_SimpleCNN, all_test_accuracy_ConvNet, all_test_accuracy_KANC_MLP, all_test_accuracy_Convs_and_KAN, all_test_accuracy_KKAN_Convolutional_Network]\n",
    "all_precision = [all_test_precision_SimpleLinear, all_test_precision_SimpleCNN, all_test_precision_ConvNet, all_test_precision_KANC_MLP, all_test_precision_Convs_and_KAN, all_test_precision_KKAN_Convolutional_Network]\n",
    "all_recall = [all_test_recall_SimpleLinear, all_test_recall_SimpleCNN, all_test_recall_ConvNet, all_test_recall_KANC_MLP, all_test_recall_Convs_and_KAN, all_test_recall_KKAN_Convolutional_Network]\n",
    "all_f1s = [all_test_f1_SimpleLinear, all_test_f1_SimpleCNN, all_test_f1_ConvNet, all_test_f1_KANC_MLP, all_test_f1_Convs_and_KAN, all_test_f1_KKAN_Convolutional_Network]\n",
    "\n",
    "\n",
    "# Recopilación de datos\n",
    "for i, m in enumerate(models):\n",
    "    index = np.argmax(all_accuracys[i])\n",
    "    params_counts.append(count_parameters(m))\n",
    "    accs.append(all_accuracys[i][index])\n",
    "    precision.append(all_precision[i][index])\n",
    "    recall.append(all_recall[i][index])\n",
    "    f1s.append(all_f1s[i][index])\n",
    "\n",
    "# Creación del DataFrame\n",
    "df = pd.DataFrame({\n",
    "    \"Test Accuracy\": accs,\n",
    "    \"Test Precision\": precision,\n",
    "    \"Test Recall\": recall,\n",
    "    \"Test F1 Score\": f1s,\n",
    "    \"Number of Parameters\": params_counts\n",
    "}, index=[\"1 Layer MLP\", \"ConvNet (Small)\", \"ConvNet (Big)\", \"KANConv & MLP\", \"KANConv & KAN\", \"KKAN\"])\n",
    "\n",
    "df.to_csv('experiment_28x28.csv', index=False)\n",
    "\n",
    "# Aplicando el estilo\n",
    "df_styled = df.style.apply(highlight_max, subset=df.columns[:], axis=1).format('{:.3f}')"
   ]
  },
  {
   "cell_type": "code",
   "execution_count": 37,
   "metadata": {},
   "outputs": [
    {
     "data": {
      "text/html": [
       "<style type=\"text/css\">\n",
       "#T_5d3fe_row0_col4, #T_5d3fe_row1_col4, #T_5d3fe_row2_col4, #T_5d3fe_row3_col4, #T_5d3fe_row4_col4, #T_5d3fe_row5_col4 {\n",
       "  font-weight: bold;\n",
       "}\n",
       "</style>\n",
       "<table id=\"T_5d3fe\">\n",
       "  <thead>\n",
       "    <tr>\n",
       "      <th class=\"blank level0\" >&nbsp;</th>\n",
       "      <th id=\"T_5d3fe_level0_col0\" class=\"col_heading level0 col0\" >Test Accuracy</th>\n",
       "      <th id=\"T_5d3fe_level0_col1\" class=\"col_heading level0 col1\" >Test Precision</th>\n",
       "      <th id=\"T_5d3fe_level0_col2\" class=\"col_heading level0 col2\" >Test Recall</th>\n",
       "      <th id=\"T_5d3fe_level0_col3\" class=\"col_heading level0 col3\" >Test F1 Score</th>\n",
       "      <th id=\"T_5d3fe_level0_col4\" class=\"col_heading level0 col4\" >Number of Parameters</th>\n",
       "    </tr>\n",
       "  </thead>\n",
       "  <tbody>\n",
       "    <tr>\n",
       "      <th id=\"T_5d3fe_level0_row0\" class=\"row_heading level0 row0\" >1 Layer MLP</th>\n",
       "      <td id=\"T_5d3fe_row0_col0\" class=\"data row0 col0\" >0.922</td>\n",
       "      <td id=\"T_5d3fe_row0_col1\" class=\"data row0 col1\" >0.921</td>\n",
       "      <td id=\"T_5d3fe_row0_col2\" class=\"data row0 col2\" >0.921</td>\n",
       "      <td id=\"T_5d3fe_row0_col3\" class=\"data row0 col3\" >0.921</td>\n",
       "      <td id=\"T_5d3fe_row0_col4\" class=\"data row0 col4\" >7850.000</td>\n",
       "    </tr>\n",
       "    <tr>\n",
       "      <th id=\"T_5d3fe_level0_row1\" class=\"row_heading level0 row1\" >ConvNet (Small)</th>\n",
       "      <td id=\"T_5d3fe_row1_col0\" class=\"data row1 col0\" >0.977</td>\n",
       "      <td id=\"T_5d3fe_row1_col1\" class=\"data row1 col1\" >0.977</td>\n",
       "      <td id=\"T_5d3fe_row1_col2\" class=\"data row1 col2\" >0.977</td>\n",
       "      <td id=\"T_5d3fe_row1_col3\" class=\"data row1 col3\" >0.977</td>\n",
       "      <td id=\"T_5d3fe_row1_col4\" class=\"data row1 col4\" >2740.000</td>\n",
       "    </tr>\n",
       "    <tr>\n",
       "      <th id=\"T_5d3fe_level0_row2\" class=\"row_heading level0 row2\" >ConvNet (Big)</th>\n",
       "      <td id=\"T_5d3fe_row2_col0\" class=\"data row2 col0\" >0.995</td>\n",
       "      <td id=\"T_5d3fe_row2_col1\" class=\"data row2 col1\" >0.995</td>\n",
       "      <td id=\"T_5d3fe_row2_col2\" class=\"data row2 col2\" >0.995</td>\n",
       "      <td id=\"T_5d3fe_row2_col3\" class=\"data row2 col3\" >0.995</td>\n",
       "      <td id=\"T_5d3fe_row2_col4\" class=\"data row2 col4\" >887530.000</td>\n",
       "    </tr>\n",
       "    <tr>\n",
       "      <th id=\"T_5d3fe_level0_row3\" class=\"row_heading level0 row3\" >KANConv & MLP</th>\n",
       "      <td id=\"T_5d3fe_row3_col0\" class=\"data row3 col0\" >0.986</td>\n",
       "      <td id=\"T_5d3fe_row3_col1\" class=\"data row3 col1\" >0.986</td>\n",
       "      <td id=\"T_5d3fe_row3_col2\" class=\"data row3 col2\" >0.986</td>\n",
       "      <td id=\"T_5d3fe_row3_col3\" class=\"data row3 col3\" >0.986</td>\n",
       "      <td id=\"T_5d3fe_row3_col4\" class=\"data row3 col4\" >163726.000</td>\n",
       "    </tr>\n",
       "    <tr>\n",
       "      <th id=\"T_5d3fe_level0_row4\" class=\"row_heading level0 row4\" >KANConv & KAN</th>\n",
       "      <td id=\"T_5d3fe_row4_col0\" class=\"data row4 col0\" >0.979</td>\n",
       "      <td id=\"T_5d3fe_row4_col1\" class=\"data row4 col1\" >0.979</td>\n",
       "      <td id=\"T_5d3fe_row4_col2\" class=\"data row4 col2\" >0.979</td>\n",
       "      <td id=\"T_5d3fe_row4_col3\" class=\"data row4 col3\" >0.979</td>\n",
       "      <td id=\"T_5d3fe_row4_col4\" class=\"data row4 col4\" >37030.000</td>\n",
       "    </tr>\n",
       "    <tr>\n",
       "      <th id=\"T_5d3fe_level0_row5\" class=\"row_heading level0 row5\" >KKAN</th>\n",
       "      <td id=\"T_5d3fe_row5_col0\" class=\"data row5 col0\" >0.988</td>\n",
       "      <td id=\"T_5d3fe_row5_col1\" class=\"data row5 col1\" >0.988</td>\n",
       "      <td id=\"T_5d3fe_row5_col2\" class=\"data row5 col2\" >0.988</td>\n",
       "      <td id=\"T_5d3fe_row5_col3\" class=\"data row5 col3\" >0.988</td>\n",
       "      <td id=\"T_5d3fe_row5_col4\" class=\"data row5 col4\" >94650.000</td>\n",
       "    </tr>\n",
       "  </tbody>\n",
       "</table>\n"
      ],
      "text/plain": [
       "<pandas.io.formats.style.Styler at 0x278d7d6d580>"
      ]
     },
     "execution_count": 37,
     "metadata": {},
     "output_type": "execute_result"
    }
   ],
   "source": [
    "df_styled"
   ]
  },
  {
   "cell_type": "code",
   "execution_count": 38,
   "metadata": {},
   "outputs": [
    {
     "data": {
      "text/latex": [
       "```latex\n",
       "\\begin{tabular}{lrrrrr}\n",
       " & Test Accuracy & Test Precision & Test Recall & Test F1 Score & Number of Parameters \\\\\n",
       "1 Layer MLP & 0.922 & 0.921 & 0.921 & 0.921 & \\font-weightbold 7850.000 \\\\\n",
       "ConvNet (Small) & 0.977 & 0.977 & 0.977 & 0.977 & \\font-weightbold 2740.000 \\\\\n",
       "ConvNet (Big) & 0.995 & 0.995 & 0.995 & 0.995 & \\font-weightbold 887530.000 \\\\\n",
       "KANConv & MLP & 0.986 & 0.986 & 0.986 & 0.986 & \\font-weightbold 163726.000 \\\\\n",
       "KANConv & KAN & 0.979 & 0.979 & 0.979 & 0.979 & \\font-weightbold 37030.000 \\\\\n",
       "KKAN & 0.988 & 0.988 & 0.988 & 0.988 & \\font-weightbold 94650.000 \\\\\n",
       "\\end{tabular}\n",
       "\n",
       "```"
      ],
      "text/plain": [
       "<IPython.core.display.Latex object>"
      ]
     },
     "metadata": {},
     "output_type": "display_data"
    }
   ],
   "source": [
    "latex_table = df_styled.to_latex()\n",
    "\n",
    "from IPython.display import display, Latex\n",
    "\n",
    "display(Latex(f\"```latex\\n{latex_table}\\n```\"))"
   ]
  }
 ],
 "metadata": {
  "kernelspec": {
   "display_name": "ckan",
   "language": "python",
   "name": "python3"
  },
  "language_info": {
   "codemirror_mode": {
    "name": "ipython",
    "version": 3
   },
   "file_extension": ".py",
   "mimetype": "text/x-python",
   "name": "python",
   "nbconvert_exporter": "python",
   "pygments_lexer": "ipython3",
   "version": "3.9.7"
  }
 },
 "nbformat": 4,
 "nbformat_minor": 2
}
